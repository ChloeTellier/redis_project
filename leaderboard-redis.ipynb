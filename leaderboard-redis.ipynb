{
 "cells": [
  {
   "cell_type": "code",
   "execution_count": null,
   "metadata": {},
   "outputs": [],
   "source": [
    "# install the necessary modules : replace conda by pip if you are using this package manager\n",
    "conda install redis\n",
    "conda install pandas\n",
    "conda install numpy\n",
    "conda install scipy\n",
    "conda install seaborn"
   ]
  },
  {
   "cell_type": "code",
   "execution_count": 1,
   "metadata": {},
   "outputs": [],
   "source": [
    "#import the redis client to communicate with\n",
    "import redis\n",
    "import numpy\n",
    "import scipy\n",
    "import random\n",
    "import pprint\n",
    "import json\n",
    "import pandas as pd\n",
    "import seaborn as sns\n",
    "import time"
   ]
  },
  {
   "cell_type": "code",
   "execution_count": 2,
   "metadata": {},
   "outputs": [],
   "source": [
    "# Define our connection information for Redis\n",
    "\n",
    "redis_host = \"127.0.0.1\"\n",
    "redis_port = 6379"
   ]
  },
  {
   "cell_type": "code",
   "execution_count": 3,
   "metadata": {},
   "outputs": [],
   "source": [
    "# Create connection object with :\n",
    "# - the host, i.e the local name where the redis server is running\n",
    "# - the port of redis server to communicate, default = 6379\n",
    "# - the database number we want to work with, here we use the first one\n",
    "\n",
    "r = redis.Redis(host=redis_host, port=redis_port, db = 0)"
   ]
  },
  {
   "cell_type": "code",
   "execution_count": 4,
   "metadata": {},
   "outputs": [
    {
     "data": {
      "text/plain": [
       "[{'id': 0, 'score': 0, 'nb_parties': 0},\n",
       " {'id': 1, 'score': 0, 'nb_parties': 0},\n",
       " {'id': 2, 'score': 0, 'nb_parties': 0},\n",
       " {'id': 3, 'score': 0, 'nb_parties': 0},\n",
       " {'id': 4, 'score': 0, 'nb_parties': 0}]"
      ]
     },
     "execution_count": 4,
     "metadata": {},
     "output_type": "execute_result"
    }
   ],
   "source": [
    "## Create dataset\n",
    "\n",
    "random.seed(444)\n",
    "\n",
    "# Attributs des joueurs : id, score, nb_parties\n",
    "\n",
    "# Création du JDD\n",
    "\n",
    "players = []\n",
    "\n",
    "tps1 = time.perf_counter()\n",
    "\n",
    "for i in range(0, 100):\n",
    "    id = i\n",
    "    score = 0\n",
    "    nb_parties = 0\n",
    "    player = {'id':id, 'score':score, 'nb_parties':nb_parties}\n",
    "    players.append(player)\n",
    "\n",
    "tps2 = time.perf_counter()\n",
    "players[0:5]"
   ]
  },
  {
   "cell_type": "code",
   "execution_count": 60,
   "metadata": {},
   "outputs": [],
   "source": [
    "# on crée un certain nbr de joueurs avec un score initial en utilisant le dataset crée plus haut\n",
    "gamers = [str(\"player\")+str(i) for i in range(1,10)]\n",
    "\n",
    "for gamer in players:\n",
    "    r.zincrby(\"leaderboard1\",random.randint(1,100),json.dumps(gamer))\n",
    "    "
   ]
  },
  {
   "cell_type": "code",
   "execution_count": 61,
   "metadata": {},
   "outputs": [
    {
     "data": {
      "text/plain": [
       "[(b'{\"id\": 44, \"score\": 0, \"nb_parties\": 0}', 488.0),\n",
       " (b'{\"id\": 76, \"score\": 0, \"nb_parties\": 0}', 458.0),\n",
       " (b'{\"id\": 43, \"score\": 0, \"nb_parties\": 0}', 457.0),\n",
       " (b'{\"id\": 14, \"score\": 0, \"nb_parties\": 0}', 451.0),\n",
       " (b'{\"id\": 26, \"score\": 0, \"nb_parties\": 0}', 448.0),\n",
       " (b'{\"id\": 55, \"score\": 0, \"nb_parties\": 0}', 437.0)]"
      ]
     },
     "execution_count": 61,
     "metadata": {},
     "output_type": "execute_result"
    }
   ],
   "source": [
    "r.zrange(\"leaderboard1\",0,5,desc=True,withscores=True)\n"
   ]
  },
  {
   "cell_type": "code",
   "execution_count": 57,
   "metadata": {},
   "outputs": [
    {
     "name": "stdout",
     "output_type": "stream",
     "text": [
      "b'{\"id\": 44, \"score\": 0, \"nb_parties\": 0}' 439.0\n",
      "b'{\"id\": 80, \"score\": 0, \"nb_parties\": 0}' 393.0\n",
      "b'{\"id\": 98, \"score\": 0, \"nb_parties\": 0}' 379.0\n",
      "b'{\"id\": 14, \"score\": 0, \"nb_parties\": 0}' 373.0\n",
      "b'{\"id\": 76, \"score\": 0, \"nb_parties\": 0}' 364.0\n",
      "b'{\"id\": 37, \"score\": 0, \"nb_parties\": 0}' 363.0\n",
      "b'{\"id\": 26, \"score\": 0, \"nb_parties\": 0}' 361.0\n",
      "b'{\"id\": 43, \"score\": 0, \"nb_parties\": 0}' 360.0\n",
      "b'{\"id\": 55, \"score\": 0, \"nb_parties\": 0}' 341.0\n",
      "b'{\"id\": 50, \"score\": 0, \"nb_parties\": 0}' 337.0\n",
      "b'{\"id\": 54, \"score\": 0, \"nb_parties\": 0}' 334.0\n",
      "b'{\"id\": 75, \"score\": 0, \"nb_parties\": 0}' 331.0\n",
      "b'{\"id\": 18, \"score\": 0, \"nb_parties\": 0}' 331.0\n",
      "b'{\"id\": 39, \"score\": 0, \"nb_parties\": 0}' 328.0\n",
      "b'{\"id\": 38, \"score\": 0, \"nb_parties\": 0}' 327.0\n",
      "b'{\"id\": 74, \"score\": 0, \"nb_parties\": 0}' 320.0\n",
      "b'{\"id\": 51, \"score\": 0, \"nb_parties\": 0}' 316.0\n",
      "b'{\"id\": 8, \"score\": 0, \"nb_parties\": 0}' 315.0\n",
      "b'{\"id\": 30, \"score\": 0, \"nb_parties\": 0}' 315.0\n",
      "b'{\"id\": 78, \"score\": 0, \"nb_parties\": 0}' 312.0\n",
      "b'{\"id\": 6, \"score\": 0, \"nb_parties\": 0}' 311.0\n",
      "b'{\"id\": 63, \"score\": 0, \"nb_parties\": 0}' 309.0\n",
      "b'{\"id\": 57, \"score\": 0, \"nb_parties\": 0}' 306.0\n",
      "b'{\"id\": 92, \"score\": 0, \"nb_parties\": 0}' 305.0\n",
      "b'{\"id\": 69, \"score\": 0, \"nb_parties\": 0}' 304.0\n",
      "b'{\"id\": 1, \"score\": 0, \"nb_parties\": 0}' 302.0\n",
      "b'{\"id\": 64, \"score\": 0, \"nb_parties\": 0}' 299.0\n",
      "b'{\"id\": 53, \"score\": 0, \"nb_parties\": 0}' 298.0\n",
      "b'{\"id\": 93, \"score\": 0, \"nb_parties\": 0}' 293.0\n",
      "b'{\"id\": 71, \"score\": 0, \"nb_parties\": 0}' 293.0\n",
      "b'{\"id\": 2, \"score\": 0, \"nb_parties\": 0}' 291.0\n",
      "b'{\"id\": 34, \"score\": 0, \"nb_parties\": 0}' 286.0\n",
      "b'{\"id\": 45, \"score\": 0, \"nb_parties\": 0}' 285.0\n",
      "b'{\"id\": 89, \"score\": 0, \"nb_parties\": 0}' 283.0\n",
      "b'{\"id\": 16, \"score\": 0, \"nb_parties\": 0}' 282.0\n",
      "b'{\"id\": 99, \"score\": 0, \"nb_parties\": 0}' 281.0\n",
      "b'{\"id\": 4, \"score\": 0, \"nb_parties\": 0}' 279.0\n",
      "b'{\"id\": 66, \"score\": 0, \"nb_parties\": 0}' 273.0\n",
      "b'{\"id\": 97, \"score\": 0, \"nb_parties\": 0}' 268.0\n",
      "b'{\"id\": 73, \"score\": 0, \"nb_parties\": 0}' 265.0\n",
      "b'{\"id\": 36, \"score\": 0, \"nb_parties\": 0}' 265.0\n",
      "b'{\"id\": 95, \"score\": 0, \"nb_parties\": 0}' 263.0\n",
      "b'{\"id\": 28, \"score\": 0, \"nb_parties\": 0}' 262.0\n",
      "b'{\"id\": 23, \"score\": 0, \"nb_parties\": 0}' 262.0\n",
      "b'{\"id\": 21, \"score\": 0, \"nb_parties\": 0}' 262.0\n",
      "b'{\"id\": 7, \"score\": 0, \"nb_parties\": 0}' 261.0\n",
      "b'{\"id\": 3, \"score\": 0, \"nb_parties\": 0}' 260.0\n",
      "b'{\"id\": 90, \"score\": 0, \"nb_parties\": 0}' 259.0\n",
      "b'{\"id\": 67, \"score\": 0, \"nb_parties\": 0}' 259.0\n",
      "b'{\"id\": 25, \"score\": 0, \"nb_parties\": 0}' 259.0\n",
      "b'{\"id\": 82, \"score\": 0, \"nb_parties\": 0}' 258.0\n",
      "b'{\"id\": 35, \"score\": 0, \"nb_parties\": 0}' 258.0\n",
      "b'{\"id\": 96, \"score\": 0, \"nb_parties\": 0}' 257.0\n",
      "b'{\"id\": 56, \"score\": 0, \"nb_parties\": 0}' 256.0\n",
      "b'{\"id\": 33, \"score\": 0, \"nb_parties\": 0}' 255.0\n",
      "b'{\"id\": 84, \"score\": 0, \"nb_parties\": 0}' 253.0\n",
      "b'{\"id\": 41, \"score\": 0, \"nb_parties\": 0}' 252.0\n",
      "b'{\"id\": 0, \"score\": 0, \"nb_parties\": 0}' 250.0\n",
      "b'{\"id\": 72, \"score\": 0, \"nb_parties\": 0}' 248.0\n",
      "b'{\"id\": 11, \"score\": 0, \"nb_parties\": 0}' 248.0\n",
      "b'{\"id\": 52, \"score\": 0, \"nb_parties\": 0}' 247.0\n",
      "b'{\"id\": 70, \"score\": 0, \"nb_parties\": 0}' 244.0\n",
      "b'{\"id\": 61, \"score\": 0, \"nb_parties\": 0}' 236.0\n",
      "b'{\"id\": 29, \"score\": 0, \"nb_parties\": 0}' 235.0\n",
      "b'{\"id\": 77, \"score\": 0, \"nb_parties\": 0}' 232.0\n",
      "b'{\"id\": 10, \"score\": 0, \"nb_parties\": 0}' 228.0\n",
      "b'{\"id\": 88, \"score\": 0, \"nb_parties\": 0}' 226.0\n",
      "b'{\"id\": 58, \"score\": 0, \"nb_parties\": 0}' 225.0\n",
      "b'{\"id\": 15, \"score\": 0, \"nb_parties\": 0}' 225.0\n",
      "b'{\"id\": 13, \"score\": 0, \"nb_parties\": 0}' 225.0\n",
      "b'{\"id\": 40, \"score\": 0, \"nb_parties\": 0}' 223.0\n",
      "b'{\"id\": 31, \"score\": 0, \"nb_parties\": 0}' 223.0\n",
      "b'{\"id\": 85, \"score\": 0, \"nb_parties\": 0}' 222.0\n",
      "b'{\"id\": 24, \"score\": 0, \"nb_parties\": 0}' 222.0\n",
      "b'{\"id\": 83, \"score\": 0, \"nb_parties\": 0}' 219.0\n",
      "b'{\"id\": 87, \"score\": 0, \"nb_parties\": 0}' 217.0\n",
      "b'{\"id\": 79, \"score\": 0, \"nb_parties\": 0}' 214.0\n",
      "b'{\"id\": 17, \"score\": 0, \"nb_parties\": 0}' 214.0\n",
      "b'{\"id\": 42, \"score\": 0, \"nb_parties\": 0}' 209.0\n",
      "b'{\"id\": 20, \"score\": 0, \"nb_parties\": 0}' 209.0\n",
      "b'{\"id\": 60, \"score\": 0, \"nb_parties\": 0}' 208.0\n",
      "b'{\"id\": 94, \"score\": 0, \"nb_parties\": 0}' 207.0\n",
      "b'{\"id\": 12, \"score\": 0, \"nb_parties\": 0}' 207.0\n",
      "b'{\"id\": 91, \"score\": 0, \"nb_parties\": 0}' 201.0\n",
      "b'{\"id\": 65, \"score\": 0, \"nb_parties\": 0}' 199.0\n",
      "b'{\"id\": 62, \"score\": 0, \"nb_parties\": 0}' 193.0\n",
      "b'{\"id\": 46, \"score\": 0, \"nb_parties\": 0}' 193.0\n",
      "b'{\"id\": 68, \"score\": 0, \"nb_parties\": 0}' 190.0\n",
      "b'{\"id\": 22, \"score\": 0, \"nb_parties\": 0}' 190.0\n",
      "b'{\"id\": 86, \"score\": 0, \"nb_parties\": 0}' 182.0\n",
      "b'{\"id\": 49, \"score\": 0, \"nb_parties\": 0}' 179.0\n",
      "b'{\"id\": 81, \"score\": 0, \"nb_parties\": 0}' 159.0\n",
      "b'{\"id\": 48, \"score\": 0, \"nb_parties\": 0}' 154.0\n",
      "b'{\"id\": 59, \"score\": 0, \"nb_parties\": 0}' 153.0\n",
      "b'{\"id\": 9, \"score\": 0, \"nb_parties\": 0}' 152.0\n",
      "b'{\"id\": 5, \"score\": 0, \"nb_parties\": 0}' 151.0\n",
      "b'{\"id\": 47, \"score\": 0, \"nb_parties\": 0}' 135.0\n",
      "b'{\"id\": 27, \"score\": 0, \"nb_parties\": 0}' 135.0\n",
      "b'{\"id\": 19, \"score\": 0, \"nb_parties\": 0}' 125.0\n",
      "b'{\"id\": 32, \"score\": 0, \"nb_parties\": 0}' 100.0\n"
     ]
    }
   ],
   "source": [
    "# on obtient le classement des joueurs pour la première partie \n",
    "table_to_print = r.zrange(\"leaderboard1\", 0, -1, desc=True, withscores=True)\n",
    "for player in table_to_print:\n",
    "    print(player[0],player[1])"
   ]
  },
  {
   "cell_type": "code",
   "execution_count": 63,
   "metadata": {},
   "outputs": [],
   "source": [
    "# sinon on fonctionne autrement et on utilise un système de classement simple où l'on fait quelques requêtes comme ceci\n",
    "\n",
    "player_simple = [str(\"player\")+str(i) for i in range(1,10)]\n",
    "\n",
    "for player in player_simple:\n",
    "    r.zincrby('leaderboard2',random.randint(1,1000),player)"
   ]
  },
  {
   "cell_type": "code",
   "execution_count": 79,
   "metadata": {},
   "outputs": [
    {
     "data": {
      "text/plain": [
       "[(b'player8', 144.0),\n",
       " (b'player2', 151.0),\n",
       " (b'player1', 277.0),\n",
       " (b'player5', 345.0),\n",
       " (b'player3', 408.0),\n",
       " (b'player9', 451.0)]"
      ]
     },
     "execution_count": 79,
     "metadata": {},
     "output_type": "execute_result"
    }
   ],
   "source": [
    "t = r.zrange('leaderboard2',0,5,withscores=True)\n",
    "t"
   ]
  },
  {
   "cell_type": "code",
   "execution_count": 71,
   "metadata": {},
   "outputs": [
    {
     "data": {
      "text/plain": [
       "8"
      ]
     },
     "execution_count": 71,
     "metadata": {},
     "output_type": "execute_result"
    }
   ],
   "source": [
    "# obtenir le rang d'un joueur sein d'un classement\n",
    "r.zrevrank('leaderboard2','player2')+1"
   ]
  },
  {
   "cell_type": "code",
   "execution_count": 72,
   "metadata": {},
   "outputs": [
    {
     "data": {
      "text/plain": [
       "82.0"
      ]
     },
     "execution_count": 72,
     "metadata": {},
     "output_type": "execute_result"
    }
   ],
   "source": [
    "# obtenir le score du joueur au sein du classement\n",
    "r.zscore('leaderboard2','player2')"
   ]
  },
  {
   "cell_type": "code",
   "execution_count": 76,
   "metadata": {},
   "outputs": [],
   "source": [
    "# ensuite on peux travailler à partir ce ce dataset simple et d'incrémenter les valeurs pour chaque joueurs par ex\n",
    "\n",
    "# ici les joueurs peuvent améliorer leur score de 50 au max lors de leur 2eme partie \n",
    "for player in player_simple:\n",
    "    r.zincrby('leaderboard2',random.randint(1,50),player)\n",
    "\n",
    "\n",
    "\n",
    "\n"
   ]
  },
  {
   "cell_type": "code",
   "execution_count": 34,
   "metadata": {},
   "outputs": [
    {
     "name": "stderr",
     "output_type": "stream",
     "text": [
      "<ipython-input-34-3107034427e3>:13: DeprecationWarning: Redis.hmset() is deprecated. Use Redis.hset() instead.\n",
      "  r.hmset(name,players[player])\n"
     ]
    }
   ],
   "source": [
    "# create datasets : leaderboard rankings \n",
    "\n",
    "leaderboardName = 'leaderboard1'\n",
    "\n",
    "# add scores in the database\n",
    "#for player in players:\n",
    " #   r.hmset(leaderboardName,player)\n",
    "\n",
    "    \n",
    "with r.pipeline() as pipe: \n",
    "    for player in range(len(players)):\n",
    "        name=str(\"player\")+str(player)\n",
    "        r.hmset(name,players[player])"
   ]
  },
  {
   "cell_type": "code",
   "execution_count": 46,
   "metadata": {},
   "outputs": [
    {
     "data": {
      "text/plain": [
       "{b'id': b'1', b'score': b'0', b'nb_parties': b'0'}"
      ]
     },
     "execution_count": 46,
     "metadata": {},
     "output_type": "execute_result"
    }
   ],
   "source": [
    "\n",
    "r.hgetall(\"player1\")\n",
    "\n",
    "\n",
    "\n"
   ]
  },
  {
   "cell_type": "code",
   "execution_count": null,
   "metadata": {},
   "outputs": [],
   "source": []
  }
 ],
 "metadata": {
  "kernelspec": {
   "display_name": "Python 3",
   "language": "python",
   "name": "python3"
  },
  "language_info": {
   "codemirror_mode": {
    "name": "ipython",
    "version": 3
   },
   "file_extension": ".py",
   "mimetype": "text/x-python",
   "name": "python",
   "nbconvert_exporter": "python",
   "pygments_lexer": "ipython3",
   "version": "3.8.3"
  }
 },
 "nbformat": 4,
 "nbformat_minor": 4
}
