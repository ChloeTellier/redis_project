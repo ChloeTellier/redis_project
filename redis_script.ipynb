{
 "cells": [
  {
   "cell_type": "markdown",
   "metadata": {},
   "source": [
    "# Redis database\n",
    "## livrables : \n",
    "## - ce notebook jupyter avec le projet réalisé et quelques explications \n",
    "## - un fichier *projet.py*  avec le code commenté pour exécuter facilement le programme\n"
   ]
  },
  {
   "cell_type": "markdown",
   "metadata": {},
   "source": [
    "# A bit of context : what is Redis ?"
   ]
  },
  {
   "cell_type": "markdown",
   "metadata": {},
   "source": [
    "Redis, which stands for REmote DIctionary Server, is a BSD-licensed, in-memory data structure store released in 2009 by Salvatore Sanfilippo. \n",
    "\n",
    "One of the big differences between Redis and other NoSQL databases is the data structures that Redis provides. Instead of working with a table abstraction, Redis developers can leverage data structures like strings, hashes, lists, sets, and sorted sets using commands similar to the collection operations in most programming languages. \n",
    "\n",
    "Redis has replication capabilities, a server-side scripting language (Lua), transactions, and different modes of disk persistence."
   ]
  },
  {
   "cell_type": "markdown",
   "metadata": {},
   "source": [
    "ex : système pour gérer els incrémentation lors de connexion sur srveeur/page web simultanée etc.. gère bien ça\n",
    "\n",
    "gere automatiquement l'expiration des informations7\n",
    "\n",
    "système de persistance :\n",
    "- RDB : on crée un dump file en .rdb qui est sauvegardé et qui peux etre rechargé \n",
    "- AOF : ??? a voir\n"
   ]
  },
  {
   "cell_type": "markdown",
   "metadata": {},
   "source": [
    "## One of the reasons that Redis is so fast in both read and write operations is that the database is held in memory (RAM) on the server"
   ]
  },
  {
   "cell_type": "markdown",
   "metadata": {},
   "source": [
    "Expliquer histoire de redis les points clés et différences par rapport aux autres sql :\n",
    "   - cache et session bonne gestion\n",
    "   - systeme cle-valeur avancé incr, decincr etc.. pas mal puissant\n",
    "    "
   ]
  },
  {
   "cell_type": "markdown",
   "metadata": {},
   "source": [
    "## Brief explanation on redis commands : [nice tutorial](https://try.redis.io/?_ga=2.15710581.2114473602.1604997184-1839395559.1604575298)\n"
   ]
  },
  {
   "cell_type": "markdown",
   "metadata": {},
   "source": [
    "## First, we have to install the necessary libraries for analyses :"
   ]
  },
  {
   "cell_type": "code",
   "execution_count": 62,
   "metadata": {},
   "outputs": [
    {
     "ename": "SyntaxError",
     "evalue": "invalid syntax (<ipython-input-62-adf04bb8c0e9>, line 3)",
     "output_type": "error",
     "traceback": [
      "\u001b[0;36m  File \u001b[0;32m\"<ipython-input-62-adf04bb8c0e9>\"\u001b[0;36m, line \u001b[0;32m3\u001b[0m\n\u001b[0;31m    pip install pandas\u001b[0m\n\u001b[0m        ^\u001b[0m\n\u001b[0;31mSyntaxError\u001b[0m\u001b[0;31m:\u001b[0m invalid syntax\n"
     ]
    }
   ],
   "source": [
    "# install the necessary modules : replace conda by pip if you are using this package manager\n",
    "conda install redis\n",
    "conda install pandas\n",
    "conda install numpy\n",
    "conda install scipy\n",
    "conda install seaborn"
   ]
  },
  {
   "cell_type": "code",
   "execution_count": 154,
   "metadata": {},
   "outputs": [
    {
     "name": "stdout",
     "output_type": "stream",
     "text": [
      "Collecting package metadata (current_repodata.json): done\n",
      "Solving environment: done\n",
      "\n",
      "# All requested packages already installed.\n",
      "\n",
      "\n",
      "Note: you may need to restart the kernel to use updated packages.\n"
     ]
    }
   ],
   "source": [
    "conda install seaborn"
   ]
  },
  {
   "cell_type": "markdown",
   "metadata": {},
   "source": [
    "## Then, need to import the necessary libraries :"
   ]
  },
  {
   "cell_type": "code",
   "execution_count": 6,
   "metadata": {},
   "outputs": [],
   "source": [
    "#import the redis client to communicate with\n",
    "import redis\n",
    "import numpy\n",
    "import scipy\n",
    "import random\n",
    "import pprint\n",
    "import json\n",
    "import pandas\n",
    "import seaborn as sns\n"
   ]
  },
  {
   "cell_type": "markdown",
   "metadata": {},
   "source": [
    "## Connection\n",
    "As previous databases, we need to open a connection with the Redis server to communicate with and execute code in a python script."
   ]
  },
  {
   "cell_type": "code",
   "execution_count": 7,
   "metadata": {},
   "outputs": [],
   "source": [
    "# Define our connection information for Redis\n",
    "\n",
    "redis_host = \"127.0.0.1\"\n",
    "redis_port = 6379\n"
   ]
  },
  {
   "cell_type": "code",
   "execution_count": 8,
   "metadata": {},
   "outputs": [],
   "source": [
    "# Create connection object with :\n",
    "# - the host, i.e the local name where the redis server is running\n",
    "# - the port of redis server to communicate, default = 6379\n",
    "# - the database number we want to work with, here we use the first one\n",
    "\n",
    "r = redis.Redis(host=redis_host, port=redis_port, db = 0)"
   ]
  },
  {
   "cell_type": "markdown",
   "metadata": {},
   "source": [
    "## Now we're all set to start the analyse of the project !"
   ]
  },
  {
   "cell_type": "markdown",
   "metadata": {},
   "source": [
    "## Few requests to understand Redis grammar in python"
   ]
  },
  {
   "cell_type": "code",
   "execution_count": null,
   "metadata": {},
   "outputs": [],
   "source": []
  },
  {
   "cell_type": "code",
   "execution_count": null,
   "metadata": {},
   "outputs": [],
   "source": []
  },
  {
   "cell_type": "markdown",
   "metadata": {},
   "source": [
    "# Use case to understand Redis power : selling sushi on an online website"
   ]
  },
  {
   "cell_type": "markdown",
   "metadata": {},
   "source": [
    "It’s day one for the site, and we’re going to be selling three limited-edition hats. Each hat gets held in a Redis hash of field-value pairs, and the hash has a key that is a prefixed random integer , such as hat:56854717. Using the hat: prefix is Redis convention for creating a sort of namespace within a Redis database:"
   ]
  },
  {
   "cell_type": "markdown",
   "metadata": {},
   "source": [
    "We create a small datasets with 3 differents hats"
   ]
  },
  {
   "cell_type": "code",
   "execution_count": 9,
   "metadata": {},
   "outputs": [
    {
     "name": "stdout",
     "output_type": "stream",
     "text": [
      "{'hat:3': {'color': 'green',\n",
      "           'npurchased': 0,\n",
      "           'price': 99.99,\n",
      "           'quantity': 200,\n",
      "           'style': 'baseball'},\n",
      " 'hat:73': {'color': 'maroon',\n",
      "            'npurchased': 0,\n",
      "            'price': 59.99,\n",
      "            'quantity': 500,\n",
      "            'style': 'hipster'},\n",
      " 'hat:79': {'color': 'black',\n",
      "            'npurchased': 0,\n",
      "            'price': 49.99,\n",
      "            'quantity': 1000,\n",
      "            'style': 'fitted'}}\n"
     ]
    }
   ],
   "source": [
    "\n",
    "random.seed(444)\n",
    "hats = {f\"hat:{random.getrandbits(8)}\": i for i in (\n",
    "    {\n",
    "        \"color\": \"black\",\n",
    "        \"price\": 49.99,\n",
    "        \"style\": \"fitted\",\n",
    "        \"quantity\": 1000,\n",
    "        \"npurchased\": 0,\n",
    "    },\n",
    "    {\n",
    "        \"color\": \"maroon\",\n",
    "        \"price\": 59.99,\n",
    "        \"style\": \"hipster\",\n",
    "        \"quantity\": 500,\n",
    "        \"npurchased\": 0,\n",
    "    },\n",
    "    {\n",
    "        \"color\": \"green\",\n",
    "        \"price\": 99.99,\n",
    "        \"style\": \"baseball\",\n",
    "        \"quantity\": 200,\n",
    "        \"npurchased\": 0,\n",
    "    })\n",
    "}\n",
    "pprint.pprint(hats)"
   ]
  },
  {
   "cell_type": "markdown",
   "metadata": {},
   "source": [
    "### Now, we need to add them in the redis database thanks to server pipeline execution :"
   ]
  },
  {
   "cell_type": "code",
   "execution_count": 11,
   "metadata": {},
   "outputs": [
    {
     "name": "stderr",
     "output_type": "stream",
     "text": [
      "<ipython-input-11-2a1a06282495>:3: DeprecationWarning: Pipeline.hmset() is deprecated. Use Pipeline.hset() instead.\n",
      "  pipe.hmset(h_id, hat)\n"
     ]
    },
    {
     "data": {
      "text/plain": [
       "True"
      ]
     },
     "execution_count": 11,
     "metadata": {},
     "output_type": "execute_result"
    }
   ],
   "source": [
    "with r.pipeline() as pipe:\n",
    "    for h_id, hat in hats.items():\n",
    "        pipe.hmset(h_id, hat)\n",
    "    pipe.execute()\n",
    "    \n",
    "r.bgsave()"
   ]
  },
  {
   "cell_type": "markdown",
   "metadata": {},
   "source": [
    "On regarde ce qu'il y a dans notre premier chapeau de notre objet hats"
   ]
  },
  {
   "cell_type": "code",
   "execution_count": 12,
   "metadata": {},
   "outputs": [
    {
     "name": "stdout",
     "output_type": "stream",
     "text": [
      "{b'color': b'maroon', b'price': b'59.99', b'style': b'hipster', b'quantity': b'500', b'npurchased': b'0'}\n"
     ]
    }
   ],
   "source": [
    "print(r.hgetall(\"hat:73\"))"
   ]
  },
  {
   "cell_type": "markdown",
   "metadata": {},
   "source": [
    "On regarde ce qu'il se passe si on modifie l'incrémentation des chapeaux comme si qqn achete un chapeau :\n",
    "- la quantité diminue\n",
    "- le nombre d'achat augmente \n",
    "\n",
    "Si vous répétez les commandes vous verrez "
   ]
  },
  {
   "cell_type": "code",
   "execution_count": 13,
   "metadata": {},
   "outputs": [
    {
     "data": {
      "text/plain": [
       "1"
      ]
     },
     "execution_count": 13,
     "metadata": {},
     "output_type": "execute_result"
    }
   ],
   "source": [
    "r.hincrby(\"hat:3\", \"quantity\", -1)\n",
    "r.hincrby(\"hat:3\", \"npurchased\", 1)"
   ]
  },
  {
   "cell_type": "code",
   "execution_count": 14,
   "metadata": {},
   "outputs": [
    {
     "data": {
      "text/plain": [
       "b'1'"
      ]
     },
     "execution_count": 14,
     "metadata": {},
     "output_type": "execute_result"
    }
   ],
   "source": [
    "r.hget(\"hat:3\", \"npurchased\")"
   ]
  },
  {
   "cell_type": "markdown",
   "metadata": {},
   "source": [
    "It isn’t really that simple, though. Changing the quantity and npurchased in two lines of code hides the reality that a click, purchase, and payment entails more than this. We need to do a few more checks to make sure we don’t leave someone with a lighter wallet and no hat:\n",
    " - Step 1: Check if the item is in stock, or otherwise raise an exception on the backend.\n",
    " - Step 2: If it is in stock, then execute the transaction, decrease the quantity field, and increase the npurchased field.\n",
    " - Step 3: Be alert for any changes that alter the inventory in between the first two steps (a race condition).\n"
   ]
  },
  {
   "cell_type": "code",
   "execution_count": 38,
   "metadata": {
    "scrolled": false
   },
   "outputs": [
    {
     "name": "stdout",
     "output_type": "stream",
     "text": [
      "0.0011938889999782987\n"
     ]
    }
   ],
   "source": [
    "## Création du JDD sushis\n",
    "\n",
    "import random\n",
    "import time\n",
    "random.seed(444)\n",
    "\n",
    "# Attributs avec plus de 2 modalités\n",
    "type = ['sushi', 'sashimi', 'maki']\n",
    "prix = [4.5, 4.8, 5, 5.2, 5.5, 5.8, 6, 6.4, 6.5, 6.7, 7, 7.5, 8, 8.8, 9.2]\n",
    "stock_magasin1 = [0, 20, 30, 40, 50, 100, 200, 300, 500, 800]\n",
    "stock_magasin2 = [0, 20, 30, 40, 50, 100, 200, 300, 500, 800]\n",
    "stock_magasin3 = [0, 20, 30, 40, 50, 100, 200, 300, 500, 800]\n",
    "stock_magasin4 = [0, 20, 30, 40, 50, 100, 200, 300, 500, 800]\n",
    "stock_magasin5 = [0, 20, 30, 40, 50, 100, 200, 300, 500, 800]\n",
    "\n",
    "# Attributs avec 2 modalités : les ingrédients\n",
    "saumon = ['Oui', 'Non']\n",
    "saumon_teriyaki = ['Oui', 'Non']\n",
    "daurade = ['Oui', 'Non']\n",
    "thon = ['Oui', 'Non']\n",
    "crevette = ['Oui', 'Non']\n",
    "poulet = ['Oui', 'Non']\n",
    "thon_cuit = ['Oui', 'Non']\n",
    "foie_gras = ['Oui', 'Non']\n",
    "tofu = ['Oui', 'Non']\n",
    "truite = ['Oui', 'Non']\n",
    "hareng = ['Oui', 'Non']\n",
    "poulpe = ['Oui', 'Non']\n",
    "boeuf = ['Oui', 'Non']\n",
    "chair_de_crabe = ['Oui', 'Non']\n",
    "oeufs_de_saumon = ['Oui', 'Non']\n",
    "avocat = ['Oui', 'Non']\n",
    "fromage = ['Oui', 'Non']\n",
    "oeuf = ['Oui', 'Non']\n",
    "gingembre = ['Oui', 'Non']\n",
    "wasabi = ['Oui', 'Non']\n",
    "sauce_salee = ['Oui', 'Non']\n",
    "sauce_sucree = ['Oui', 'Non']\n",
    "sauce_sucreesalee = ['Oui', 'Non']\n",
    "mayonnaise_classique = ['Oui', 'Non']\n",
    "mayonnaise_teriyaki = ['Oui', 'Non']\n",
    "mayonnaise_japonaise = ['Oui', 'Non']\n",
    "mayonnaise_spicy = ['Oui', 'Non']\n",
    "mayonnaise_ponzu = ['Oui', 'Non']\n",
    "sauce_teriyaki = ['Oui', 'Non']\n",
    "sauce_satay_aux_cacahuetes = ['Oui', 'Non']\n",
    "sauce_epicee = ['Oui', 'Non']\n",
    "mangue = ['Oui', 'Non']\n",
    "carotte = ['Oui', 'Non']\n",
    "anis = ['Oui', 'Non']\n",
    "poivre_rose = ['Oui', 'Non']\n",
    "cannelle = ['Oui', 'Non']\n",
    "cardamome = ['Oui', 'Non']\n",
    "curcuma = ['Oui', 'Non']\n",
    "feve = ['Oui', 'Non']\n",
    "edamame = ['Oui', 'Non']\n",
    "macis = ['Oui', 'Non']\n",
    "maniguette = ['Oui', 'Non']\n",
    "paprika = ['Oui', 'Non']\n",
    "piment = ['Oui', 'Non']\n",
    "poivre = ['Oui', 'Non']\n",
    "safran = ['Oui', 'Non']\n",
    "sumac = ['Oui', 'Non']\n",
    "persil = ['Oui', 'Non']\n",
    "herbe_de_provence = ['Oui', 'Non']\n",
    "sesame = ['Oui', 'Non']\n",
    "feuilles_de_riz = ['Oui', 'Non']\n",
    "menthe = ['Oui', 'Non']\n",
    "coriandre = ['Oui', 'Non']\n",
    "chou = ['Oui', 'Non']\n",
    "ciboulette = ['Oui', 'Non']\n",
    "pomme = ['Oui', 'Non']\n",
    "celeri_rave = ['Oui', 'Non']\n",
    "aneth = ['Oui', 'Non']\n",
    "baies_roses = ['Oui', 'Non']\n",
    "prune = ['Oui', 'Non']\n",
    "betterave = ['Oui', 'Non']\n",
    "noix_de_coco = ['Oui', 'Non']\n",
    "citron_vert = ['Oui', 'Non']\n",
    "citron_jaune = ['Oui', 'Non']\n",
    "dattes = ['Oui', 'Non']\n",
    "laitue = ['Oui', 'Non']\n",
    "roquette = ['Oui', 'Non']\n",
    "concombre = ['Oui', 'Non']\n",
    "poivrons = ['Oui', 'Non']\n",
    "asperge = ['Oui', 'Non']\n",
    "oignons_crus = ['Oui', 'Non']\n",
    "oignons_caramelises = ['Oui', 'Non']\n",
    "oignons_frits = ['Oui', 'Non']\n",
    "\n",
    "3 * 15 * 10**5 * 2**72\n",
    "# 21 250 649 172 913 403 461 632 000 000 = 2 * 10**28 combinaisons possibles\n",
    "\n",
    "# Création du JDD\n",
    "sushis = []\n",
    "\n",
    "tps1 = time.perf_counter()\n",
    "\n",
    "for i in range(0, 10):\n",
    "    saumon_choice = random.choice(saumon)\n",
    "    saumon_teriyaki_choice = random.choice(saumon_teriyaki)\n",
    "    daurade_choice = random.choice(daurade)\n",
    "    thon_choice = random.choice(thon)\n",
    "    crevette_choice = random.choice(crevette)\n",
    "    poulet_choice = random.choice(poulet)\n",
    "    thon_cuit_choice = random.choice(thon_cuit)\n",
    "    foie_gras_choice = random.choice(foie_gras)\n",
    "    tofu_choice = random.choice(tofu)\n",
    "    truite_choice = random.choice(truite)\n",
    "    hareng_choice = random.choice(hareng)\n",
    "    poulpe_choice = random.choice(poulpe)\n",
    "    boeuf_choice = random.choice(boeuf)\n",
    "    chair_de_crabe_choice = random.choice(chair_de_crabe)\n",
    "    oeufs_de_saumon_choice = random.choice(oeufs_de_saumon)\n",
    "    avocat_choice = random.choice(avocat)\n",
    "    fromage_choice = random.choice(fromage)\n",
    "    oeuf_choice = random.choice(oeuf)\n",
    "    gingembre_choice = random.choice(gingembre)\n",
    "    wasabi_choice = random.choice(wasabi)\n",
    "    sauce_salee_choice = random.choice(sauce_salee)\n",
    "    sauce_sucree_choice = random.choice(sauce_sucree)\n",
    "    sauce_sucreesalee_choice = random.choice(sauce_sucreesalee)\n",
    "    mayonnaise_classique_choice = random.choice(mayonnaise_classique)\n",
    "    mayonnaise_teriyaki_choice = random.choice(mayonnaise_teriyaki)\n",
    "    mayonnaise_japonaise_choice = random.choice(mayonnaise_japonaise)\n",
    "    mayonnaise_spicy_choice = random.choice(mayonnaise_spicy)\n",
    "    mayonnaise_ponzu_choice = random.choice(mayonnaise_ponzu)\n",
    "    sauce_teriyaki_choice = random.choice(sauce_teriyaki)\n",
    "    sauce_satay_aux_cacahuetes_choice = random.choice(sauce_satay_aux_cacahuetes)\n",
    "    sauce_epicee_choice = random.choice(sauce_epicee)\n",
    "    mangue_choice = random.choice(mangue)\n",
    "    carotte_choice = random.choice(carotte)\n",
    "    anis_choice = random.choice(anis)\n",
    "    poivre_rose_choice = random.choice(poivre_rose)\n",
    "    cannelle_choice = random.choice(cannelle)\n",
    "    cardamome_choice = random.choice(cardamome)\n",
    "    curcuma_choice = random.choice(curcuma)\n",
    "    feve_choice = random.choice(feve)\n",
    "    edamame_choice = random.choice(edamame)\n",
    "    macis_choice = random.choice(macis)\n",
    "    maniguette_choice = random.choice(maniguette)\n",
    "    paprika_choice = random.choice(paprika)\n",
    "    piment_choice = random.choice(piment)\n",
    "    poivre_choice = random.choice(poivre)\n",
    "    safran_choice = random.choice(safran)\n",
    "    sumac_choice = random.choice(sumac)\n",
    "    persil_choice = random.choice(persil)\n",
    "    herbe_de_provence_choice = random.choice(herbe_de_provence)\n",
    "    sesame_choice = random.choice(sesame)\n",
    "    feuilles_de_riz_choice = random.choice(feuilles_de_riz)\n",
    "    menthe_choice = random.choice(menthe)\n",
    "    coriandre_choice = random.choice(coriandre)\n",
    "    chou_choice = random.choice(chou)\n",
    "    ciboulette_choice = random.choice(ciboulette)\n",
    "    pomme_choice = random.choice(pomme)\n",
    "    celeri_rave_choice = random.choice(celeri_rave)\n",
    "    aneth_choice = random.choice(aneth)\n",
    "    baies_roses_choice = random.choice(baies_roses)\n",
    "    prune_choice = random.choice(prune)\n",
    "    betterave_choice = random.choice(betterave)\n",
    "    noix_de_coco_choice = random.choice(noix_de_coco)\n",
    "    citron_vert_choice = random.choice(citron_vert)\n",
    "    citron_jaune_choice = random.choice(citron_jaune)\n",
    "    dattes_choice = random.choice(dattes)\n",
    "    laitue_choice = random.choice(laitue)\n",
    "    roquette_choice = random.choice(roquette)\n",
    "    concombre_choice = random.choice(concombre)\n",
    "    poivrons_choice = random.choice(poivrons)\n",
    "    asperge_choice = random.choice(asperge)\n",
    "    oignons_crus_choice = random.choice(oignons_crus)\n",
    "    oignons_caramelises_choice = random.choice(oignons_caramelises)\n",
    "    oignons_frits_choice = random.choice(oignons_frits)\n",
    "    type_choice = random.choice(type)\n",
    "    prix_choice = random.choice(prix)\n",
    "    stock_magasin1_choice = random.choice(stock_magasin1)\n",
    "    stock_magasin2_choice = random.choice(stock_magasin2)\n",
    "    stock_magasin3_choice = random.choice(stock_magasin3)\n",
    "    stock_magasin4_choice = random.choice(stock_magasin4)\n",
    "    stock_magasin5_choice = random.choice(stock_magasin5)\n",
    "    sushi = {'id':i, 'saumon':saumon_choice, 'saumon_teriyaki':saumon_teriyaki_choice, 'daurade':daurade_choice, 'thon':thon_choice, 'crevette':crevette_choice, 'poulet':poulet_choice, 'thon_cuit':thon_cuit_choice, 'foie_gras':foie_gras_choice, 'tofu':tofu_choice, 'truite':truite_choice, 'hareng':hareng_choice, 'poulpe':poulpe_choice, 'boeuf':boeuf_choice, 'chair_de_crabe':chair_de_crabe_choice, 'oeufs_de_saumon':oeufs_de_saumon_choice, 'avocat':avocat_choice, 'fromage':fromage_choice, 'oeuf':oeuf_choice, 'gingembre':gingembre_choice, 'wasabi':wasabi_choice, 'sauce_salee':sauce_salee_choice, 'sauce_sucree':sauce_sucree_choice, 'sauce_sucreesalee':sauce_sucreesalee_choice, 'mayonnaise_classique':mayonnaise_classique_choice, 'mayonnaise_teriyaki':mayonnaise_teriyaki_choice, 'mayonnaise_japonaise':mayonnaise_japonaise_choice, 'mayonnaise_spicy':mayonnaise_japonaise_choice, 'mayonnaise_ponzu':mayonnaise_ponzu_choice, 'sauce_teriyaki':sauce_teriyaki_choice, 'sauce_satay_aux_cacahuetes':sauce_satay_aux_cacahuetes_choice, 'sauce_epicee':sauce_epicee_choice, 'mangue': mangue_choice, 'carotte':carotte_choice, 'anis':anis_choice, 'poivre_rose':poivre_rose_choice, 'cannelle':cannelle_choice, 'cardamome':cardamome_choice, 'curcuma':curcuma_choice, 'feve':feve_choice, 'edamame':edamame_choice, 'macis':macis_choice, 'maniguette':maniguette_choice, 'paprika':paprika_choice, 'piment':piment_choice, 'poivre':poivre_choice, 'safran':safran_choice, 'sumac': sumac_choice, 'persil':persil_choice, 'herbe_de_provence':herbe_de_provence_choice, 'sesame':sesame_choice, 'feuilles_de_riz':feuilles_de_riz_choice, 'menthe':menthe_choice, 'coriandre':coriandre_choice, 'chou':chou_choice, 'ciboulette':ciboulette_choice, 'pomme':pomme_choice, 'celeri_rave':celeri_rave_choice, 'aneth':aneth_choice, 'baies_roses':baies_roses_choice, 'prune':prune_choice, 'betterave':betterave_choice, 'noix_de_coco':noix_de_coco_choice, 'citron_vert':citron_vert_choice, 'citron_jaune':citron_jaune_choice, 'dattes':dattes_choice, 'laitue':laitue_choice, 'roquette':roquette_choice, 'concombre':concombre_choice, 'poivrons':poivrons_choice, 'asperge':asperge_choice, 'oignons_crus':oignons_crus_choice, 'oignons_caramelises':oignons_caramelises_choice, 'oignons_frits':oignons_frits_choice, 'type':type_choice, 'prix':prix_choice, 'stock_magasin1':stock_magasin1_choice, 'stock_magasin2':stock_magasin2_choice, 'stock_magasin3':stock_magasin3_choice, 'stock_magasin4':stock_magasin4_choice, 'stock_magasin5':stock_magasin5_choice}\n",
    "    sushis.append(sushi)\n",
    "\n",
    "tps2 = time.perf_counter()\n",
    "print(tps2 - tps1)\n",
    "# 103 secondes pour 1 million de sushis différents\n",
    "\n"
   ]
  },
  {
   "cell_type": "code",
   "execution_count": 87,
   "metadata": {},
   "outputs": [
    {
     "name": "stderr",
     "output_type": "stream",
     "text": [
      "<ipython-input-87-259277144bc9>:3: DeprecationWarning: Redis.hmset() is deprecated. Use Redis.hset() instead.\n",
      "  r.hmset(name,sushis[i])\n"
     ]
    }
   ],
   "source": [
    "for i in range(len(sushis)):\n",
    "    name = str(\"sushi:\")+str(i)\n",
    "    r.hmset(name,sushis[i])\n"
   ]
  },
  {
   "cell_type": "code",
   "execution_count": 89,
   "metadata": {},
   "outputs": [
    {
     "data": {
      "text/plain": [
       "b'4.8'"
      ]
     },
     "execution_count": 89,
     "metadata": {},
     "output_type": "execute_result"
    }
   ],
   "source": [
    "r.hget(\"sushi:1\",\"prix\")"
   ]
  },
  {
   "cell_type": "code",
   "execution_count": 56,
   "metadata": {},
   "outputs": [],
   "source": [
    "import redis\n",
    "\n",
    "# on définit notre message d'erreur qu'on utilisera pour prévenir l'utilisateur de la fin du stock d'un objet\n",
    "\n",
    "class OutOfStockError(Exception):\n",
    "    \"\"\"Raised when PyHats.com is all out of today's hottest hat\"\"\"\n",
    "\n",
    "def buyitem(r, itemid:int,count):\n",
    "\n",
    "    with r.pipeline() as pipe:\n",
    "\n",
    "        error_count = 0\n",
    "\n",
    "        while True:\n",
    "            \n",
    "            # Get available inventory, watching for changes\n",
    "            # related to this itemid before the transaction\n",
    "\n",
    "            pipe.watch(itemid)\n",
    "            nleft = r.hget(itemid, \"quantity\")\n",
    "\n",
    "            # on réalise l'opération d'achat si l'objet est en stock\n",
    "            if nleft > b\"0\":\n",
    "\n",
    "                pipe.multi()\n",
    "                pipe.hincrby(itemid, \"quantity\", -count)\n",
    "                pipe.hincrby(itemid, \"npurchased\", count)\n",
    "                pipe.execute()\n",
    "\n",
    "                break\n",
    "\n",
    "            else:\n",
    "\n",
    "                # Stop watching the itemid and raise to break out\n",
    "\n",
    "                pipe.unwatch()\n",
    "\n",
    "                raise OutOfStockError(f\"Sorry, {itemid} is out of stock!\")\n",
    "\n",
    "    return None"
   ]
  },
  {
   "cell_type": "markdown",
   "metadata": {},
   "source": [
    " on a créé la fonction pour acheter un item et surveiller le stock qu'il reste, cela se fait assez facilement avec redis avec les incr etc... <br>\n",
    " \n",
    "*a voir pour passer avec la logique big data derriere et creer vla les cleees etc...*"
   ]
  },
  {
   "cell_type": "code",
   "execution_count": 86,
   "metadata": {},
   "outputs": [
    {
     "ename": "NameError",
     "evalue": "name 'buyitem' is not defined",
     "output_type": "error",
     "traceback": [
      "\u001b[0;31m---------------------------------------------------------------------------\u001b[0m",
      "\u001b[0;31mNameError\u001b[0m                                 Traceback (most recent call last)",
      "\u001b[0;32m<ipython-input-86-3563ecdf0964>\u001b[0m in \u001b[0;36m<module>\u001b[0;34m\u001b[0m\n\u001b[0;32m----> 1\u001b[0;31m \u001b[0mbuyitem\u001b[0m\u001b[0;34m(\u001b[0m\u001b[0mr\u001b[0m\u001b[0;34m,\u001b[0m\u001b[0;34m\"hat:73\"\u001b[0m\u001b[0;34m,\u001b[0m\u001b[0;36m5\u001b[0m\u001b[0;34m)\u001b[0m\u001b[0;34m\u001b[0m\u001b[0;34m\u001b[0m\u001b[0m\n\u001b[0m\u001b[1;32m      2\u001b[0m \u001b[0mr\u001b[0m\u001b[0;34m.\u001b[0m\u001b[0mhmget\u001b[0m\u001b[0;34m(\u001b[0m\u001b[0;34m\"hat:73\"\u001b[0m\u001b[0;34m,\u001b[0m\u001b[0;34m\"quantity\"\u001b[0m\u001b[0;34m,\u001b[0m\u001b[0;34m\"npurchased\"\u001b[0m\u001b[0;34m)\u001b[0m\u001b[0;34m\u001b[0m\u001b[0;34m\u001b[0m\u001b[0m\n",
      "\u001b[0;31mNameError\u001b[0m: name 'buyitem' is not defined"
     ]
    }
   ],
   "source": [
    "buyitem(r,\"hat:73\",5)\n",
    "r.hmget(\"hat:73\",\"quantity\",\"npurchased\")"
   ]
  },
  {
   "cell_type": "markdown",
   "metadata": {},
   "source": [
    "maintenant on essaie d'en acheter plusieurs d'un coup et à terme tester le msg d'erreur qu'on a eu"
   ]
  },
  {
   "cell_type": "code",
   "execution_count": 243,
   "metadata": {},
   "outputs": [],
   "source": [
    "# une fonction pour récup ce qu'on veux des objets et le voir à tout moment dans un tableau de données\n",
    "\n",
    "def iteminfo():\n",
    "    # on récupère toute les infos de l'objet en question\n",
    "    info_get = []\n",
    "    for h_id,hat in hats.items():\n",
    "        \n",
    "        # on choisi ce que l'on veux récupérer et on utilise .decode() pour décoder le type bytes de redis pour mettre du str à la place\n",
    "        quantity_add = r.hget(h_id,\"quantity\").decode()\n",
    "        purch_add = r.hget(h_id,\"npurchased\").decode()\n",
    "        price_add = r.hget(h_id,\"price\").decode()\n",
    "        \n",
    "        info_add = [quantity_add,purch_add,price_add]\n",
    "        #info_add = r.hmget(h_id,\"quantity\",\"npurchased\",\"price\")\n",
    "        info_get.append(info_add)\n",
    "    \n",
    "    # on convertit notre liste de liste en dataframe un peu sympa et plus \n",
    "    item_df = DataFrame(info_get,\n",
    "                        columns=['quantity','nbachat','prix'],\n",
    "                        index = [i for i in range(3)]).astype(float)\n",
    "  \n",
    "    return(item_df)    "
   ]
  },
  {
   "cell_type": "code",
   "execution_count": 244,
   "metadata": {},
   "outputs": [
    {
     "data": {
      "text/html": [
       "<div>\n",
       "<style scoped>\n",
       "    .dataframe tbody tr th:only-of-type {\n",
       "        vertical-align: middle;\n",
       "    }\n",
       "\n",
       "    .dataframe tbody tr th {\n",
       "        vertical-align: top;\n",
       "    }\n",
       "\n",
       "    .dataframe thead th {\n",
       "        text-align: right;\n",
       "    }\n",
       "</style>\n",
       "<table border=\"1\" class=\"dataframe\">\n",
       "  <thead>\n",
       "    <tr style=\"text-align: right;\">\n",
       "      <th></th>\n",
       "      <th>quantity</th>\n",
       "      <th>nbachat</th>\n",
       "      <th>prix</th>\n",
       "    </tr>\n",
       "  </thead>\n",
       "  <tbody>\n",
       "    <tr>\n",
       "      <th>0</th>\n",
       "      <td>1000.0</td>\n",
       "      <td>0.0</td>\n",
       "      <td>49.99</td>\n",
       "    </tr>\n",
       "    <tr>\n",
       "      <th>1</th>\n",
       "      <td>0.0</td>\n",
       "      <td>500.0</td>\n",
       "      <td>59.99</td>\n",
       "    </tr>\n",
       "    <tr>\n",
       "      <th>2</th>\n",
       "      <td>199.0</td>\n",
       "      <td>1.0</td>\n",
       "      <td>99.99</td>\n",
       "    </tr>\n",
       "  </tbody>\n",
       "</table>\n",
       "</div>"
      ],
      "text/plain": [
       "   quantity  nbachat   prix\n",
       "0    1000.0      0.0  49.99\n",
       "1       0.0    500.0  59.99\n",
       "2     199.0      1.0  99.99"
      ]
     },
     "execution_count": 244,
     "metadata": {},
     "output_type": "execute_result"
    }
   ],
   "source": [
    "df"
   ]
  },
  {
   "cell_type": "markdown",
   "metadata": {},
   "source": [
    "Essayez de voir comment on peux plotter ces données de manière un peu joli"
   ]
  },
  {
   "cell_type": "code",
   "execution_count": 245,
   "metadata": {},
   "outputs": [
    {
     "data": {
      "text/plain": [
       "<matplotlib.axes._subplots.AxesSubplot at 0x7f2da2b26850>"
      ]
     },
     "execution_count": 245,
     "metadata": {},
     "output_type": "execute_result"
    },
    {
     "data": {
      "image/png": "[encoded data removed]",
      "text/plain": [
       "<Figure size 432x288 with 1 Axes>"
      ]
     },
     "metadata": {},
     "output_type": "display_data"
    }
   ],
   "source": [
    "sns.set()\n",
    "sns.barplot(data=df,x=df.index,y=\"quantity\")"
   ]
  },
  {
   "cell_type": "markdown",
   "metadata": {},
   "source": [
    "On voit donc que les objets se vendent petit à petit qu'on incrémente la fonction \n",
    "\n",
    "il faut remettre du stock car l'utilisateur à voulu acheter mais n'a pas pu !\n",
    "\n",
    "### !!!!!!!!!éventuellement inclure : \n",
    " - rajouter des options de monitoring du stock des objets et complexifier un peu l'offre donc voir modifier les chsoes au début pour faire genre de la gestion de maxi database de vetements \n",
    " - une visu type barchat du stock pour chaque produit avec les requetes sur la db? à voir comment faire je maitrise pas trop ça\n",
    " - des visus complémentaires informant sur l'état des stocks, évolution des achats etc... à voir "
   ]
  },
  {
   "cell_type": "markdown",
   "metadata": {},
   "source": [
    "on s'intéresse à l'expiration et à comment on pourrait l'utiliser en pratique"
   ]
  },
  {
   "cell_type": "code",
   "execution_count": 176,
   "metadata": {
    "scrolled": true
   },
   "outputs": [
    {
     "data": {
      "text/plain": [
       "90"
      ]
     },
     "execution_count": 176,
     "metadata": {},
     "output_type": "execute_result"
    }
   ],
   "source": [
    "from datetime import timedelta\n",
    "r.setex(\"runner\",timedelta(minutes=1.5), value =\" careful! \")\n",
    "r.ttl(\"runner\")"
   ]
  },
  {
   "cell_type": "code",
   "execution_count": 196,
   "metadata": {},
   "outputs": [
    {
     "data": {
      "text/plain": [
       "78"
      ]
     },
     "execution_count": 196,
     "metadata": {},
     "output_type": "execute_result"
    }
   ],
   "source": [
    "r.ttl(\"runner\")"
   ]
  },
  {
   "cell_type": "markdown",
   "metadata": {},
   "source": [
    "A few days after its debut, PyHats.com has attracted so much hype that some enterprising users are creating bots to buy hundreds of items within seconds, which you’ve decided isn’t good for the long-term health of your hat business.\n",
    "\n",
    "Now that you’ve seen how to expire keys, let’s put it to use on the backend of PyHats.com.\n",
    "\n",
    "We’re going to create a new Redis client that acts as a consumer (or watcher) and processes a stream of incoming IP addresses, which in turn may come from multiple HTTPS connections to the website’s server.\n",
    "\n",
    "The watcher’s goal is to monitor a stream of IP addresses from multiple sources, keeping an eye out for a flood of requests from a single address within a suspiciously short amount of time.\n",
    "\n",
    "Some middleware on the website server pushes all incoming IP addresses into a Redis list with .lpush(). Here’s a crude way of mimicking some incoming IPs, using a fresh Redis database:"
   ]
  },
  {
   "cell_type": "markdown",
   "metadata": {},
   "source": [
    "#### on verra is on met ça en place car il faut ouvrir une deuxième session et voir l'utilité du bloc d'adresse ip à voir.."
   ]
  },
  {
   "cell_type": "markdown",
   "metadata": {},
   "source": [
    "## on s'intéresse maintenant à l'ajout d'objet *JSON-like* et voir comment cela est supporté dans redis"
   ]
  },
  {
   "cell_type": "code",
   "execution_count": 197,
   "metadata": {},
   "outputs": [
    {
     "name": "stdout",
     "output_type": "stream",
     "text": [
      "{'address': {'city': 'New York',\n",
      "             'state': 'NY',\n",
      "             'street': {'line1': '11 E 30th St', 'line2': 'APT 1'},\n",
      "             'zip': 10016},\n",
      " 'name': 'Ravagh',\n",
      " 'type': 'Persian'}\n"
     ]
    }
   ],
   "source": [
    "restaurant_484272 = {\n",
    "    \"name\": \"Ravagh\",\n",
    "    \"type\": \"Persian\",\n",
    "    \"address\": {\n",
    "        \"street\": {\n",
    "            \"line1\": \"11 E 30th St\",\n",
    "            \"line2\": \"APT 1\",\n",
    "        },\n",
    "        \"city\": \"New York\",\n",
    "        \"state\": \"NY\",\n",
    "        \"zip\": 10016,\n",
    "    }\n",
    "}\n",
    "pprint.pprint(restaurant_484272)"
   ]
  },
  {
   "cell_type": "code",
   "execution_count": 227,
   "metadata": {},
   "outputs": [
    {
     "name": "stderr",
     "output_type": "stream",
     "text": [
      "<ipython-input-227-a6fd59feb95a>:2: DeprecationWarning: Redis.hmset() is deprecated. Use Redis.hset() instead.\n",
      "  r.hmset(484272, restaurant_484272)\n"
     ]
    },
    {
     "ename": "DataError",
     "evalue": "Invalid input of type: 'dict'. Convert to a bytes, string, int or float first.",
     "output_type": "error",
     "traceback": [
      "\u001b[0;31m---------------------------------------------------------------------------\u001b[0m",
      "\u001b[0;31mDataError\u001b[0m                                 Traceback (most recent call last)",
      "\u001b[0;32m<ipython-input-227-a6fd59feb95a>\u001b[0m in \u001b[0;36m<module>\u001b[0;34m\u001b[0m\n\u001b[1;32m      1\u001b[0m \u001b[0;31m# ca ne va pas marcher car restaurant est un objet a part entiere\u001b[0m\u001b[0;34m\u001b[0m\u001b[0;34m\u001b[0m\u001b[0;34m\u001b[0m\u001b[0m\n\u001b[0;32m----> 2\u001b[0;31m \u001b[0mr\u001b[0m\u001b[0;34m.\u001b[0m\u001b[0mhmset\u001b[0m\u001b[0;34m(\u001b[0m\u001b[0;36m484272\u001b[0m\u001b[0;34m,\u001b[0m \u001b[0mrestaurant_484272\u001b[0m\u001b[0;34m)\u001b[0m\u001b[0;34m\u001b[0m\u001b[0;34m\u001b[0m\u001b[0m\n\u001b[0m",
      "\u001b[0;32m~/anaconda3/lib/python3.8/site-packages/redis/client.py\u001b[0m in \u001b[0;36mhmset\u001b[0;34m(self, name, mapping)\u001b[0m\n\u001b[1;32m   3073\u001b[0m         \u001b[0;32mfor\u001b[0m \u001b[0mpair\u001b[0m \u001b[0;32min\u001b[0m \u001b[0miteritems\u001b[0m\u001b[0;34m(\u001b[0m\u001b[0mmapping\u001b[0m\u001b[0;34m)\u001b[0m\u001b[0;34m:\u001b[0m\u001b[0;34m\u001b[0m\u001b[0;34m\u001b[0m\u001b[0m\n\u001b[1;32m   3074\u001b[0m             \u001b[0mitems\u001b[0m\u001b[0;34m.\u001b[0m\u001b[0mextend\u001b[0m\u001b[0;34m(\u001b[0m\u001b[0mpair\u001b[0m\u001b[0;34m)\u001b[0m\u001b[0;34m\u001b[0m\u001b[0;34m\u001b[0m\u001b[0m\n\u001b[0;32m-> 3075\u001b[0;31m         \u001b[0;32mreturn\u001b[0m \u001b[0mself\u001b[0m\u001b[0;34m.\u001b[0m\u001b[0mexecute_command\u001b[0m\u001b[0;34m(\u001b[0m\u001b[0;34m'HMSET'\u001b[0m\u001b[0;34m,\u001b[0m \u001b[0mname\u001b[0m\u001b[0;34m,\u001b[0m \u001b[0;34m*\u001b[0m\u001b[0mitems\u001b[0m\u001b[0;34m)\u001b[0m\u001b[0;34m\u001b[0m\u001b[0;34m\u001b[0m\u001b[0m\n\u001b[0m\u001b[1;32m   3076\u001b[0m \u001b[0;34m\u001b[0m\u001b[0m\n\u001b[1;32m   3077\u001b[0m     \u001b[0;32mdef\u001b[0m \u001b[0mhmget\u001b[0m\u001b[0;34m(\u001b[0m\u001b[0mself\u001b[0m\u001b[0;34m,\u001b[0m \u001b[0mname\u001b[0m\u001b[0;34m,\u001b[0m \u001b[0mkeys\u001b[0m\u001b[0;34m,\u001b[0m \u001b[0;34m*\u001b[0m\u001b[0margs\u001b[0m\u001b[0;34m)\u001b[0m\u001b[0;34m:\u001b[0m\u001b[0;34m\u001b[0m\u001b[0;34m\u001b[0m\u001b[0m\n",
      "\u001b[0;32m~/anaconda3/lib/python3.8/site-packages/redis/client.py\u001b[0m in \u001b[0;36mexecute_command\u001b[0;34m(self, *args, **options)\u001b[0m\n\u001b[1;32m    898\u001b[0m         \u001b[0mconn\u001b[0m \u001b[0;34m=\u001b[0m \u001b[0mself\u001b[0m\u001b[0;34m.\u001b[0m\u001b[0mconnection\u001b[0m \u001b[0;32mor\u001b[0m \u001b[0mpool\u001b[0m\u001b[0;34m.\u001b[0m\u001b[0mget_connection\u001b[0m\u001b[0;34m(\u001b[0m\u001b[0mcommand_name\u001b[0m\u001b[0;34m,\u001b[0m \u001b[0;34m**\u001b[0m\u001b[0moptions\u001b[0m\u001b[0;34m)\u001b[0m\u001b[0;34m\u001b[0m\u001b[0;34m\u001b[0m\u001b[0m\n\u001b[1;32m    899\u001b[0m         \u001b[0;32mtry\u001b[0m\u001b[0;34m:\u001b[0m\u001b[0;34m\u001b[0m\u001b[0;34m\u001b[0m\u001b[0m\n\u001b[0;32m--> 900\u001b[0;31m             \u001b[0mconn\u001b[0m\u001b[0;34m.\u001b[0m\u001b[0msend_command\u001b[0m\u001b[0;34m(\u001b[0m\u001b[0;34m*\u001b[0m\u001b[0margs\u001b[0m\u001b[0;34m)\u001b[0m\u001b[0;34m\u001b[0m\u001b[0;34m\u001b[0m\u001b[0m\n\u001b[0m\u001b[1;32m    901\u001b[0m             \u001b[0;32mreturn\u001b[0m \u001b[0mself\u001b[0m\u001b[0;34m.\u001b[0m\u001b[0mparse_response\u001b[0m\u001b[0;34m(\u001b[0m\u001b[0mconn\u001b[0m\u001b[0;34m,\u001b[0m \u001b[0mcommand_name\u001b[0m\u001b[0;34m,\u001b[0m \u001b[0;34m**\u001b[0m\u001b[0moptions\u001b[0m\u001b[0;34m)\u001b[0m\u001b[0;34m\u001b[0m\u001b[0;34m\u001b[0m\u001b[0m\n\u001b[1;32m    902\u001b[0m         \u001b[0;32mexcept\u001b[0m \u001b[0;34m(\u001b[0m\u001b[0mConnectionError\u001b[0m\u001b[0;34m,\u001b[0m \u001b[0mTimeoutError\u001b[0m\u001b[0;34m)\u001b[0m \u001b[0;32mas\u001b[0m \u001b[0me\u001b[0m\u001b[0;34m:\u001b[0m\u001b[0;34m\u001b[0m\u001b[0;34m\u001b[0m\u001b[0m\n",
      "\u001b[0;32m~/anaconda3/lib/python3.8/site-packages/redis/connection.py\u001b[0m in \u001b[0;36msend_command\u001b[0;34m(self, *args, **kwargs)\u001b[0m\n\u001b[1;32m    723\u001b[0m     \u001b[0;32mdef\u001b[0m \u001b[0msend_command\u001b[0m\u001b[0;34m(\u001b[0m\u001b[0mself\u001b[0m\u001b[0;34m,\u001b[0m \u001b[0;34m*\u001b[0m\u001b[0margs\u001b[0m\u001b[0;34m,\u001b[0m \u001b[0;34m**\u001b[0m\u001b[0mkwargs\u001b[0m\u001b[0;34m)\u001b[0m\u001b[0;34m:\u001b[0m\u001b[0;34m\u001b[0m\u001b[0;34m\u001b[0m\u001b[0m\n\u001b[1;32m    724\u001b[0m         \u001b[0;34m\"Pack and send a command to the Redis server\"\u001b[0m\u001b[0;34m\u001b[0m\u001b[0;34m\u001b[0m\u001b[0m\n\u001b[0;32m--> 725\u001b[0;31m         self.send_packed_command(self.pack_command(*args),\n\u001b[0m\u001b[1;32m    726\u001b[0m                                  check_health=kwargs.get('check_health', True))\n\u001b[1;32m    727\u001b[0m \u001b[0;34m\u001b[0m\u001b[0m\n",
      "\u001b[0;32m~/anaconda3/lib/python3.8/site-packages/redis/connection.py\u001b[0m in \u001b[0;36mpack_command\u001b[0;34m(self, *args)\u001b[0m\n\u001b[1;32m    773\u001b[0m \u001b[0;34m\u001b[0m\u001b[0m\n\u001b[1;32m    774\u001b[0m         \u001b[0mbuffer_cutoff\u001b[0m \u001b[0;34m=\u001b[0m \u001b[0mself\u001b[0m\u001b[0;34m.\u001b[0m\u001b[0m_buffer_cutoff\u001b[0m\u001b[0;34m\u001b[0m\u001b[0;34m\u001b[0m\u001b[0m\n\u001b[0;32m--> 775\u001b[0;31m         \u001b[0;32mfor\u001b[0m \u001b[0marg\u001b[0m \u001b[0;32min\u001b[0m \u001b[0mimap\u001b[0m\u001b[0;34m(\u001b[0m\u001b[0mself\u001b[0m\u001b[0;34m.\u001b[0m\u001b[0mencoder\u001b[0m\u001b[0;34m.\u001b[0m\u001b[0mencode\u001b[0m\u001b[0;34m,\u001b[0m \u001b[0margs\u001b[0m\u001b[0;34m)\u001b[0m\u001b[0;34m:\u001b[0m\u001b[0;34m\u001b[0m\u001b[0;34m\u001b[0m\u001b[0m\n\u001b[0m\u001b[1;32m    776\u001b[0m             \u001b[0;31m# to avoid large string mallocs, chunk the command into the\u001b[0m\u001b[0;34m\u001b[0m\u001b[0;34m\u001b[0m\u001b[0;34m\u001b[0m\u001b[0m\n\u001b[1;32m    777\u001b[0m             \u001b[0;31m# output list if we're sending large values or memoryviews\u001b[0m\u001b[0;34m\u001b[0m\u001b[0;34m\u001b[0m\u001b[0;34m\u001b[0m\u001b[0m\n",
      "\u001b[0;32m~/anaconda3/lib/python3.8/site-packages/redis/connection.py\u001b[0m in \u001b[0;36mencode\u001b[0;34m(self, value)\u001b[0m\n\u001b[1;32m    117\u001b[0m             \u001b[0;31m# a value we don't know how to deal with. throw an error\u001b[0m\u001b[0;34m\u001b[0m\u001b[0;34m\u001b[0m\u001b[0;34m\u001b[0m\u001b[0m\n\u001b[1;32m    118\u001b[0m             \u001b[0mtypename\u001b[0m \u001b[0;34m=\u001b[0m \u001b[0mtype\u001b[0m\u001b[0;34m(\u001b[0m\u001b[0mvalue\u001b[0m\u001b[0;34m)\u001b[0m\u001b[0;34m.\u001b[0m\u001b[0m__name__\u001b[0m\u001b[0;34m\u001b[0m\u001b[0;34m\u001b[0m\u001b[0m\n\u001b[0;32m--> 119\u001b[0;31m             raise DataError(\"Invalid input of type: '%s'. Convert to a \"\n\u001b[0m\u001b[1;32m    120\u001b[0m                             \"bytes, string, int or float first.\" % typename)\n\u001b[1;32m    121\u001b[0m         \u001b[0;32mif\u001b[0m \u001b[0misinstance\u001b[0m\u001b[0;34m(\u001b[0m\u001b[0mvalue\u001b[0m\u001b[0;34m,\u001b[0m \u001b[0municode\u001b[0m\u001b[0;34m)\u001b[0m\u001b[0;34m:\u001b[0m\u001b[0;34m\u001b[0m\u001b[0;34m\u001b[0m\u001b[0m\n",
      "\u001b[0;31mDataError\u001b[0m: Invalid input of type: 'dict'. Convert to a bytes, string, int or float first."
     ]
    }
   ],
   "source": [
    "# ca ne va pas marcher car restaurant est un objet a part entiere \n",
    "r.hmset(484272, restaurant_484272)"
   ]
  },
  {
   "cell_type": "code",
   "execution_count": 229,
   "metadata": {},
   "outputs": [
    {
     "data": {
      "text/plain": [
       "b'{\"name\": \"Ravagh\", \"type\": \"Persian\", \"address\": {\"street\": {\"line1\": \"11 E 30th St\", \"line2\": \"APT 1\"}, \"city\": \"New York\", \"state\": \"NY\", \"zip\": 10016}}'"
      ]
     },
     "execution_count": 229,
     "metadata": {},
     "output_type": "execute_result"
    }
   ],
   "source": [
    "# pour cela on utilise le fait de : Serialize the values into a string with something like json.dumps()\n",
    "import json\n",
    "r.set(484272, json.dumps(restaurant_484272))\n",
    "r.get(\"484272\")"
   ]
  },
  {
   "cell_type": "code",
   "execution_count": 233,
   "metadata": {},
   "outputs": [
    {
     "name": "stdout",
     "output_type": "stream",
     "text": [
      "{'address': {'city': 'New York',\n",
      "             'state': 'NY',\n",
      "             'street': {'line1': '11 E 30th St', 'line2': 'APT 1'},\n",
      "             'zip': 10016},\n",
      " 'name': 'Ravagh',\n",
      " 'type': 'Persian'}\n"
     ]
    }
   ],
   "source": [
    "# il faut ensuite faire les commandes suivantes pour réobtenir l'objet correctement :\n",
    "pprint.pprint(json.loads(r.get(484272)))"
   ]
  },
  {
   "cell_type": "markdown",
   "metadata": {},
   "source": [
    "No matter what serialization protocol you choose to go with, the concept is the same: you’re taking an object that is unique to Python and converting it to a bytestring that is recognized and exchangeable across multiple languages."
   ]
  },
  {
   "cell_type": "markdown",
   "metadata": {},
   "source": [
    "à voir ce que l'on fait ensuite, juste garder notre fonction buytime et améliorer les données peut-être?\n",
    "flemme de faire la comparaison et de se replonger dans un truc bourbier encore mais on pourrait regarder les outputs de notre database existante et faire quelques graphs et montrer que c'est très rapide car tout est gardé en cache et voir avec les calculs avec la commande `%%time` au sein de chaque cellule jupyter"
   ]
  },
  {
   "cell_type": "code",
   "execution_count": 234,
   "metadata": {},
   "outputs": [
    {
     "name": "stdout",
     "output_type": "stream",
     "text": [
      "CPU times: user 2 µs, sys: 0 ns, total: 2 µs\n",
      "Wall time: 4.53 µs\n"
     ]
    },
    {
     "data": {
      "text/plain": [
       "9"
      ]
     },
     "execution_count": 234,
     "metadata": {},
     "output_type": "execute_result"
    }
   ],
   "source": []
  },
  {
   "cell_type": "code",
   "execution_count": null,
   "metadata": {},
   "outputs": [],
   "source": []
  },
  {
   "cell_type": "code",
   "execution_count": null,
   "metadata": {},
   "outputs": [],
   "source": []
  },
  {
   "cell_type": "code",
   "execution_count": null,
   "metadata": {},
   "outputs": [],
   "source": []
  },
  {
   "cell_type": "markdown",
   "metadata": {},
   "source": [
    "## Comparison with an other DB : MongoDB"
   ]
  },
  {
   "cell_type": "markdown",
   "metadata": {},
   "source": [
    "### Qualitative approach\n",
    "We are looking for differences in :\n",
    "- grammar\n",
    "- ease of use and prise en main\n",
    "- setting up process (manipulation of our first database)\n",
    "- access of ressources\n"
   ]
  },
  {
   "cell_type": "markdown",
   "metadata": {},
   "source": [
    "### on parle de redis ici de son usage \n",
    "\n",
    "- prise ne main très facile et super documentation tout est renseigné on comprend assez vite son fonctionnement \n",
    "- difficile de se projeter dans l'usage de ce sgbd car différents des autres et assez spécifique même si on peux l'utilsier pour tout usage il sera surtout performant dans des tâches spé.\n",
    "- open source et accessible facilement mais l'environnement autour non car le proejt à été repris par une entreprise [redislabs](https://redislabs.com/) et typiquement un redis-GUI (logiciel pour manipuler des db redis sans lignes de commandes) n'est pas accessible facilement \n",
    "- une bonne communauté mais pas très large donc accès ressources limités\n"
   ]
  },
  {
   "cell_type": "code",
   "execution_count": null,
   "metadata": {},
   "outputs": [],
   "source": []
  },
  {
   "cell_type": "code",
   "execution_count": null,
   "metadata": {},
   "outputs": [],
   "source": []
  },
  {
   "cell_type": "code",
   "execution_count": null,
   "metadata": {},
   "outputs": [],
   "source": []
  },
  {
   "cell_type": "markdown",
   "metadata": {},
   "source": [
    "### Quantitative approach\n",
    "We are looking for differences in :\n",
    "- time computation of requests\n",
    "- memore/cache use for same data\n"
   ]
  },
  {
   "cell_type": "code",
   "execution_count": null,
   "metadata": {},
   "outputs": [],
   "source": []
  },
  {
   "cell_type": "code",
   "execution_count": null,
   "metadata": {},
   "outputs": [],
   "source": []
  },
  {
   "cell_type": "code",
   "execution_count": null,
   "metadata": {},
   "outputs": [],
   "source": []
  },
  {
   "cell_type": "code",
   "execution_count": null,
   "metadata": {},
   "outputs": [],
   "source": []
  },
  {
   "cell_type": "code",
   "execution_count": null,
   "metadata": {},
   "outputs": [],
   "source": []
  },
  {
   "cell_type": "code",
   "execution_count": null,
   "metadata": {},
   "outputs": [],
   "source": []
  },
  {
   "cell_type": "code",
   "execution_count": null,
   "metadata": {},
   "outputs": [],
   "source": []
  }
 ],
 "metadata": {
  "celltoolbar": "Format de la Cellule Texte Brut",
  "kernelspec": {
   "display_name": "Python 3",
   "language": "python",
   "name": "python3"
  },
  "language_info": {
   "codemirror_mode": {
    "name": "ipython",
    "version": 3
   },
   "file_extension": ".py",
   "mimetype": "text/x-python",
   "name": "python",
   "nbconvert_exporter": "python",
   "pygments_lexer": "ipython3",
   "version": "3.8.3"
  }
 },
 "nbformat": 4,
 "nbformat_minor": 4
}
