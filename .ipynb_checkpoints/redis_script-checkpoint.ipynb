{
 "cells": [
  {
   "cell_type": "markdown",
   "metadata": {},
   "source": [
    "# Redis database\n",
    "## livrables : \n",
    "## - ce notebook jupyter avec le projet réalisé et quelques explications \n",
    "## - un fichier *projet.py*  avec le code commenté pour exécuter facilement le programme + la génération du dataset et on source ce script au début de notre notebook? ou le laisse pleinement là-dedans?\n"
   ]
  },
  {
   "cell_type": "markdown",
   "metadata": {},
   "source": [
    "# Un peu de contexte : c'est quoi Redis ?"
   ]
  },
  {
   "cell_type": "markdown",
   "metadata": {},
   "source": [
    "Redis, qui sert d'acronyme pour **RE**mote **DI**ctionary **S**erver, est système de gestion de base de données structure de stockage de données en mémoire, sous licence BSD, lancée en 2009 par Salvatore Sanfilippo. \n",
    "\n",
    "L'une des grandes différences entre Redis et les autres bases de données NoSQL réside dans les structures de données que Redis fournit. \n",
    "Les utilisateurs de Redis peuvent exploiter les structures de données comme les chaînes, les hachages, les listes, les ensembles et les ensembles triés en utilisant des commandes similaires aux opérations de requête présente dans la plupart des langages de programmation. \n",
    "\n",
    "Pour mieux comprendre les différentes structures nous vous invitons à parcourir rapidement le lien [ci-contre](https://redis.io/topics/data-types-intro).\n",
    "Et plus généralement la [documentation](https://redis.io/documentation) et le [site](https://redis.io/) de Redis qui sont des documents complets et clairs.\n",
    "\n",
    "[Bonus tutoriel rigolo](https://try.redis.io/?_ga=2.15710581.2114473602.1604997184-1839395559.1604575298)\n",
    "\n"
   ]
  },
  {
   "cell_type": "markdown",
   "metadata": {},
   "source": [
    "ex : système pour gérer els incrémentation lors de connexion sur srveeur/page web simultanée etc.. gère bien ça\n",
    "\n",
    "gere automatiquement l'expiration des informations7\n",
    "\n",
    "système de persistance :\n",
    "- RDB : on crée un dump file en .rdb qui est sauvegardé et qui peux etre rechargé \n",
    "- AOF : ??? a voir\n"
   ]
  },
  {
   "cell_type": "markdown",
   "metadata": {},
   "source": [
    "Expliquer histoire de redis les points clés et différences par rapport aux autres sql :\n",
    "   - cache et session bonne gestion\n",
    "   - systeme cle-valeur avancé incr, decincr etc.. pas mal puissant\n",
    "   - L'une des raisons pour lesquelles Redis est si rapide dans les opérations de lecture et d'écriture est que la base de données est conservée en mémoire (RAM) sur le serveur."
   ]
  },
  {
   "cell_type": "markdown",
   "metadata": {},
   "source": [
    "## On doit d'abord installer via un terminal les libraires que l'on va utiliser:\n",
    "\n",
    "`bash\n",
    "conda install redis\n",
    "conda install pandas\n",
    "conda install numpy\n",
    "conda install scipy\n",
    "conda install seaborn`\n",
    "\n",
    "Si vous avez des difficultés à installer les modules vous pouvez vous référez à l'aide suivante : [S/O librairie](https://stackoverflow.com/questions/33897860/python-spyder-conda-install-failure)"
   ]
  },
  {
   "cell_type": "code",
   "execution_count": 400,
   "metadata": {},
   "outputs": [
    {
     "ename": "SyntaxError",
     "evalue": "invalid syntax (<ipython-input-400-cb870f31e0ca>, line 2)",
     "output_type": "error",
     "traceback": [
      "\u001b[0;36m  File \u001b[0;32m\"<ipython-input-400-cb870f31e0ca>\"\u001b[0;36m, line \u001b[0;32m2\u001b[0m\n\u001b[0;31m    conda install redis\u001b[0m\n\u001b[0m          ^\u001b[0m\n\u001b[0;31mSyntaxError\u001b[0m\u001b[0;31m:\u001b[0m invalid syntax\n"
     ]
    }
   ],
   "source": [
    "# install the necessary modules : replace conda by pip if you are using this package manager\n"
   ]
  },
  {
   "cell_type": "markdown",
   "metadata": {},
   "source": [
    "## Then, need to import the necessary libraries :"
   ]
  },
  {
   "cell_type": "code",
   "execution_count": 402,
   "metadata": {},
   "outputs": [],
   "source": [
    "#import the redis client to communicate with\n",
    "import redis\n",
    "import numpy\n",
    "import scipy\n",
    "import random\n",
    "import pprint\n",
    "import json\n",
    "import pandas as pd\n",
    "import seaborn as sns\n",
    "import time"
   ]
  },
  {
   "cell_type": "markdown",
   "metadata": {},
   "source": [
    "## Connection\n",
    "As previous databases, we need to open a connection with the Redis server to communicate with and execute code in a python script."
   ]
  },
  {
   "cell_type": "code",
   "execution_count": 403,
   "metadata": {},
   "outputs": [],
   "source": [
    "# Define our connection information for Redis\n",
    "\n",
    "redis_host = \"127.0.0.1\"\n",
    "redis_port = 6379\n",
    "\n",
    "# Create connection object with :\n",
    "# - the host, i.e the local name where the redis server is running\n",
    "# - the port of redis server to communicate, default = 6379\n",
    "# - the database number we want to work with, here we use the first one\n",
    "\n",
    "r = redis.Redis(host=redis_host, port=redis_port, db = 0)"
   ]
  },
  {
   "cell_type": "markdown",
   "metadata": {},
   "source": [
    "## Now we're all set to start the analyse of the project !"
   ]
  },
  {
   "cell_type": "markdown",
   "metadata": {},
   "source": [
    "## Few requests to understand Redis grammar in python"
   ]
  },
  {
   "cell_type": "markdown",
   "metadata": {},
   "source": [
    "# Use case to understand Redis power : selling sushi on an online website"
   ]
  },
  {
   "cell_type": "markdown",
   "metadata": {},
   "source": [
    "### Now, we need to add them in the redis database thanks to server pipeline execution :"
   ]
  },
  {
   "cell_type": "code",
   "execution_count": 404,
   "metadata": {
    "scrolled": true
   },
   "outputs": [
    {
     "name": "stdout",
     "output_type": "stream",
     "text": [
      "0.0015038269993965514\n"
     ]
    }
   ],
   "source": [
    "## Création du JDD sushis\n",
    "\n",
    "random.seed(444)\n",
    "\n",
    "# Attributs avec 2 modalités : les ingrédients\n",
    "saumon = ['Oui', 'Non']\n",
    "saumon_teriyaki = ['Oui', 'Non']\n",
    "daurade = ['Oui', 'Non']\n",
    "thon = ['Oui', 'Non']\n",
    "crevette = ['Oui', 'Non']\n",
    "poulet = ['Oui', 'Non']\n",
    "thon_cuit = ['Oui', 'Non']\n",
    "foie_gras = ['Oui', 'Non']\n",
    "tofu = ['Oui', 'Non']\n",
    "truite = ['Oui', 'Non']\n",
    "hareng = ['Oui', 'Non']\n",
    "poulpe = ['Oui', 'Non']\n",
    "boeuf = ['Oui', 'Non']\n",
    "chair_de_crabe = ['Oui', 'Non']\n",
    "oeufs_de_saumon = ['Oui', 'Non']\n",
    "avocat = ['Oui', 'Non']\n",
    "fromage = ['Oui', 'Non']\n",
    "oeuf = ['Oui', 'Non']\n",
    "gingembre = ['Oui', 'Non']\n",
    "wasabi = ['Oui', 'Non']\n",
    "sauce_salee = ['Oui', 'Non']\n",
    "sauce_sucree = ['Oui', 'Non']\n",
    "sauce_sucreesalee = ['Oui', 'Non']\n",
    "mayonnaise_classique = ['Oui', 'Non']\n",
    "mayonnaise_teriyaki = ['Oui', 'Non']\n",
    "mayonnaise_japonaise = ['Oui', 'Non']\n",
    "mayonnaise_spicy = ['Oui', 'Non']\n",
    "mayonnaise_ponzu = ['Oui', 'Non']\n",
    "sauce_teriyaki = ['Oui', 'Non']\n",
    "sauce_satay_aux_cacahuetes = ['Oui', 'Non']\n",
    "sauce_epicee = ['Oui', 'Non']\n",
    "mangue = ['Oui', 'Non']\n",
    "carotte = ['Oui', 'Non']\n",
    "anis = ['Oui', 'Non']\n",
    "poivre_rose = ['Oui', 'Non']\n",
    "cannelle = ['Oui', 'Non']\n",
    "cardamome = ['Oui', 'Non']\n",
    "curcuma = ['Oui', 'Non']\n",
    "feve = ['Oui', 'Non']\n",
    "edamame = ['Oui', 'Non']\n",
    "macis = ['Oui', 'Non']\n",
    "maniguette = ['Oui', 'Non']\n",
    "paprika = ['Oui', 'Non']\n",
    "piment = ['Oui', 'Non']\n",
    "poivre = ['Oui', 'Non']\n",
    "safran = ['Oui', 'Non']\n",
    "sumac = ['Oui', 'Non']\n",
    "persil = ['Oui', 'Non']\n",
    "herbe_de_provence = ['Oui', 'Non']\n",
    "sesame = ['Oui', 'Non']\n",
    "feuilles_de_riz = ['Oui', 'Non']\n",
    "menthe = ['Oui', 'Non']\n",
    "coriandre = ['Oui', 'Non']\n",
    "chou = ['Oui', 'Non']\n",
    "ciboulette = ['Oui', 'Non']\n",
    "pomme = ['Oui', 'Non']\n",
    "celeri_rave = ['Oui', 'Non']\n",
    "aneth = ['Oui', 'Non']\n",
    "baies_roses = ['Oui', 'Non']\n",
    "prune = ['Oui', 'Non']\n",
    "betterave = ['Oui', 'Non']\n",
    "noix_de_coco = ['Oui', 'Non']\n",
    "citron_vert = ['Oui', 'Non']\n",
    "citron_jaune = ['Oui', 'Non']\n",
    "dattes = ['Oui', 'Non']\n",
    "laitue = ['Oui', 'Non']\n",
    "roquette = ['Oui', 'Non']\n",
    "concombre = ['Oui', 'Non']\n",
    "poivrons = ['Oui', 'Non']\n",
    "asperge = ['Oui', 'Non']\n",
    "oignons_crus = ['Oui', 'Non']\n",
    "oignons_caramelises = ['Oui', 'Non']\n",
    "oignons_frits = ['Oui', 'Non']\n",
    "\n",
    "# 3 * 15 * 10**5 * 2**72\n",
    "# 21 250 649 172 913 403 461 632 000 000 = 2 * 10**28 combinaisons possibles\n",
    "\n",
    "# Création du JDD\n",
    "sushis = []\n",
    "\n",
    "tps1 = time.perf_counter()\n",
    "\n",
    "for i in range(0, 10):\n",
    "    saumon_choice = random.choice(saumon)\n",
    "    saumon_teriyaki_choice = random.choice(saumon_teriyaki)\n",
    "    daurade_choice = random.choice(daurade)\n",
    "    thon_choice = random.choice(thon)\n",
    "    crevette_choice = random.choice(crevette)\n",
    "    poulet_choice = random.choice(poulet)\n",
    "    thon_cuit_choice = random.choice(thon_cuit)\n",
    "    foie_gras_choice = random.choice(foie_gras)\n",
    "    tofu_choice = random.choice(tofu)\n",
    "    truite_choice = random.choice(truite)\n",
    "    hareng_choice = random.choice(hareng)\n",
    "    poulpe_choice = random.choice(poulpe)\n",
    "    boeuf_choice = random.choice(boeuf)\n",
    "    chair_de_crabe_choice = random.choice(chair_de_crabe)\n",
    "    oeufs_de_saumon_choice = random.choice(oeufs_de_saumon)\n",
    "    avocat_choice = random.choice(avocat)\n",
    "    fromage_choice = random.choice(fromage)\n",
    "    oeuf_choice = random.choice(oeuf)\n",
    "    gingembre_choice = random.choice(gingembre)\n",
    "    wasabi_choice = random.choice(wasabi)\n",
    "    sauce_salee_choice = random.choice(sauce_salee)\n",
    "    sauce_sucree_choice = random.choice(sauce_sucree)\n",
    "    sauce_sucreesalee_choice = random.choice(sauce_sucreesalee)\n",
    "    mayonnaise_classique_choice = random.choice(mayonnaise_classique)\n",
    "    mayonnaise_teriyaki_choice = random.choice(mayonnaise_teriyaki)\n",
    "    mayonnaise_japonaise_choice = random.choice(mayonnaise_japonaise)\n",
    "    mayonnaise_spicy_choice = random.choice(mayonnaise_spicy)\n",
    "    mayonnaise_ponzu_choice = random.choice(mayonnaise_ponzu)\n",
    "    sauce_teriyaki_choice = random.choice(sauce_teriyaki)\n",
    "    sauce_satay_aux_cacahuetes_choice = random.choice(sauce_satay_aux_cacahuetes)\n",
    "    sauce_epicee_choice = random.choice(sauce_epicee)\n",
    "    mangue_choice = random.choice(mangue)\n",
    "    carotte_choice = random.choice(carotte)\n",
    "    anis_choice = random.choice(anis)\n",
    "    poivre_rose_choice = random.choice(poivre_rose)\n",
    "    cannelle_choice = random.choice(cannelle)\n",
    "    cardamome_choice = random.choice(cardamome)\n",
    "    curcuma_choice = random.choice(curcuma)\n",
    "    feve_choice = random.choice(feve)\n",
    "    edamame_choice = random.choice(edamame)\n",
    "    macis_choice = random.choice(macis)\n",
    "    maniguette_choice = random.choice(maniguette)\n",
    "    paprika_choice = random.choice(paprika)\n",
    "    piment_choice = random.choice(piment)\n",
    "    poivre_choice = random.choice(poivre)\n",
    "    safran_choice = random.choice(safran)\n",
    "    sumac_choice = random.choice(sumac)\n",
    "    persil_choice = random.choice(persil)\n",
    "    herbe_de_provence_choice = random.choice(herbe_de_provence)\n",
    "    sesame_choice = random.choice(sesame)\n",
    "    feuilles_de_riz_choice = random.choice(feuilles_de_riz)\n",
    "    menthe_choice = random.choice(menthe)\n",
    "    coriandre_choice = random.choice(coriandre)\n",
    "    chou_choice = random.choice(chou)\n",
    "    ciboulette_choice = random.choice(ciboulette)\n",
    "    pomme_choice = random.choice(pomme)\n",
    "    celeri_rave_choice = random.choice(celeri_rave)\n",
    "    aneth_choice = random.choice(aneth)\n",
    "    baies_roses_choice = random.choice(baies_roses)\n",
    "    prune_choice = random.choice(prune)\n",
    "    betterave_choice = random.choice(betterave)\n",
    "    noix_de_coco_choice = random.choice(noix_de_coco)\n",
    "    citron_vert_choice = random.choice(citron_vert)\n",
    "    citron_jaune_choice = random.choice(citron_jaune)\n",
    "    dattes_choice = random.choice(dattes)\n",
    "    laitue_choice = random.choice(laitue)\n",
    "    roquette_choice = random.choice(roquette)\n",
    "    concombre_choice = random.choice(concombre)\n",
    "    poivrons_choice = random.choice(poivrons)\n",
    "    asperge_choice = random.choice(asperge)\n",
    "    oignons_crus_choice = random.choice(oignons_crus)\n",
    "    oignons_caramelises_choice = random.choice(oignons_caramelises)\n",
    "    oignons_frits_choice = random.choice(oignons_frits)\n",
    "    type_choice = random.choice(type_sushi)\n",
    "    stock = random.randint(10,10000)\n",
    "    nb_achat = 0\n",
    "    sushi = {'id':i, 'saumon':saumon_choice, 'saumon_teriyaki':saumon_teriyaki_choice, 'daurade':daurade_choice, \n",
    "             'thon':thon_choice, 'crevette':crevette_choice, 'poulet':poulet_choice, 'thon_cuit':thon_cuit_choice, \n",
    "             'foie_gras':foie_gras_choice,'tofu':tofu_choice, 'truite':truite_choice, 'hareng':hareng_choice, \n",
    "             'poulpe':poulpe_choice, 'boeuf':boeuf_choice, 'chair_de_crabe':chair_de_crabe_choice, \n",
    "             'oeufs_de_saumon':oeufs_de_saumon_choice, 'avocat':avocat_choice, 'fromage':fromage_choice, \n",
    "             'oeuf':oeuf_choice, 'gingembre':gingembre_choice,'wasabi':wasabi_choice, 'sauce_salee':sauce_salee_choice, \n",
    "             'sauce_sucree':sauce_sucree_choice,'sauce_sucreesalee':sauce_sucreesalee_choice, \n",
    "             'mayonnaise_classique':mayonnaise_classique_choice, 'mayonnaise_teriyaki':mayonnaise_teriyaki_choice, \n",
    "             'mayonnaise_japonaise':mayonnaise_japonaise_choice, 'mayonnaise_spicy':mayonnaise_japonaise_choice, \n",
    "             'mayonnaise_ponzu':mayonnaise_ponzu_choice, 'sauce_teriyaki':sauce_teriyaki_choice, \n",
    "             'sauce_satay_aux_cacahuetes':sauce_satay_aux_cacahuetes_choice, 'sauce_epicee':sauce_epicee_choice, \n",
    "             'mangue': mangue_choice, 'carotte':carotte_choice, 'anis':anis_choice,'poivre_rose':poivre_rose_choice, \n",
    "             'cannelle':cannelle_choice, 'cardamome':cardamome_choice, 'curcuma':curcuma_choice, \n",
    "             'feve':feve_choice, 'edamame':edamame_choice, 'macis':macis_choice, 'maniguette':maniguette_choice, \n",
    "             'paprika':paprika_choice, 'piment':piment_choice, 'poivre':poivre_choice, 'safran':safran_choice, \n",
    "             'sumac': sumac_choice, 'persil':persil_choice, 'herbe_de_provence':herbe_de_provence_choice, \n",
    "             'sesame':sesame_choice, 'feuilles_de_riz':feuilles_de_riz_choice, 'menthe':menthe_choice, \n",
    "             'coriandre':coriandre_choice, 'chou':chou_choice, 'ciboulette':ciboulette_choice, 'pomme':pomme_choice, \n",
    "             'celeri_rave':celeri_rave_choice, 'aneth':aneth_choice, 'baies_roses':baies_roses_choice, \n",
    "             'prune':prune_choice, 'betterave':betterave_choice, 'noix_de_coco':noix_de_coco_choice, \n",
    "             'citron_vert':citron_vert_choice, 'citron_jaune':citron_jaune_choice, 'dattes':dattes_choice, \n",
    "             'laitue':laitue_choice, 'roquette':roquette_choice, 'concombre':concombre_choice, \n",
    "             'poivrons':poivrons_choice, 'asperge':asperge_choice, 'oignons_crus':oignons_crus_choice, \n",
    "             'oignons_caramelises':oignons_caramelises_choice, 'oignons_frits':oignons_frits_choice, \n",
    "             'type':type_choice, 'stock':stock, 'nb_achat':nb_achat\n",
    "            }\n",
    "    \n",
    "    sushis.append(sushi)\n",
    "\n",
    "tps2 = time.perf_counter()\n",
    "print(tps2 - tps1)\n",
    "# 103 secondes pour 1 million de sushis différents\n",
    "\n"
   ]
  },
  {
   "cell_type": "code",
   "execution_count": 433,
   "metadata": {},
   "outputs": [
    {
     "name": "stderr",
     "output_type": "stream",
     "text": [
      "<ipython-input-433-ce8ce5db3ed8>:6: DeprecationWarning: Redis.hmset() is deprecated. Use Redis.hset() instead.\n",
      "  r.hmset(name,sushis[i])\n"
     ]
    }
   ],
   "source": [
    "# on ajoute nos données sushis dans la db redis\n",
    "\n",
    "with r.pipeline() as pipe: \n",
    "    for i in range(len(sushis)):\n",
    "        name = str(\"sushi:\")+str(i)\n",
    "        r.hmset(name,sushis[i])\n",
    "tps2 = time.perf_counter()\n"
   ]
  },
  {
   "cell_type": "code",
   "execution_count": 434,
   "metadata": {
    "scrolled": true
   },
   "outputs": [
    {
     "data": {
      "text/plain": [
       "[b'3855', b'0']"
      ]
     },
     "execution_count": 434,
     "metadata": {},
     "output_type": "execute_result"
    }
   ],
   "source": [
    "r.hmget(\"sushi:3\",'stock','nb_achat')"
   ]
  },
  {
   "cell_type": "code",
   "execution_count": 436,
   "metadata": {},
   "outputs": [
    {
     "data": {
      "text/plain": [
       "'0'"
      ]
     },
     "execution_count": 436,
     "metadata": {},
     "output_type": "execute_result"
    }
   ],
   "source": [
    "r.hget('sushi:3','nb_achat').decode()"
   ]
  },
  {
   "cell_type": "code",
   "execution_count": 502,
   "metadata": {},
   "outputs": [],
   "source": [
    "# on définit notre message d'erreur qu'on utilisera pour prévenir l'utilisateur de la fin du stock d'un objet\n",
    "\n",
    "class OutOfStockError(Exception):\n",
    "    \"\"\"Raised when sushi.com is out of stock for the desired sushi\"\"\"\n",
    "    \n",
    "class TooMuchStockError(Exception):\n",
    "    \"\"\"Raised when sushi.com is full of the desired sushi\"\"\"\n",
    "    \n",
    "class TooMuchDemandError(Exception):\n",
    "    \"\"\"Raised when sushi.com has not enough sushi asked\"\"\"\n",
    "    \n",
    "class NoPlaceAvailableError(Exception):\n",
    "    \"\"\"Raised when sushi.com has restocké les 10000 sushis maximum.\"\"\"\n"
   ]
  },
  {
   "cell_type": "code",
   "execution_count": 590,
   "metadata": {},
   "outputs": [],
   "source": [
    "def buyitem(r, sushi_id,count):\n",
    "\n",
    "    with r.pipeline() as pipe:\n",
    "        \n",
    "        while True:\n",
    "            \n",
    "            # Get available inventory, watching for changes\n",
    "            # related to this itemid before the transaction\n",
    "\n",
    "            pipe.watch(sushi_id)\n",
    "            nleft = int(r.hget(sushi_id,'stock').decode()) # on utilise le int et decode pour convertir l'output bytes de redis en nombre int\n",
    "            \n",
    "            # on réalise l'opération d'achat si l'objet est en stock\n",
    "            if nleft > count :\n",
    "\n",
    "                pipe.multi()\n",
    "                pipe.hincrby(sushi_id, 'stock', -count)\n",
    "                pipe.hincrby(sushi_id, 'nb_achat', count)\n",
    "                pipe.execute()\n",
    "\n",
    "                break\n",
    "            \n",
    "            elif nleft < count and nleft > 0:\n",
    "                pipe.multi()\n",
    "                pipe.hset(sushi_id,'stock',0)\n",
    "                pipe.hincrby(sushi_id,'nb_achat',nleft)\n",
    "                pipe.execute()\n",
    "                \n",
    "                raise TooMuchDemandError(f'Désolé, vous avez acheté tout les {sushi_id} restants mais il n''y en avait pas autant que vous le vouliez')\n",
    "\n",
    "            else:\n",
    "\n",
    "                # Stop watching the itemid and raise to break out\n",
    "\n",
    "                pipe.unwatch()\n",
    "\n",
    "                raise OutOfStockError(f\"Sorry, {sushi_id} is out of stock!\")\n",
    "\n",
    "    return None"
   ]
  },
  {
   "cell_type": "markdown",
   "metadata": {},
   "source": [
    "\n",
    "on a créé la fonction pour acheter un item et surveiller le stock qu'il reste, cela se fait assez facilement avec redis avec les incr etc... <br>\n",
    " \n",
    "*a voir pour passer avec la logique big data derriere et creer vla les cleees etc...*"
   ]
  },
  {
   "cell_type": "code",
   "execution_count": 591,
   "metadata": {},
   "outputs": [
    {
     "data": {
      "text/plain": [
       "[b'0', b'556']"
      ]
     },
     "execution_count": 591,
     "metadata": {},
     "output_type": "execute_result"
    }
   ],
   "source": [
    "#buyitem(r,\"sushi:6\",600)\n",
    "r.hmget(\"sushi:6\",\"stock\",\"nb_achat\")"
   ]
  },
  {
   "cell_type": "code",
   "execution_count": 592,
   "metadata": {},
   "outputs": [],
   "source": [
    "def restock(r,sushi_id,stock_count):\n",
    "    \n",
    "    '''fonction qui va remettre du stock pour le sushi voulu.\n",
    "    On doit bien préciser :\n",
    "    - la connection redis\n",
    "    - l'id du sushi qu'on veux restocker\n",
    "    - la quantité du restock '''\n",
    "    \n",
    "    with r.pipeline() as pipe:\n",
    "        \n",
    "        while True:\n",
    "        \n",
    "            # Get available inventory, watching for changes\n",
    "            # related to this itemid before the transaction\n",
    "\n",
    "            pipe.watch(sushi_id)\n",
    "            nleft_restock = int(r.hget(sushi_id,'stock').decode()) # on utilise le int et decode pour convertir l'output bytes de redis en nombre int\n",
    "\n",
    "            # on réalise l'opération d'achat si l'objet est en stock\n",
    "\n",
    "            if nleft_restock + stock_count < 10000:\n",
    "\n",
    "                pipe.multi() # on débute l'enregistrement des étapes qu'on veux réaliser sur le serveur redis\n",
    "                pipe.hincrby(sushi_id, 'stock', stock_count)\n",
    "                pipe.execute() # on transfert l'ensemble des étapes réalisée depuis multi sur notre serveur redis\n",
    "            \n",
    "                break\n",
    "            \n",
    "            elif nleft_restock < 10000 and nleft_restock + stock_count > 10000:\n",
    "                pipe.multi()\n",
    "                pipe.hset(sushi_id,'stock',10000)\n",
    "                pipe.execute()\n",
    "                \n",
    "                raise NoPlaceAvailableError(f\"Désolé, nous avons déjà remis le stock de {sushi_id} au maximum\")\n",
    "\n",
    "            else:\n",
    "\n",
    "                pipe.unwatch()\n",
    "                raise TooMuchStockError(f\"Sorry, {sushi_id} is already full of stock!\")\n",
    "            \n",
    "    return None\n"
   ]
  },
  {
   "cell_type": "code",
   "execution_count": 593,
   "metadata": {},
   "outputs": [
    {
     "ename": "TooMuchStockError",
     "evalue": "Sorry, sushi:4 is already full of stock!",
     "output_type": "error",
     "traceback": [
      "\u001b[0;31m---------------------------------------------------------------------------\u001b[0m",
      "\u001b[0;31mTooMuchStockError\u001b[0m                         Traceback (most recent call last)",
      "\u001b[0;32m<ipython-input-593-18d1c0eea97d>\u001b[0m in \u001b[0;36m<module>\u001b[0;34m\u001b[0m\n\u001b[0;32m----> 1\u001b[0;31m \u001b[0mrestock\u001b[0m\u001b[0;34m(\u001b[0m\u001b[0mr\u001b[0m\u001b[0;34m,\u001b[0m\u001b[0;34m'sushi:4'\u001b[0m\u001b[0;34m,\u001b[0m \u001b[0;36m4000\u001b[0m\u001b[0;34m)\u001b[0m\u001b[0;34m\u001b[0m\u001b[0;34m\u001b[0m\u001b[0m\n\u001b[0m\u001b[1;32m      2\u001b[0m \u001b[0mr\u001b[0m\u001b[0;34m.\u001b[0m\u001b[0mhmget\u001b[0m\u001b[0;34m(\u001b[0m\u001b[0;34m\"sushi:4\"\u001b[0m\u001b[0;34m,\u001b[0m\u001b[0;34m'stock'\u001b[0m\u001b[0;34m,\u001b[0m\u001b[0;34m'nb_achat'\u001b[0m\u001b[0;34m)\u001b[0m\u001b[0;34m\u001b[0m\u001b[0;34m\u001b[0m\u001b[0m\n",
      "\u001b[0;32m<ipython-input-592-40e14c606eca>\u001b[0m in \u001b[0;36mrestock\u001b[0;34m(r, sushi_id, stock_count)\u001b[0m\n\u001b[1;32m     37\u001b[0m \u001b[0;34m\u001b[0m\u001b[0m\n\u001b[1;32m     38\u001b[0m                 \u001b[0mpipe\u001b[0m\u001b[0;34m.\u001b[0m\u001b[0munwatch\u001b[0m\u001b[0;34m(\u001b[0m\u001b[0;34m)\u001b[0m\u001b[0;34m\u001b[0m\u001b[0;34m\u001b[0m\u001b[0m\n\u001b[0;32m---> 39\u001b[0;31m                 \u001b[0;32mraise\u001b[0m \u001b[0mTooMuchStockError\u001b[0m\u001b[0;34m(\u001b[0m\u001b[0;34mf\"Sorry, {sushi_id} is already full of stock!\"\u001b[0m\u001b[0;34m)\u001b[0m\u001b[0;34m\u001b[0m\u001b[0;34m\u001b[0m\u001b[0m\n\u001b[0m\u001b[1;32m     40\u001b[0m \u001b[0;34m\u001b[0m\u001b[0m\n\u001b[1;32m     41\u001b[0m     \u001b[0;32mreturn\u001b[0m \u001b[0;32mNone\u001b[0m\u001b[0;34m\u001b[0m\u001b[0;34m\u001b[0m\u001b[0m\n",
      "\u001b[0;31mTooMuchStockError\u001b[0m: Sorry, sushi:4 is already full of stock!"
     ]
    }
   ],
   "source": [
    "restock(r,'sushi:4', 4000)\n",
    "r.hmget(\"sushi:4\",'stock','nb_achat')"
   ]
  },
  {
   "cell_type": "code",
   "execution_count": 586,
   "metadata": {},
   "outputs": [],
   "source": [
    "# une fonction pour récup ce qu'on veux des sushis et le voir à tout moment dans un tableau de données\n",
    "\n",
    "def item_info():\n",
    "    \n",
    "    # on récupère toute les infos de l'objet en question\n",
    "    info_get = []\n",
    "    \n",
    "    for i in range(len(sushis)):\n",
    "        \n",
    "        name = str(\"sushi:\")+str(i)\n",
    "        \n",
    "        # on choisi ce que l'on veux récupérer et on utilise .decode() pour décoder le type bytes de redis\n",
    "        stock = int(r.hget(name,'stock').decode())\n",
    "        nb_achat = int(r.hget(name,'nb_achat').decode())\n",
    "        \n",
    "        # a voir comment améliorer le truc, voir si on fait du hget simple pour chaque ingr ou hmget\n",
    "        info_add = [stock, nb_achat]\n",
    "                \n",
    "        info_get.append(info_add)\n",
    "        \n",
    "    # on convertit notre liste de liste en dataframe un peu sympa et plus \n",
    "    item_df = pd.DataFrame(info_get,\n",
    "                        columns=['stock','nb_achat'],\n",
    "                        index = [str(\"sushi:\")+str(i) for i in range(10)])\n",
    "    \n",
    "    return(item_df)    \n"
   ]
  },
  {
   "cell_type": "code",
   "execution_count": 587,
   "metadata": {
    "scrolled": true
   },
   "outputs": [
    {
     "data": {
      "text/html": [
       "<div>\n",
       "<style scoped>\n",
       "    .dataframe tbody tr th:only-of-type {\n",
       "        vertical-align: middle;\n",
       "    }\n",
       "\n",
       "    .dataframe tbody tr th {\n",
       "        vertical-align: top;\n",
       "    }\n",
       "\n",
       "    .dataframe thead th {\n",
       "        text-align: right;\n",
       "    }\n",
       "</style>\n",
       "<table border=\"1\" class=\"dataframe\">\n",
       "  <thead>\n",
       "    <tr style=\"text-align: right;\">\n",
       "      <th></th>\n",
       "      <th>stock</th>\n",
       "      <th>nb_achat</th>\n",
       "    </tr>\n",
       "  </thead>\n",
       "  <tbody>\n",
       "    <tr>\n",
       "      <th>sushi:0</th>\n",
       "      <td>2819</td>\n",
       "      <td>0</td>\n",
       "    </tr>\n",
       "    <tr>\n",
       "      <th>sushi:1</th>\n",
       "      <td>10000</td>\n",
       "      <td>188</td>\n",
       "    </tr>\n",
       "    <tr>\n",
       "      <th>sushi:2</th>\n",
       "      <td>10000</td>\n",
       "      <td>20</td>\n",
       "    </tr>\n",
       "    <tr>\n",
       "      <th>sushi:3</th>\n",
       "      <td>12635</td>\n",
       "      <td>4020</td>\n",
       "    </tr>\n",
       "    <tr>\n",
       "      <th>sushi:4</th>\n",
       "      <td>10000</td>\n",
       "      <td>3541</td>\n",
       "    </tr>\n",
       "    <tr>\n",
       "      <th>sushi:5</th>\n",
       "      <td>0</td>\n",
       "      <td>642</td>\n",
       "    </tr>\n",
       "    <tr>\n",
       "      <th>sushi:6</th>\n",
       "      <td>0</td>\n",
       "      <td>556</td>\n",
       "    </tr>\n",
       "    <tr>\n",
       "      <th>sushi:7</th>\n",
       "      <td>2362</td>\n",
       "      <td>0</td>\n",
       "    </tr>\n",
       "    <tr>\n",
       "      <th>sushi:8</th>\n",
       "      <td>684</td>\n",
       "      <td>0</td>\n",
       "    </tr>\n",
       "    <tr>\n",
       "      <th>sushi:9</th>\n",
       "      <td>1273</td>\n",
       "      <td>0</td>\n",
       "    </tr>\n",
       "  </tbody>\n",
       "</table>\n",
       "</div>"
      ],
      "text/plain": [
       "         stock  nb_achat\n",
       "sushi:0   2819         0\n",
       "sushi:1  10000       188\n",
       "sushi:2  10000        20\n",
       "sushi:3  12635      4020\n",
       "sushi:4  10000      3541\n",
       "sushi:5      0       642\n",
       "sushi:6      0       556\n",
       "sushi:7   2362         0\n",
       "sushi:8    684         0\n",
       "sushi:9   1273         0"
      ]
     },
     "execution_count": 587,
     "metadata": {},
     "output_type": "execute_result"
    }
   ],
   "source": [
    "liste_sushi = item_info()\n",
    "liste_sushi"
   ]
  },
  {
   "cell_type": "code",
   "execution_count": 598,
   "metadata": {},
   "outputs": [
    {
     "data": {
      "text/plain": [
       "<matplotlib.axes._subplots.AxesSubplot at 0x7f5185622a00>"
      ]
     },
     "execution_count": 598,
     "metadata": {},
     "output_type": "execute_result"
    },
    {
     "data": {
      "image/png": "[encoded data removed]",
      "text/plain": [
       "<Figure size 432x288 with 1 Axes>"
      ]
     },
     "metadata": {},
     "output_type": "display_data"
    }
   ],
   "source": [
    "sns.set()\n",
    "#sns.barplot(data=liste_sushi,x=liste_sushi.index,y='stock')\n",
    "sns.barplot(data=liste_sushi,x=liste_sushi.index,y='nb_achat')"
   ]
  },
  {
   "cell_type": "code",
   "execution_count": 596,
   "metadata": {},
   "outputs": [],
   "source": [
    "def item_ingredient():\n",
    "    \n",
    "    ingredient_get = []\n",
    "    \n",
    "    for i in range(len(sushis)):\n",
    "        \n",
    "        name = str(\"sushi:\")+str(i)\n",
    "        ingredient_add = []\n",
    "        \n",
    "        name_ingredient = ['saumon', 'saumon_teriyaki', 'daurade', 'thon', 'crevette', \n",
    "                                            'poulet', 'thon_cuit', 'foie_gras', 'tofu', 'truite', 'hareng', \n",
    "                                            'poulpe', 'boeuf', 'chair_de_crabe', 'oeufs_de_saumon', 'avocat', \n",
    "                                            'fromage', 'oeuf', 'gingembre', 'wasabi', 'sauce_salee', \n",
    "                                            'sauce_sucree', 'sauce_sucreesalee', 'mayonnaise_classique', \n",
    "                                            'mayonnaise_teriyaki', 'mayonnaise_japonaise', 'mayonnaise_spicy', \n",
    "                                            'mayonnaise_ponzu', 'sauce_teriyaki', 'sauce_satay_aux_cacahuetes',\n",
    "                                            'sauce_epicee', 'mangue', 'carotte', 'anis', 'poivre_rose', \n",
    "                                            'cannelle', 'cardamome', 'curcuma', 'feve', 'edamame', 'macis', \n",
    "                                            'maniguette', 'paprika', 'piment', 'poivre', 'safran', 'sumac', \n",
    "                                            'persil', 'herbe_de_provence', 'sesame', 'feuilles_de_riz', \n",
    "                                            'menthe', 'coriandre', 'chou', 'ciboulette', 'pomme', \n",
    "                                            'celeri_rave', 'aneth', 'baies_roses', 'prune', 'betterave', \n",
    "                                            'noix_de_coco', 'citron_vert', 'citron_jaune', 'dattes', \n",
    "                                            'laitue', 'roquette', 'concombre', 'poivrons', 'asperge', \n",
    "                                            'oignons_crus', 'oignons_caramelises', 'oignons_frits']\n",
    "\n",
    "        # petite boucle pour rentrer l'ensemble des ingrédients dans la liste\n",
    "        for i in range(len(name_ingredient)):\n",
    "            \n",
    "            ingredient = r.hget(name, name_ingredient[i]).decode()\n",
    "            ingredient_add.append(ingredient)\n",
    "        \n",
    "        ingredient_get.append(ingredient_add)\n",
    "    \n",
    "    # on convertit notre liste de liste en dataframe un peu sympa et plus \n",
    "    \n",
    "    ingredient_df = pd.DataFrame(ingredient_get,\n",
    "                        columns=name_ingredient,\n",
    "                        index = [str(\"sushi:\")+str(i) for i in range(10)])\n",
    "    \n",
    "    return(ingredient_df)"
   ]
  },
  {
   "cell_type": "code",
   "execution_count": 597,
   "metadata": {},
   "outputs": [
    {
     "data": {
      "text/html": [
       "<div>\n",
       "<style scoped>\n",
       "    .dataframe tbody tr th:only-of-type {\n",
       "        vertical-align: middle;\n",
       "    }\n",
       "\n",
       "    .dataframe tbody tr th {\n",
       "        vertical-align: top;\n",
       "    }\n",
       "\n",
       "    .dataframe thead th {\n",
       "        text-align: right;\n",
       "    }\n",
       "</style>\n",
       "<table border=\"1\" class=\"dataframe\">\n",
       "  <thead>\n",
       "    <tr style=\"text-align: right;\">\n",
       "      <th></th>\n",
       "      <th>saumon</th>\n",
       "      <th>saumon_teriyaki</th>\n",
       "      <th>daurade</th>\n",
       "      <th>thon</th>\n",
       "      <th>crevette</th>\n",
       "      <th>poulet</th>\n",
       "      <th>thon_cuit</th>\n",
       "      <th>foie_gras</th>\n",
       "      <th>tofu</th>\n",
       "      <th>truite</th>\n",
       "      <th>...</th>\n",
       "      <th>citron_jaune</th>\n",
       "      <th>dattes</th>\n",
       "      <th>laitue</th>\n",
       "      <th>roquette</th>\n",
       "      <th>concombre</th>\n",
       "      <th>poivrons</th>\n",
       "      <th>asperge</th>\n",
       "      <th>oignons_crus</th>\n",
       "      <th>oignons_caramelises</th>\n",
       "      <th>oignons_frits</th>\n",
       "    </tr>\n",
       "  </thead>\n",
       "  <tbody>\n",
       "    <tr>\n",
       "      <th>sushi:0</th>\n",
       "      <td>Non</td>\n",
       "      <td>Non</td>\n",
       "      <td>Oui</td>\n",
       "      <td>Non</td>\n",
       "      <td>Non</td>\n",
       "      <td>Non</td>\n",
       "      <td>Non</td>\n",
       "      <td>Non</td>\n",
       "      <td>Non</td>\n",
       "      <td>Non</td>\n",
       "      <td>...</td>\n",
       "      <td>Oui</td>\n",
       "      <td>Non</td>\n",
       "      <td>Non</td>\n",
       "      <td>Oui</td>\n",
       "      <td>Non</td>\n",
       "      <td>Non</td>\n",
       "      <td>Oui</td>\n",
       "      <td>Oui</td>\n",
       "      <td>Oui</td>\n",
       "      <td>Oui</td>\n",
       "    </tr>\n",
       "    <tr>\n",
       "      <th>sushi:1</th>\n",
       "      <td>Oui</td>\n",
       "      <td>Non</td>\n",
       "      <td>Oui</td>\n",
       "      <td>Non</td>\n",
       "      <td>Oui</td>\n",
       "      <td>Non</td>\n",
       "      <td>Oui</td>\n",
       "      <td>Non</td>\n",
       "      <td>Non</td>\n",
       "      <td>Non</td>\n",
       "      <td>...</td>\n",
       "      <td>Non</td>\n",
       "      <td>Non</td>\n",
       "      <td>Non</td>\n",
       "      <td>Non</td>\n",
       "      <td>Oui</td>\n",
       "      <td>Oui</td>\n",
       "      <td>Non</td>\n",
       "      <td>Oui</td>\n",
       "      <td>Oui</td>\n",
       "      <td>Oui</td>\n",
       "    </tr>\n",
       "    <tr>\n",
       "      <th>sushi:2</th>\n",
       "      <td>Oui</td>\n",
       "      <td>Oui</td>\n",
       "      <td>Non</td>\n",
       "      <td>Oui</td>\n",
       "      <td>Non</td>\n",
       "      <td>Non</td>\n",
       "      <td>Non</td>\n",
       "      <td>Non</td>\n",
       "      <td>Non</td>\n",
       "      <td>Oui</td>\n",
       "      <td>...</td>\n",
       "      <td>Oui</td>\n",
       "      <td>Non</td>\n",
       "      <td>Non</td>\n",
       "      <td>Non</td>\n",
       "      <td>Oui</td>\n",
       "      <td>Non</td>\n",
       "      <td>Non</td>\n",
       "      <td>Non</td>\n",
       "      <td>Non</td>\n",
       "      <td>Oui</td>\n",
       "    </tr>\n",
       "    <tr>\n",
       "      <th>sushi:3</th>\n",
       "      <td>Non</td>\n",
       "      <td>Non</td>\n",
       "      <td>Oui</td>\n",
       "      <td>Non</td>\n",
       "      <td>Non</td>\n",
       "      <td>Non</td>\n",
       "      <td>Non</td>\n",
       "      <td>Non</td>\n",
       "      <td>Oui</td>\n",
       "      <td>Oui</td>\n",
       "      <td>...</td>\n",
       "      <td>Non</td>\n",
       "      <td>Oui</td>\n",
       "      <td>Non</td>\n",
       "      <td>Oui</td>\n",
       "      <td>Oui</td>\n",
       "      <td>Oui</td>\n",
       "      <td>Non</td>\n",
       "      <td>Non</td>\n",
       "      <td>Oui</td>\n",
       "      <td>Non</td>\n",
       "    </tr>\n",
       "    <tr>\n",
       "      <th>sushi:4</th>\n",
       "      <td>Non</td>\n",
       "      <td>Non</td>\n",
       "      <td>Non</td>\n",
       "      <td>Non</td>\n",
       "      <td>Non</td>\n",
       "      <td>Non</td>\n",
       "      <td>Non</td>\n",
       "      <td>Oui</td>\n",
       "      <td>Non</td>\n",
       "      <td>Oui</td>\n",
       "      <td>...</td>\n",
       "      <td>Oui</td>\n",
       "      <td>Oui</td>\n",
       "      <td>Non</td>\n",
       "      <td>Oui</td>\n",
       "      <td>Non</td>\n",
       "      <td>Non</td>\n",
       "      <td>Non</td>\n",
       "      <td>Non</td>\n",
       "      <td>Oui</td>\n",
       "      <td>Non</td>\n",
       "    </tr>\n",
       "    <tr>\n",
       "      <th>sushi:5</th>\n",
       "      <td>Oui</td>\n",
       "      <td>Oui</td>\n",
       "      <td>Non</td>\n",
       "      <td>Non</td>\n",
       "      <td>Oui</td>\n",
       "      <td>Oui</td>\n",
       "      <td>Non</td>\n",
       "      <td>Non</td>\n",
       "      <td>Oui</td>\n",
       "      <td>Oui</td>\n",
       "      <td>...</td>\n",
       "      <td>Oui</td>\n",
       "      <td>Non</td>\n",
       "      <td>Oui</td>\n",
       "      <td>Non</td>\n",
       "      <td>Non</td>\n",
       "      <td>Oui</td>\n",
       "      <td>Non</td>\n",
       "      <td>Oui</td>\n",
       "      <td>Non</td>\n",
       "      <td>Oui</td>\n",
       "    </tr>\n",
       "    <tr>\n",
       "      <th>sushi:6</th>\n",
       "      <td>Oui</td>\n",
       "      <td>Oui</td>\n",
       "      <td>Oui</td>\n",
       "      <td>Oui</td>\n",
       "      <td>Oui</td>\n",
       "      <td>Non</td>\n",
       "      <td>Non</td>\n",
       "      <td>Non</td>\n",
       "      <td>Oui</td>\n",
       "      <td>Oui</td>\n",
       "      <td>...</td>\n",
       "      <td>Non</td>\n",
       "      <td>Oui</td>\n",
       "      <td>Non</td>\n",
       "      <td>Oui</td>\n",
       "      <td>Oui</td>\n",
       "      <td>Non</td>\n",
       "      <td>Non</td>\n",
       "      <td>Oui</td>\n",
       "      <td>Oui</td>\n",
       "      <td>Non</td>\n",
       "    </tr>\n",
       "    <tr>\n",
       "      <th>sushi:7</th>\n",
       "      <td>Non</td>\n",
       "      <td>Non</td>\n",
       "      <td>Oui</td>\n",
       "      <td>Non</td>\n",
       "      <td>Oui</td>\n",
       "      <td>Oui</td>\n",
       "      <td>Non</td>\n",
       "      <td>Oui</td>\n",
       "      <td>Oui</td>\n",
       "      <td>Oui</td>\n",
       "      <td>...</td>\n",
       "      <td>Non</td>\n",
       "      <td>Oui</td>\n",
       "      <td>Non</td>\n",
       "      <td>Oui</td>\n",
       "      <td>Oui</td>\n",
       "      <td>Oui</td>\n",
       "      <td>Non</td>\n",
       "      <td>Oui</td>\n",
       "      <td>Oui</td>\n",
       "      <td>Non</td>\n",
       "    </tr>\n",
       "    <tr>\n",
       "      <th>sushi:8</th>\n",
       "      <td>Non</td>\n",
       "      <td>Non</td>\n",
       "      <td>Oui</td>\n",
       "      <td>Non</td>\n",
       "      <td>Oui</td>\n",
       "      <td>Non</td>\n",
       "      <td>Oui</td>\n",
       "      <td>Oui</td>\n",
       "      <td>Oui</td>\n",
       "      <td>Oui</td>\n",
       "      <td>...</td>\n",
       "      <td>Non</td>\n",
       "      <td>Oui</td>\n",
       "      <td>Oui</td>\n",
       "      <td>Oui</td>\n",
       "      <td>Non</td>\n",
       "      <td>Non</td>\n",
       "      <td>Oui</td>\n",
       "      <td>Non</td>\n",
       "      <td>Non</td>\n",
       "      <td>Non</td>\n",
       "    </tr>\n",
       "    <tr>\n",
       "      <th>sushi:9</th>\n",
       "      <td>Oui</td>\n",
       "      <td>Oui</td>\n",
       "      <td>Oui</td>\n",
       "      <td>Oui</td>\n",
       "      <td>Non</td>\n",
       "      <td>Non</td>\n",
       "      <td>Oui</td>\n",
       "      <td>Oui</td>\n",
       "      <td>Non</td>\n",
       "      <td>Non</td>\n",
       "      <td>...</td>\n",
       "      <td>Non</td>\n",
       "      <td>Non</td>\n",
       "      <td>Non</td>\n",
       "      <td>Non</td>\n",
       "      <td>Non</td>\n",
       "      <td>Non</td>\n",
       "      <td>Non</td>\n",
       "      <td>Non</td>\n",
       "      <td>Non</td>\n",
       "      <td>Oui</td>\n",
       "    </tr>\n",
       "  </tbody>\n",
       "</table>\n",
       "<p>10 rows × 73 columns</p>\n",
       "</div>"
      ],
      "text/plain": [
       "        saumon saumon_teriyaki daurade thon crevette poulet thon_cuit  \\\n",
       "sushi:0    Non             Non     Oui  Non      Non    Non       Non   \n",
       "sushi:1    Oui             Non     Oui  Non      Oui    Non       Oui   \n",
       "sushi:2    Oui             Oui     Non  Oui      Non    Non       Non   \n",
       "sushi:3    Non             Non     Oui  Non      Non    Non       Non   \n",
       "sushi:4    Non             Non     Non  Non      Non    Non       Non   \n",
       "sushi:5    Oui             Oui     Non  Non      Oui    Oui       Non   \n",
       "sushi:6    Oui             Oui     Oui  Oui      Oui    Non       Non   \n",
       "sushi:7    Non             Non     Oui  Non      Oui    Oui       Non   \n",
       "sushi:8    Non             Non     Oui  Non      Oui    Non       Oui   \n",
       "sushi:9    Oui             Oui     Oui  Oui      Non    Non       Oui   \n",
       "\n",
       "        foie_gras tofu truite  ... citron_jaune dattes laitue roquette  \\\n",
       "sushi:0       Non  Non    Non  ...          Oui    Non    Non      Oui   \n",
       "sushi:1       Non  Non    Non  ...          Non    Non    Non      Non   \n",
       "sushi:2       Non  Non    Oui  ...          Oui    Non    Non      Non   \n",
       "sushi:3       Non  Oui    Oui  ...          Non    Oui    Non      Oui   \n",
       "sushi:4       Oui  Non    Oui  ...          Oui    Oui    Non      Oui   \n",
       "sushi:5       Non  Oui    Oui  ...          Oui    Non    Oui      Non   \n",
       "sushi:6       Non  Oui    Oui  ...          Non    Oui    Non      Oui   \n",
       "sushi:7       Oui  Oui    Oui  ...          Non    Oui    Non      Oui   \n",
       "sushi:8       Oui  Oui    Oui  ...          Non    Oui    Oui      Oui   \n",
       "sushi:9       Oui  Non    Non  ...          Non    Non    Non      Non   \n",
       "\n",
       "        concombre poivrons asperge oignons_crus oignons_caramelises  \\\n",
       "sushi:0       Non      Non     Oui          Oui                 Oui   \n",
       "sushi:1       Oui      Oui     Non          Oui                 Oui   \n",
       "sushi:2       Oui      Non     Non          Non                 Non   \n",
       "sushi:3       Oui      Oui     Non          Non                 Oui   \n",
       "sushi:4       Non      Non     Non          Non                 Oui   \n",
       "sushi:5       Non      Oui     Non          Oui                 Non   \n",
       "sushi:6       Oui      Non     Non          Oui                 Oui   \n",
       "sushi:7       Oui      Oui     Non          Oui                 Oui   \n",
       "sushi:8       Non      Non     Oui          Non                 Non   \n",
       "sushi:9       Non      Non     Non          Non                 Non   \n",
       "\n",
       "        oignons_frits  \n",
       "sushi:0           Oui  \n",
       "sushi:1           Oui  \n",
       "sushi:2           Oui  \n",
       "sushi:3           Non  \n",
       "sushi:4           Non  \n",
       "sushi:5           Oui  \n",
       "sushi:6           Non  \n",
       "sushi:7           Non  \n",
       "sushi:8           Non  \n",
       "sushi:9           Oui  \n",
       "\n",
       "[10 rows x 73 columns]"
      ]
     },
     "execution_count": 597,
     "metadata": {},
     "output_type": "execute_result"
    }
   ],
   "source": [
    "item_ingredient()"
   ]
  },
  {
   "cell_type": "markdown",
   "metadata": {},
   "source": [
    "Essayez de voir comment on peux plotter ces données de manière un peu joli :"
   ]
  },
  {
   "cell_type": "markdown",
   "metadata": {},
   "source": [
    "##### faire des graphs \"big data\"\n",
    "\n",
    "- genre faire une représentation de l'évolution du stock/nb_achat (total de sushi?) au cours du temps\n",
    "- faire le camembert de proportion de sushi qui contient tel ingredient "
   ]
  },
  {
   "cell_type": "markdown",
   "metadata": {},
   "source": [
    "### !!!!!!!!!éventuellement inclure : \n",
    " - rajouter des options de monitoring du stock des objets et complexifier un peu l'offre donc voir modifier les chsoes au début pour faire genre de la gestion de maxi database de vetements \n",
    " - une visu type barchat du stock pour chaque produit avec les requetes sur la db? à voir comment faire je maitrise pas trop ça\n",
    " - des visus complémentaires informant sur l'état des stocks, évolution des achats etc... à voir "
   ]
  },
  {
   "cell_type": "markdown",
   "metadata": {},
   "source": [
    "on s'intéresse à l'expiration et à comment on pourrait l'utiliser en pratique"
   ]
  },
  {
   "cell_type": "code",
   "execution_count": 375,
   "metadata": {},
   "outputs": [
    {
     "data": {
      "text/plain": [
       "90"
      ]
     },
     "execution_count": 375,
     "metadata": {},
     "output_type": "execute_result"
    }
   ],
   "source": [
    "from datetime import timedelta\n",
    "r.setex(\"runner\",timedelta(minutes=1.5), value =\" careful! \")\n",
    "r.ttl(\"runner\")"
   ]
  },
  {
   "cell_type": "markdown",
   "metadata": {},
   "source": [
    "### on va voir comment on peux ajouter des sushis temporaires ! avec de superbes recettes miam !\n",
    "- pour cela on se sert de la fonctionnalité EXPIRE présente dans redis, pour en savoir plus allez [ici](https://redis.io/commands#generic)\n",
    "- __ce serait bien d'avoir un système de surveillance des perfs de notre server redis__"
   ]
  },
  {
   "cell_type": "code",
   "execution_count": 397,
   "metadata": {},
   "outputs": [
    {
     "data": {
      "text/plain": [
       "True"
      ]
     },
     "execution_count": 397,
     "metadata": {},
     "output_type": "execute_result"
    }
   ],
   "source": [
    "# sert a fixer la durée de vie d'un sushi ! par ex simuler une vente temporaire !\n",
    "\n",
    "r.expire('sushi:3',15)\n",
    "\n",
    "# tant que la clé est encore en vie on peux la manipuler comme bon nous semble et récupérer les informations que l'on veux\n",
    "r.hgetall('sushi:3')"
   ]
  },
  {
   "cell_type": "code",
   "execution_count": null,
   "metadata": {},
   "outputs": [],
   "source": [
    "def life_expire(r,life_count)"
   ]
  },
  {
   "cell_type": "markdown",
   "metadata": {},
   "source": [
    "## on s'intéresse maintenant à l'ajout d'objet *JSON-like* et voir comment cela est supporté dans redis"
   ]
  },
  {
   "cell_type": "code",
   "execution_count": 197,
   "metadata": {},
   "outputs": [
    {
     "name": "stdout",
     "output_type": "stream",
     "text": [
      "{'address': {'city': 'New York',\n",
      "             'state': 'NY',\n",
      "             'street': {'line1': '11 E 30th St', 'line2': 'APT 1'},\n",
      "             'zip': 10016},\n",
      " 'name': 'Ravagh',\n",
      " 'type': 'Persian'}\n"
     ]
    }
   ],
   "source": [
    "restaurant_484272 = {\n",
    "    \"name\": \"Ravagh\",\n",
    "    \"type\": \"Persian\",\n",
    "    \"address\": {\n",
    "        \"street\": {\n",
    "            \"line1\": \"11 E 30th St\",\n",
    "            \"line2\": \"APT 1\",\n",
    "        },\n",
    "        \"city\": \"New York\",\n",
    "        \"state\": \"NY\",\n",
    "        \"zip\": 10016,\n",
    "    }\n",
    "}\n",
    "pprint.pprint(restaurant_484272)"
   ]
  },
  {
   "cell_type": "code",
   "execution_count": 227,
   "metadata": {},
   "outputs": [
    {
     "name": "stderr",
     "output_type": "stream",
     "text": [
      "<ipython-input-227-a6fd59feb95a>:2: DeprecationWarning: Redis.hmset() is deprecated. Use Redis.hset() instead.\n",
      "  r.hmset(484272, restaurant_484272)\n"
     ]
    },
    {
     "ename": "DataError",
     "evalue": "Invalid input of type: 'dict'. Convert to a bytes, string, int or float first.",
     "output_type": "error",
     "traceback": [
      "\u001b[0;31m---------------------------------------------------------------------------\u001b[0m",
      "\u001b[0;31mDataError\u001b[0m                                 Traceback (most recent call last)",
      "\u001b[0;32m<ipython-input-227-a6fd59feb95a>\u001b[0m in \u001b[0;36m<module>\u001b[0;34m\u001b[0m\n\u001b[1;32m      1\u001b[0m \u001b[0;31m# ca ne va pas marcher car restaurant est un objet a part entiere\u001b[0m\u001b[0;34m\u001b[0m\u001b[0;34m\u001b[0m\u001b[0;34m\u001b[0m\u001b[0m\n\u001b[0;32m----> 2\u001b[0;31m \u001b[0mr\u001b[0m\u001b[0;34m.\u001b[0m\u001b[0mhmset\u001b[0m\u001b[0;34m(\u001b[0m\u001b[0;36m484272\u001b[0m\u001b[0;34m,\u001b[0m \u001b[0mrestaurant_484272\u001b[0m\u001b[0;34m)\u001b[0m\u001b[0;34m\u001b[0m\u001b[0;34m\u001b[0m\u001b[0m\n\u001b[0m",
      "\u001b[0;32m~/anaconda3/lib/python3.8/site-packages/redis/client.py\u001b[0m in \u001b[0;36mhmset\u001b[0;34m(self, name, mapping)\u001b[0m\n\u001b[1;32m   3073\u001b[0m         \u001b[0;32mfor\u001b[0m \u001b[0mpair\u001b[0m \u001b[0;32min\u001b[0m \u001b[0miteritems\u001b[0m\u001b[0;34m(\u001b[0m\u001b[0mmapping\u001b[0m\u001b[0;34m)\u001b[0m\u001b[0;34m:\u001b[0m\u001b[0;34m\u001b[0m\u001b[0;34m\u001b[0m\u001b[0m\n\u001b[1;32m   3074\u001b[0m             \u001b[0mitems\u001b[0m\u001b[0;34m.\u001b[0m\u001b[0mextend\u001b[0m\u001b[0;34m(\u001b[0m\u001b[0mpair\u001b[0m\u001b[0;34m)\u001b[0m\u001b[0;34m\u001b[0m\u001b[0;34m\u001b[0m\u001b[0m\n\u001b[0;32m-> 3075\u001b[0;31m         \u001b[0;32mreturn\u001b[0m \u001b[0mself\u001b[0m\u001b[0;34m.\u001b[0m\u001b[0mexecute_command\u001b[0m\u001b[0;34m(\u001b[0m\u001b[0;34m'HMSET'\u001b[0m\u001b[0;34m,\u001b[0m \u001b[0mname\u001b[0m\u001b[0;34m,\u001b[0m \u001b[0;34m*\u001b[0m\u001b[0mitems\u001b[0m\u001b[0;34m)\u001b[0m\u001b[0;34m\u001b[0m\u001b[0;34m\u001b[0m\u001b[0m\n\u001b[0m\u001b[1;32m   3076\u001b[0m \u001b[0;34m\u001b[0m\u001b[0m\n\u001b[1;32m   3077\u001b[0m     \u001b[0;32mdef\u001b[0m \u001b[0mhmget\u001b[0m\u001b[0;34m(\u001b[0m\u001b[0mself\u001b[0m\u001b[0;34m,\u001b[0m \u001b[0mname\u001b[0m\u001b[0;34m,\u001b[0m \u001b[0mkeys\u001b[0m\u001b[0;34m,\u001b[0m \u001b[0;34m*\u001b[0m\u001b[0margs\u001b[0m\u001b[0;34m)\u001b[0m\u001b[0;34m:\u001b[0m\u001b[0;34m\u001b[0m\u001b[0;34m\u001b[0m\u001b[0m\n",
      "\u001b[0;32m~/anaconda3/lib/python3.8/site-packages/redis/client.py\u001b[0m in \u001b[0;36mexecute_command\u001b[0;34m(self, *args, **options)\u001b[0m\n\u001b[1;32m    898\u001b[0m         \u001b[0mconn\u001b[0m \u001b[0;34m=\u001b[0m \u001b[0mself\u001b[0m\u001b[0;34m.\u001b[0m\u001b[0mconnection\u001b[0m \u001b[0;32mor\u001b[0m \u001b[0mpool\u001b[0m\u001b[0;34m.\u001b[0m\u001b[0mget_connection\u001b[0m\u001b[0;34m(\u001b[0m\u001b[0mcommand_name\u001b[0m\u001b[0;34m,\u001b[0m \u001b[0;34m**\u001b[0m\u001b[0moptions\u001b[0m\u001b[0;34m)\u001b[0m\u001b[0;34m\u001b[0m\u001b[0;34m\u001b[0m\u001b[0m\n\u001b[1;32m    899\u001b[0m         \u001b[0;32mtry\u001b[0m\u001b[0;34m:\u001b[0m\u001b[0;34m\u001b[0m\u001b[0;34m\u001b[0m\u001b[0m\n\u001b[0;32m--> 900\u001b[0;31m             \u001b[0mconn\u001b[0m\u001b[0;34m.\u001b[0m\u001b[0msend_command\u001b[0m\u001b[0;34m(\u001b[0m\u001b[0;34m*\u001b[0m\u001b[0margs\u001b[0m\u001b[0;34m)\u001b[0m\u001b[0;34m\u001b[0m\u001b[0;34m\u001b[0m\u001b[0m\n\u001b[0m\u001b[1;32m    901\u001b[0m             \u001b[0;32mreturn\u001b[0m \u001b[0mself\u001b[0m\u001b[0;34m.\u001b[0m\u001b[0mparse_response\u001b[0m\u001b[0;34m(\u001b[0m\u001b[0mconn\u001b[0m\u001b[0;34m,\u001b[0m \u001b[0mcommand_name\u001b[0m\u001b[0;34m,\u001b[0m \u001b[0;34m**\u001b[0m\u001b[0moptions\u001b[0m\u001b[0;34m)\u001b[0m\u001b[0;34m\u001b[0m\u001b[0;34m\u001b[0m\u001b[0m\n\u001b[1;32m    902\u001b[0m         \u001b[0;32mexcept\u001b[0m \u001b[0;34m(\u001b[0m\u001b[0mConnectionError\u001b[0m\u001b[0;34m,\u001b[0m \u001b[0mTimeoutError\u001b[0m\u001b[0;34m)\u001b[0m \u001b[0;32mas\u001b[0m \u001b[0me\u001b[0m\u001b[0;34m:\u001b[0m\u001b[0;34m\u001b[0m\u001b[0;34m\u001b[0m\u001b[0m\n",
      "\u001b[0;32m~/anaconda3/lib/python3.8/site-packages/redis/connection.py\u001b[0m in \u001b[0;36msend_command\u001b[0;34m(self, *args, **kwargs)\u001b[0m\n\u001b[1;32m    723\u001b[0m     \u001b[0;32mdef\u001b[0m \u001b[0msend_command\u001b[0m\u001b[0;34m(\u001b[0m\u001b[0mself\u001b[0m\u001b[0;34m,\u001b[0m \u001b[0;34m*\u001b[0m\u001b[0margs\u001b[0m\u001b[0;34m,\u001b[0m \u001b[0;34m**\u001b[0m\u001b[0mkwargs\u001b[0m\u001b[0;34m)\u001b[0m\u001b[0;34m:\u001b[0m\u001b[0;34m\u001b[0m\u001b[0;34m\u001b[0m\u001b[0m\n\u001b[1;32m    724\u001b[0m         \u001b[0;34m\"Pack and send a command to the Redis server\"\u001b[0m\u001b[0;34m\u001b[0m\u001b[0;34m\u001b[0m\u001b[0m\n\u001b[0;32m--> 725\u001b[0;31m         self.send_packed_command(self.pack_command(*args),\n\u001b[0m\u001b[1;32m    726\u001b[0m                                  check_health=kwargs.get('check_health', True))\n\u001b[1;32m    727\u001b[0m \u001b[0;34m\u001b[0m\u001b[0m\n",
      "\u001b[0;32m~/anaconda3/lib/python3.8/site-packages/redis/connection.py\u001b[0m in \u001b[0;36mpack_command\u001b[0;34m(self, *args)\u001b[0m\n\u001b[1;32m    773\u001b[0m \u001b[0;34m\u001b[0m\u001b[0m\n\u001b[1;32m    774\u001b[0m         \u001b[0mbuffer_cutoff\u001b[0m \u001b[0;34m=\u001b[0m \u001b[0mself\u001b[0m\u001b[0;34m.\u001b[0m\u001b[0m_buffer_cutoff\u001b[0m\u001b[0;34m\u001b[0m\u001b[0;34m\u001b[0m\u001b[0m\n\u001b[0;32m--> 775\u001b[0;31m         \u001b[0;32mfor\u001b[0m \u001b[0marg\u001b[0m \u001b[0;32min\u001b[0m \u001b[0mimap\u001b[0m\u001b[0;34m(\u001b[0m\u001b[0mself\u001b[0m\u001b[0;34m.\u001b[0m\u001b[0mencoder\u001b[0m\u001b[0;34m.\u001b[0m\u001b[0mencode\u001b[0m\u001b[0;34m,\u001b[0m \u001b[0margs\u001b[0m\u001b[0;34m)\u001b[0m\u001b[0;34m:\u001b[0m\u001b[0;34m\u001b[0m\u001b[0;34m\u001b[0m\u001b[0m\n\u001b[0m\u001b[1;32m    776\u001b[0m             \u001b[0;31m# to avoid large string mallocs, chunk the command into the\u001b[0m\u001b[0;34m\u001b[0m\u001b[0;34m\u001b[0m\u001b[0;34m\u001b[0m\u001b[0m\n\u001b[1;32m    777\u001b[0m             \u001b[0;31m# output list if we're sending large values or memoryviews\u001b[0m\u001b[0;34m\u001b[0m\u001b[0;34m\u001b[0m\u001b[0;34m\u001b[0m\u001b[0m\n",
      "\u001b[0;32m~/anaconda3/lib/python3.8/site-packages/redis/connection.py\u001b[0m in \u001b[0;36mencode\u001b[0;34m(self, value)\u001b[0m\n\u001b[1;32m    117\u001b[0m             \u001b[0;31m# a value we don't know how to deal with. throw an error\u001b[0m\u001b[0;34m\u001b[0m\u001b[0;34m\u001b[0m\u001b[0;34m\u001b[0m\u001b[0m\n\u001b[1;32m    118\u001b[0m             \u001b[0mtypename\u001b[0m \u001b[0;34m=\u001b[0m \u001b[0mtype\u001b[0m\u001b[0;34m(\u001b[0m\u001b[0mvalue\u001b[0m\u001b[0;34m)\u001b[0m\u001b[0;34m.\u001b[0m\u001b[0m__name__\u001b[0m\u001b[0;34m\u001b[0m\u001b[0;34m\u001b[0m\u001b[0m\n\u001b[0;32m--> 119\u001b[0;31m             raise DataError(\"Invalid input of type: '%s'. Convert to a \"\n\u001b[0m\u001b[1;32m    120\u001b[0m                             \"bytes, string, int or float first.\" % typename)\n\u001b[1;32m    121\u001b[0m         \u001b[0;32mif\u001b[0m \u001b[0misinstance\u001b[0m\u001b[0;34m(\u001b[0m\u001b[0mvalue\u001b[0m\u001b[0;34m,\u001b[0m \u001b[0municode\u001b[0m\u001b[0;34m)\u001b[0m\u001b[0;34m:\u001b[0m\u001b[0;34m\u001b[0m\u001b[0;34m\u001b[0m\u001b[0m\n",
      "\u001b[0;31mDataError\u001b[0m: Invalid input of type: 'dict'. Convert to a bytes, string, int or float first."
     ]
    }
   ],
   "source": [
    "# ca ne va pas marcher car restaurant est un objet a part entiere \n",
    "r.hmset(484272, restaurant_484272)"
   ]
  },
  {
   "cell_type": "code",
   "execution_count": 229,
   "metadata": {},
   "outputs": [
    {
     "data": {
      "text/plain": [
       "b'{\"name\": \"Ravagh\", \"type\": \"Persian\", \"address\": {\"street\": {\"line1\": \"11 E 30th St\", \"line2\": \"APT 1\"}, \"city\": \"New York\", \"state\": \"NY\", \"zip\": 10016}}'"
      ]
     },
     "execution_count": 229,
     "metadata": {},
     "output_type": "execute_result"
    }
   ],
   "source": [
    "# pour cela on utilise le fait de : Serialize the values into a string with something like json.dumps()\n",
    "import json\n",
    "r.set(484272, json.dumps(restaurant_484272))\n",
    "r.get(\"484272\")"
   ]
  },
  {
   "cell_type": "code",
   "execution_count": 233,
   "metadata": {},
   "outputs": [
    {
     "name": "stdout",
     "output_type": "stream",
     "text": [
      "{'address': {'city': 'New York',\n",
      "             'state': 'NY',\n",
      "             'street': {'line1': '11 E 30th St', 'line2': 'APT 1'},\n",
      "             'zip': 10016},\n",
      " 'name': 'Ravagh',\n",
      " 'type': 'Persian'}\n"
     ]
    }
   ],
   "source": [
    "# il faut ensuite faire les commandes suivantes pour réobtenir l'objet correctement :\n",
    "pprint.pprint(json.loads(r.get(484272)))"
   ]
  },
  {
   "cell_type": "markdown",
   "metadata": {},
   "source": [
    "No matter what serialization protocol you choose to go with, the concept is the same: you’re taking an object that is unique to Python and converting it to a bytestring that is recognized and exchangeable across multiple languages."
   ]
  },
  {
   "cell_type": "markdown",
   "metadata": {},
   "source": [
    "à voir ce que l'on fait ensuite, juste garder notre fonction buytime et améliorer les données peut-être?\n",
    "flemme de faire la comparaison et de se replonger dans un truc bourbier encore mais on pourrait regarder les outputs de notre database existante et faire quelques graphs et montrer que c'est très rapide car tout est gardé en cache et voir avec les calculs avec la commande `%%time` au sein de chaque cellule jupyter"
   ]
  },
  {
   "cell_type": "markdown",
   "metadata": {},
   "source": [
    "## Comparison with an other DB : MongoDB"
   ]
  },
  {
   "cell_type": "markdown",
   "metadata": {},
   "source": [
    "### Qualitative approach\n",
    "We are looking for differences in :\n",
    "- grammar\n",
    "- ease of use and prise en main\n",
    "- setting up process (manipulation of our first database)\n",
    "- access of ressources\n"
   ]
  },
  {
   "cell_type": "markdown",
   "metadata": {},
   "source": [
    "### on parle de redis ici de son usage \n",
    "\n",
    "- prise ne main très facile et super documentation tout est renseigné on comprend assez vite son fonctionnement \n",
    "- difficile de se projeter dans l'usage de ce sgbd car différents des autres et assez spécifique même si on peux l'utilsier pour tout usage il sera surtout performant dans des tâches spé.\n",
    "- open source et accessible facilement mais l'environnement autour non car le proejt à été repris par une entreprise [redislabs](https://redislabs.com/) et typiquement un redis-GUI (logiciel pour manipuler des db redis sans lignes de commandes) n'est pas accessible facilement \n",
    "- une bonne communauté mais pas très large donc accès ressources limités\n"
   ]
  },
  {
   "cell_type": "code",
   "execution_count": null,
   "metadata": {},
   "outputs": [],
   "source": []
  },
  {
   "cell_type": "code",
   "execution_count": null,
   "metadata": {},
   "outputs": [],
   "source": []
  },
  {
   "cell_type": "code",
   "execution_count": null,
   "metadata": {},
   "outputs": [],
   "source": []
  },
  {
   "cell_type": "markdown",
   "metadata": {},
   "source": [
    "### Quantitative approach\n",
    "We are looking for differences in :\n",
    "- time computation of requests\n",
    "- memore/cache use for same data\n"
   ]
  },
  {
   "cell_type": "code",
   "execution_count": null,
   "metadata": {},
   "outputs": [],
   "source": []
  },
  {
   "cell_type": "code",
   "execution_count": null,
   "metadata": {},
   "outputs": [],
   "source": []
  },
  {
   "cell_type": "code",
   "execution_count": null,
   "metadata": {},
   "outputs": [],
   "source": []
  },
  {
   "cell_type": "code",
   "execution_count": null,
   "metadata": {},
   "outputs": [],
   "source": []
  },
  {
   "cell_type": "code",
   "execution_count": null,
   "metadata": {},
   "outputs": [],
   "source": []
  },
  {
   "cell_type": "code",
   "execution_count": null,
   "metadata": {},
   "outputs": [],
   "source": []
  },
  {
   "cell_type": "code",
   "execution_count": null,
   "metadata": {},
   "outputs": [],
   "source": []
  }
 ],
 "metadata": {
  "celltoolbar": "Format de la Cellule Texte Brut",
  "kernelspec": {
   "display_name": "Python 3",
   "language": "python",
   "name": "python3"
  },
  "language_info": {
   "codemirror_mode": {
    "name": "ipython",
    "version": 3
   },
   "file_extension": ".py",
   "mimetype": "text/x-python",
   "name": "python",
   "nbconvert_exporter": "python",
   "pygments_lexer": "ipython3",
   "version": "3.8.3"
  }
 },
 "nbformat": 4,
 "nbformat_minor": 4
}
