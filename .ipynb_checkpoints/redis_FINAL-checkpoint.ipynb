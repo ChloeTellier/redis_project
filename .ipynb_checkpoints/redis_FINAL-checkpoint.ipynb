{
 "cells": [
  {
   "cell_type": "code",
   "execution_count": 1,
   "metadata": {},
   "outputs": [],
   "source": [
    "# on redémarre d'un truc clean\n",
    "\n",
    "import redis\n",
    "import numpy\n",
    "import scipy\n",
    "import random\n",
    "import pprint\n",
    "import json\n",
    "import pandas as pd\n",
    "import seaborn as sns\n",
    "import time"
   ]
  },
  {
   "cell_type": "code",
   "execution_count": 2,
   "metadata": {},
   "outputs": [],
   "source": [
    "redis_host = \"127.0.0.1\"\n",
    "redis_port = 6379\n",
    "\n",
    "r = redis.Redis(host=redis_host, port=redis_port, db = 0)"
   ]
  },
  {
   "cell_type": "code",
   "execution_count": 4,
   "metadata": {},
   "outputs": [
    {
     "name": "stdout",
     "output_type": "stream",
     "text": [
      "0.00045683500002269284\n"
     ]
    }
   ],
   "source": [
    "## Create dataset\n",
    "\n",
    "random.seed(444)\n",
    "\n",
    "# Attributs des joueurs : id, score, nb_parties\n",
    "\n",
    "# Création du JDD\n",
    "\n",
    "players = []\n",
    "\n",
    "tps1 = time.perf_counter()\n",
    "\n",
    "for i in range(0, 1000):\n",
    "    id = i\n",
    "    score = 0\n",
    "    nb_parties = 0\n",
    "    player = {'id':id, 'score':score, 'nb_parties':nb_parties}\n",
    "    players.append(player)\n",
    "\n",
    "tps2 = time.perf_counter()\n",
    "difftime = tps2 -tps1\n",
    "players[0:5]\n",
    "print(difftime)"
   ]
  },
  {
   "cell_type": "code",
   "execution_count": 5,
   "metadata": {},
   "outputs": [
    {
     "name": "stderr",
     "output_type": "stream",
     "text": [
      "<ipython-input-5-3107034427e3>:13: DeprecationWarning: Redis.hmset() is deprecated. Use Redis.hset() instead.\n",
      "  r.hmset(name,players[player])\n"
     ]
    }
   ],
   "source": [
    "# create datasets : leaderboard rankings \n",
    "\n",
    "leaderboardName = 'leaderboard1'\n",
    "\n",
    "# add scores in the database\n",
    "#for player in players:\n",
    " #   r.hmset(leaderboardName,player)\n",
    "\n",
    "    \n",
    "with r.pipeline() as pipe: \n",
    "    for player in range(len(players)):\n",
    "        name=str(\"player\")+str(player)\n",
    "        r.hmset(name,players[player])"
   ]
  },
  {
   "cell_type": "code",
   "execution_count": 6,
   "metadata": {},
   "outputs": [],
   "source": [
    "def game(id):\n",
    "    if random.random() <= 0.4:\n",
    "        score_change = 0\n",
    "    else:\n",
    "        score_change = random.randint(1, 100)\n",
    "        \n",
    "    players[id]['score'] = players[id]['score'] + score_change\n",
    "    players[id]['nb_parties'] = players[id]['nb_parties'] + 1\n",
    "    \n",
    "    #partie dans la suite de la fonction où on modifie toute la db suite aux calculs pythons \n",
    "    with r.pipeline() as pipe:\n",
    "        for player in range(len(players)):\n",
    "            name=str(\"player\")+str(player)\n",
    "            r.hmset(name,players[player])\n",
    "    "
   ]
  },
  {
   "cell_type": "code",
   "execution_count": 9,
   "metadata": {
    "scrolled": true
   },
   "outputs": [
    {
     "name": "stderr",
     "output_type": "stream",
     "text": [
      "<ipython-input-6-315ac28c7f17>:14: DeprecationWarning: Redis.hmset() is deprecated. Use Redis.hset() instead.\n",
      "  r.hmset(name,players[player])\n"
     ]
    }
   ],
   "source": [
    "# on fait jouer le joueur que l'on choisit et cela modifie dans la db directement\n",
    "game(1)"
   ]
  },
  {
   "cell_type": "code",
   "execution_count": 10,
   "metadata": {},
   "outputs": [
    {
     "name": "stdout",
     "output_type": "stream",
     "text": [
      "[{'id': 0, 'score': 0, 'nb_parties': 0}, {'id': 2, 'score': 0, 'nb_parties': 0}, {'id': 3, 'score': 0, 'nb_parties': 0}, {'id': 4, 'score': 0, 'nb_parties': 0}, {'id': 5, 'score': 0, 'nb_parties': 0}]\n"
     ]
    }
   ],
   "source": [
    "players_sorted = sorted(players, key=lambda k: k['score'])\n",
    "print(players_sorted[0:5])"
   ]
  },
  {
   "cell_type": "markdown",
   "metadata": {},
   "source": [
    "- convertir en redis\n",
    "- ajouter les expire\n",
    "- améliorer sortie graphiques (dans un dataframe ou quoi?) + graphiques podium etc...\n",
    "- choisir dans la fonction game le nombre de joueurs qu'on veux faire jouer"
   ]
  }
 ],
 "metadata": {
  "kernelspec": {
   "display_name": "Python 3",
   "language": "python",
   "name": "python3"
  },
  "language_info": {
   "codemirror_mode": {
    "name": "ipython",
    "version": 3
   },
   "file_extension": ".py",
   "mimetype": "text/x-python",
   "name": "python",
   "nbconvert_exporter": "python",
   "pygments_lexer": "ipython3",
   "version": "3.8.3"
  }
 },
 "nbformat": 4,
 "nbformat_minor": 4
}
