{
 "cells": [
  {
   "cell_type": "markdown",
   "metadata": {},
   "source": [
    "# Projet Redis \n",
    "Fait par @ChloéTellier, @OcéaneGuitton, @FlavieThévenard et @AntoineLucas\n",
    "\n",
    "### Livrables fourni avec ce rapport :  \n",
    " - Un fichier *projet.py*  avec le code brut commenté pour exécuter rapidement notre code."
   ]
  },
  {
   "cell_type": "markdown",
   "metadata": {},
   "source": [
    "## Un peu de contexte : c'est quoi Redis ?"
   ]
  },
  {
   "cell_type": "markdown",
   "metadata": {},
   "source": [
    "Redis, qui sert d'acronyme pour **RE**mote **DI**ctionary **S**erver, est système de gestion de base de données NoSQL (Not Only SQL) de très haute performance, de type clé-valeur, lancé en 2009 par Salvatore Sanfilippo. "
   ]
  },
  {
   "cell_type": "markdown",
   "metadata": {},
   "source": [
    "\n",
    "La mémoire de Redis est vertigineuse ce qui permet d’aborder des problématiques BIG DATA avec ce SGBD. Redis est un SGBD scalable, c’est-à-dire qu’il est capable de s’adapter à un changement d’ordre de grandeur de la demande, et plus particulièrement de maintenir ses fonctionnalités et ses performances en cas de forte demande. <br>\n",
    "Redis est très utilisé par les sites à gros trafic tels que Twitter, The Guardian, Stackoverflow, Netflix, etc. <br>\n"
   ]
  },
  {
   "cell_type": "markdown",
   "metadata": {},
   "source": [
    "L'une des grandes différences entre Redis et les autres bases de données NoSQL réside dans les structures de données que Redis fournit. \n",
    "\n",
    "Redis accepte tous types de données. En effet, les valeurs peuvent prendre n’importe quelle forme : nombres, chaines, listes, json, xml, html, php, images, vidéos …\n",
    "Voici quelques types/structures de données manipulables dans Redis :\n",
    "-        Des chaines de caractères (à une clef est associée une valeur de type chaine de caractère)\n",
    "-        Des numériques (à une clef est associée une valeur de type numérique)\n",
    "-        Des listes (plusieurs clefs qui ont des valeurs du même type)\n",
    "-        Des sets (listes non ordonnées où les clefs ne sont pas répétées, où les clefs sont uniques)\n",
    "-        Des sets ordonnés (permettant un système de classement)\n",
    "-        Des hashs (objets contenant des clefs, ces dernières contenant elles-mêmes une liste de valeurs)\n",
    "-        Des données de géolocalisation\n",
    "-        Etc.\n",
    " \n",
    "\n",
    "\n",
    "Pour mieux comprendre les différentes structures nous vous invitons à parcourir rapidement le lien [ci-contre](https://redis.io/topics/data-types-intro), et plus généralement la [documentation](https://redis.io/documentation) et le [site](https://redis.io/) de Redis qui ont des documents complets et plutôt clairs."
   ]
  },
  {
   "cell_type": "markdown",
   "metadata": {},
   "source": [
    "Une des caractéristiques principales de Redis est de stocker les données en mémoire RAM (Random Access Memory) ou mémoire vive : les données sont stockées sur le court terme. De ce fait, le SGBD Redis a une faible empreinte mémoire.  \n",
    "Plus particulièrement, Redis permet de gérer les données en « cache » avec le système clé/valeur. \n",
    "La mémoire cache est un type de mémoire vive / mémoire RAM à laquelle le microprocesseur peut accéder plus rapidement qu’à la mémoire RAM habituelle. <br>\n",
    "Gérer les données en cache permet d’accéder à des données momentanément stockées sur la mémoire vive et d’éviter de refaire les mêmes processus de calcul en amont. <br>\n",
    "Ainsi, Redis permet de gérer des données peu persistantes en présentant la fonctionnalité suivante : il est possible d’attribuer une durée de vie aux données insérées, ce qui permet de mettre en place un système de cache sans se préoccuper de de leur invalidation/disparition. <br>\n",
    "Du fait des caractéristiques vues précédemment, Redis est fréquemment utilisé pour stocker des données volatiles et fréquemment lues ou encore les sessions utilisateurs. <br>\n",
    "Par exemple, Redis est utilisé par Twitter ou par des sites marchands pour stocker les informations utilisateurs en mémoire cache.\n"
   ]
  },
  {
   "cell_type": "markdown",
   "metadata": {},
   "source": [
    "#### Le type de langage de requête adapté au SGBD Redis est un langage NoSQL orienté clé/valeur."
   ]
  },
  {
   "cell_type": "markdown",
   "metadata": {},
   "source": [
    "## Installation de Redis : on met les mains dans le cambouis !"
   ]
  },
  {
   "cell_type": "markdown",
   "metadata": {},
   "source": [
    "Le site officiel de Redis est assez complet et instinctif. <br>\n",
    "Redis est en Open Source, il peut donc être utilisé, utilisé et édité librement par tous ses utilisateurs. <br>\n",
    "Nous allons détailler ici les paramètres d’installation et de prise en main. <br>\n",
    "Redis peut s’utiliser sur tous les types de systèmes d’exploitation, il est toutefois plus avantageux de l’utiliser sur Linux en comparaison de Windows ou Mac. <br>\n",
    "Si l’idée est dans un premier temps de vous faire la main sans installer le système sur votre ordinateur nous vous invitons à consulter ce petit [tutoriel](https://try.redis.io/?_ga=2.15710581.2114473602.1604997184-1839395559.1604575298) qui permet de s’essayer aux premières lignes de commandes simples. <br>\n",
    "<br>\n",
    "Le site de Redis est configuré de manière assez pédagogique et les informations principales d’installation s’y trouvent, ainsi que toutes les informations de prise en main des commandes (respectivement onglet download et commands)."
   ]
  },
  {
   "cell_type": "markdown",
   "metadata": {},
   "source": [
    "### Windows\n",
    "\n",
    "Ce [tutoriel](https://riptutorial.com/fr/redis/example/29962/installation-et-execution-de-redis-server-sous-windows) est très complet et guide toutes les étapes de l’installation de Redis."
   ]
  },
  {
   "cell_type": "markdown",
   "metadata": {},
   "source": [
    "### Linux\n",
    "\n",
    "Il suffit de se rendre à cette [adresse](https://redis.io/topics/quickstart) et de suivre les consignes indiquées dans la partie installation.\n",
    "\n",
    "Vous serez ensuite prêt en lançant dans un terminal la commande :\n",
    "```shell \n",
    "src/redis-server```\n",
    "\n",
    "Vous pouvez ensuite lancer des requêtes en lançant le client Redis :\n",
    "```shell\n",
    "src/redis-cli```\n",
    "\n",
    "**Bonus :** pour les utilisateurs Linux, un logiciel interactif visuel pour utiliser Redis existe et est gratuit pour cet OS : [Redis Desktop Manager](https://rdm.dev/pricing)."
   ]
  },
  {
   "cell_type": "markdown",
   "metadata": {},
   "source": [
    "### Mac OS\n",
    "\n",
    "Vous pouvez suivre ce [lien](https://medium.com/@petehouston/install-and-config-redis-on-mac-os-x-via-homebrew-eb8df9a4f298) pour installer Redis sur votre machine.\n",
    "\n",
    "*Nous n'avons pas de machines sous Mac OS et n'avons pas pu vérifier la bonne installation de Redis sur ce système.*\n"
   ]
  },
  {
   "cell_type": "markdown",
   "metadata": {},
   "source": [
    "## Installation des librairies utiles dans Python :"
   ]
  },
  {
   "cell_type": "markdown",
   "metadata": {},
   "source": [
    "\n",
    "Via un terminal de commandes vous devez exécuter les commandes suivantes si vous utilisez [Anaconda](https://www.anaconda.com/).\n",
    "\n",
    "```shell\n",
    "conda install redis\n",
    "conda install pandas\n",
    "conda install numpy\n",
    "conda install scipy\n",
    "conda install seaborn```\n",
    "\n",
    "Ou bien celles-ci si vous utilisez le gestionnaire de librairies [pip](https://pypi.org/project/pip/).\n",
    "```shell\n",
    "pip install redis\n",
    "pip install pandas\n",
    "pip install numpy\n",
    "pip install scipy\n",
    "pip install seaborn```\n",
    "\n",
    "Si vous avez des difficultés à installer les modules au sein de votre IDE Python (**Pyzo**, **Spyder**, **Jupyter**, etc.) vous pouvez vous référez à l'aide suivante : [Stackoverflow](https://stackoverflow.com/questions/33897860/python-spyder-conda-install-failure).\n"
   ]
  },
  {
   "cell_type": "markdown",
   "metadata": {},
   "source": [
    "## Importation des librairies dans Python :"
   ]
  },
  {
   "cell_type": "code",
   "execution_count": 52,
   "metadata": {},
   "outputs": [],
   "source": [
    "import redis\n",
    "import numpy\n",
    "import scipy\n",
    "import random\n",
    "import pprint\n",
    "import json\n",
    "import pandas as pd\n",
    "import seaborn as sns\n",
    "import time"
   ]
  },
  {
   "cell_type": "markdown",
   "metadata": {},
   "source": [
    "## Connexion\n",
    "\n",
    "Comme les autres SGBD, il faut établir une connexion avec Redis pour communiquer avec le SGBD lors de nos requêtes Python.\n",
    "\n",
    "Ici on fixe les paramètres de connexion (communs pour tous) pour le nom de l'hôte `redis_host` et le numéro de port serveur `redis_port`."
   ]
  },
  {
   "cell_type": "code",
   "execution_count": 53,
   "metadata": {},
   "outputs": [],
   "source": [
    "redis_host = \"127.0.0.1\"\n",
    "redis_port = 6379"
   ]
  },
  {
   "cell_type": "markdown",
   "metadata": {},
   "source": [
    "On peut ainsi établir la connexion avec la commande `redis.Redis` en précisant le numéro de la database que l'on veut utiliser. Il y a par défaut 16 databases disponible sur un serveur Redis mais le nombre de bases de données possibles sur Redis est infini : toutefois, il faut s’attendre à des problèmes de performances si on dépasse les 1000 bases de données."
   ]
  },
  {
   "cell_type": "code",
   "execution_count": 4,
   "metadata": {},
   "outputs": [],
   "source": [
    "r = redis.Redis(host=redis_host, port=redis_port, db = 0)"
   ]
  },
  {
   "cell_type": "markdown",
   "metadata": {},
   "source": [
    "## Création de notre base de données "
   ]
  },
  {
   "cell_type": "markdown",
   "metadata": {},
   "source": [
    "Nous avons choisi un exemple pour illustrer la force de Redis : la gestion de stock de sushi **(miam)**. <br>\n",
    "Nous avons fait le choix de créer notre propre jeu de données. <br>\n",
    "Pour cela nous avons défini un ensemble de clés, et pour chacune de ces clés, nous avons défini un ensemble de « valeurs » / « modalités » possibles stockés dans le format hash de Redis. <br>\n",
    "Ces hashs peuvent être modifiés n’importe quand de part l’ajout de nouveaux sushis dans la base de données. "
   ]
  },
  {
   "cell_type": "markdown",
   "metadata": {},
   "source": [
    "Nous avons choisi de créer notre base de données de sushis en indiquant :\n",
    " - La composition d'un sushi selon les ingrédients qui le composent : 73 ingrédients différents, qui peuvent prendre la modalité 'Oui' (le sushi contient cet ingrédient) ou 'Non' (le sushi ne contient pas cet ingrédient).\n",
    " - Le stock de ce sushi disponible : généré aléatoirement entre 10 et 10 000.\n",
    " - Le nombre de sushis achetés : initialisé à 0."
   ]
  },
  {
   "cell_type": "code",
   "execution_count": 5,
   "metadata": {
    "scrolled": true
   },
   "outputs": [
    {
     "name": "stdout",
     "output_type": "stream",
     "text": [
      "4.5599060400000155\n"
     ]
    }
   ],
   "source": [
    "## Création de la database sushis\n",
    "\n",
    "random.seed(444)\n",
    "\n",
    "# Liste des attributs avec 2 modalités : les ingrédients\n",
    "\n",
    "saumon = ['Oui', 'Non']\n",
    "saumon_teriyaki = ['Oui', 'Non']\n",
    "daurade = ['Oui', 'Non']\n",
    "thon = ['Oui', 'Non']\n",
    "crevette = ['Oui', 'Non']\n",
    "poulet = ['Oui', 'Non']\n",
    "thon_cuit = ['Oui', 'Non']\n",
    "foie_gras = ['Oui', 'Non']\n",
    "tofu = ['Oui', 'Non']\n",
    "truite = ['Oui', 'Non']\n",
    "hareng = ['Oui', 'Non']\n",
    "poulpe = ['Oui', 'Non']\n",
    "boeuf = ['Oui', 'Non']\n",
    "chair_de_crabe = ['Oui', 'Non']\n",
    "oeufs_de_saumon = ['Oui', 'Non']\n",
    "avocat = ['Oui', 'Non']\n",
    "fromage = ['Oui', 'Non']\n",
    "oeuf = ['Oui', 'Non']\n",
    "gingembre = ['Oui', 'Non']\n",
    "wasabi = ['Oui', 'Non']\n",
    "sauce_salee = ['Oui', 'Non']\n",
    "sauce_sucree = ['Oui', 'Non']\n",
    "sauce_sucreesalee = ['Oui', 'Non']\n",
    "mayonnaise_classique = ['Oui', 'Non']\n",
    "mayonnaise_teriyaki = ['Oui', 'Non']\n",
    "mayonnaise_japonaise = ['Oui', 'Non']\n",
    "mayonnaise_spicy = ['Oui', 'Non']\n",
    "mayonnaise_ponzu = ['Oui', 'Non']\n",
    "sauce_teriyaki = ['Oui', 'Non']\n",
    "sauce_satay_aux_cacahuetes = ['Oui', 'Non']\n",
    "sauce_epicee = ['Oui', 'Non']\n",
    "mangue = ['Oui', 'Non']\n",
    "carotte = ['Oui', 'Non']\n",
    "anis = ['Oui', 'Non']\n",
    "poivre_rose = ['Oui', 'Non']\n",
    "cannelle = ['Oui', 'Non']\n",
    "cardamome = ['Oui', 'Non']\n",
    "curcuma = ['Oui', 'Non']\n",
    "feve = ['Oui', 'Non']\n",
    "edamame = ['Oui', 'Non']\n",
    "macis = ['Oui', 'Non']\n",
    "maniguette = ['Oui', 'Non']\n",
    "paprika = ['Oui', 'Non']\n",
    "piment = ['Oui', 'Non']\n",
    "poivre = ['Oui', 'Non']\n",
    "safran = ['Oui', 'Non']\n",
    "sumac = ['Oui', 'Non']\n",
    "persil = ['Oui', 'Non']\n",
    "herbe_de_provence = ['Oui', 'Non']\n",
    "sesame = ['Oui', 'Non']\n",
    "feuilles_de_riz = ['Oui', 'Non']\n",
    "menthe = ['Oui', 'Non']\n",
    "coriandre = ['Oui', 'Non']\n",
    "chou = ['Oui', 'Non']\n",
    "ciboulette = ['Oui', 'Non']\n",
    "pomme = ['Oui', 'Non']\n",
    "celeri_rave = ['Oui', 'Non']\n",
    "aneth = ['Oui', 'Non']\n",
    "baies_roses = ['Oui', 'Non']\n",
    "prune = ['Oui', 'Non']\n",
    "betterave = ['Oui', 'Non']\n",
    "noix_de_coco = ['Oui', 'Non']\n",
    "citron_vert = ['Oui', 'Non']\n",
    "citron_jaune = ['Oui', 'Non']\n",
    "dattes = ['Oui', 'Non']\n",
    "laitue = ['Oui', 'Non']\n",
    "roquette = ['Oui', 'Non']\n",
    "concombre = ['Oui', 'Non']\n",
    "poivrons = ['Oui', 'Non']\n",
    "asperge = ['Oui', 'Non']\n",
    "oignons_crus = ['Oui', 'Non']\n",
    "oignons_caramelises = ['Oui', 'Non']\n",
    "oignons_frits = ['Oui', 'Non']\n",
    "\n",
    "# 2**73 = 9.5*(10**21) combinaisons possibles de sushis\n",
    "\n",
    "sushis = []\n",
    "\n",
    "tps1 = time.perf_counter()\n",
    "\n",
    "for i in range(0, 100000):\n",
    "    saumon_choice = random.choice(saumon)\n",
    "    saumon_teriyaki_choice = random.choice(saumon_teriyaki)\n",
    "    daurade_choice = random.choice(daurade)\n",
    "    thon_choice = random.choice(thon)\n",
    "    crevette_choice = random.choice(crevette)\n",
    "    poulet_choice = random.choice(poulet)\n",
    "    thon_cuit_choice = random.choice(thon_cuit)\n",
    "    foie_gras_choice = random.choice(foie_gras)\n",
    "    tofu_choice = random.choice(tofu)\n",
    "    truite_choice = random.choice(truite)\n",
    "    hareng_choice = random.choice(hareng)\n",
    "    poulpe_choice = random.choice(poulpe)\n",
    "    boeuf_choice = random.choice(boeuf)\n",
    "    chair_de_crabe_choice = random.choice(chair_de_crabe)\n",
    "    oeufs_de_saumon_choice = random.choice(oeufs_de_saumon)\n",
    "    avocat_choice = random.choice(avocat)\n",
    "    fromage_choice = random.choice(fromage)\n",
    "    oeuf_choice = random.choice(oeuf)\n",
    "    gingembre_choice = random.choice(gingembre)\n",
    "    wasabi_choice = random.choice(wasabi)\n",
    "    sauce_salee_choice = random.choice(sauce_salee)\n",
    "    sauce_sucree_choice = random.choice(sauce_sucree)\n",
    "    sauce_sucreesalee_choice = random.choice(sauce_sucreesalee)\n",
    "    mayonnaise_classique_choice = random.choice(mayonnaise_classique)\n",
    "    mayonnaise_teriyaki_choice = random.choice(mayonnaise_teriyaki)\n",
    "    mayonnaise_japonaise_choice = random.choice(mayonnaise_japonaise)\n",
    "    mayonnaise_spicy_choice = random.choice(mayonnaise_spicy)\n",
    "    mayonnaise_ponzu_choice = random.choice(mayonnaise_ponzu)\n",
    "    sauce_teriyaki_choice = random.choice(sauce_teriyaki)\n",
    "    sauce_satay_aux_cacahuetes_choice = random.choice(sauce_satay_aux_cacahuetes)\n",
    "    sauce_epicee_choice = random.choice(sauce_epicee)\n",
    "    mangue_choice = random.choice(mangue)\n",
    "    carotte_choice = random.choice(carotte)\n",
    "    anis_choice = random.choice(anis)\n",
    "    poivre_rose_choice = random.choice(poivre_rose)\n",
    "    cannelle_choice = random.choice(cannelle)\n",
    "    cardamome_choice = random.choice(cardamome)\n",
    "    curcuma_choice = random.choice(curcuma)\n",
    "    feve_choice = random.choice(feve)\n",
    "    edamame_choice = random.choice(edamame)\n",
    "    macis_choice = random.choice(macis)\n",
    "    maniguette_choice = random.choice(maniguette)\n",
    "    paprika_choice = random.choice(paprika)\n",
    "    piment_choice = random.choice(piment)\n",
    "    poivre_choice = random.choice(poivre)\n",
    "    safran_choice = random.choice(safran)\n",
    "    sumac_choice = random.choice(sumac)\n",
    "    persil_choice = random.choice(persil)\n",
    "    herbe_de_provence_choice = random.choice(herbe_de_provence)\n",
    "    sesame_choice = random.choice(sesame)\n",
    "    feuilles_de_riz_choice = random.choice(feuilles_de_riz)\n",
    "    menthe_choice = random.choice(menthe)\n",
    "    coriandre_choice = random.choice(coriandre)\n",
    "    chou_choice = random.choice(chou)\n",
    "    ciboulette_choice = random.choice(ciboulette)\n",
    "    pomme_choice = random.choice(pomme)\n",
    "    celeri_rave_choice = random.choice(celeri_rave)\n",
    "    aneth_choice = random.choice(aneth)\n",
    "    baies_roses_choice = random.choice(baies_roses)\n",
    "    prune_choice = random.choice(prune)\n",
    "    betterave_choice = random.choice(betterave)\n",
    "    noix_de_coco_choice = random.choice(noix_de_coco)\n",
    "    citron_vert_choice = random.choice(citron_vert)\n",
    "    citron_jaune_choice = random.choice(citron_jaune)\n",
    "    dattes_choice = random.choice(dattes)\n",
    "    laitue_choice = random.choice(laitue)\n",
    "    roquette_choice = random.choice(roquette)\n",
    "    concombre_choice = random.choice(concombre)\n",
    "    poivrons_choice = random.choice(poivrons)\n",
    "    asperge_choice = random.choice(asperge)\n",
    "    oignons_crus_choice = random.choice(oignons_crus)\n",
    "    oignons_caramelises_choice = random.choice(oignons_caramelises)\n",
    "    oignons_frits_choice = random.choice(oignons_frits)\n",
    "    stock = random.randint(10,10000)\n",
    "    nb_achat = 0\n",
    "    sushi = {'id':i, 'saumon':saumon_choice, 'saumon_teriyaki':saumon_teriyaki_choice, 'daurade':daurade_choice, \n",
    "             'thon':thon_choice, 'crevette':crevette_choice, 'poulet':poulet_choice, 'thon_cuit':thon_cuit_choice, \n",
    "             'foie_gras':foie_gras_choice,'tofu':tofu_choice, 'truite':truite_choice, 'hareng':hareng_choice, \n",
    "             'poulpe':poulpe_choice, 'boeuf':boeuf_choice, 'chair_de_crabe':chair_de_crabe_choice, \n",
    "             'oeufs_de_saumon':oeufs_de_saumon_choice, 'avocat':avocat_choice, 'fromage':fromage_choice, \n",
    "             'oeuf':oeuf_choice, 'gingembre':gingembre_choice,'wasabi':wasabi_choice, 'sauce_salee':sauce_salee_choice, \n",
    "             'sauce_sucree':sauce_sucree_choice,'sauce_sucreesalee':sauce_sucreesalee_choice, \n",
    "             'mayonnaise_classique':mayonnaise_classique_choice, 'mayonnaise_teriyaki':mayonnaise_teriyaki_choice, \n",
    "             'mayonnaise_japonaise':mayonnaise_japonaise_choice, 'mayonnaise_spicy':mayonnaise_japonaise_choice, \n",
    "             'mayonnaise_ponzu':mayonnaise_ponzu_choice, 'sauce_teriyaki':sauce_teriyaki_choice, \n",
    "             'sauce_satay_aux_cacahuetes':sauce_satay_aux_cacahuetes_choice, 'sauce_epicee':sauce_epicee_choice, \n",
    "             'mangue': mangue_choice, 'carotte':carotte_choice, 'anis':anis_choice,'poivre_rose':poivre_rose_choice, \n",
    "             'cannelle':cannelle_choice, 'cardamome':cardamome_choice, 'curcuma':curcuma_choice, \n",
    "             'feve':feve_choice, 'edamame':edamame_choice, 'macis':macis_choice, 'maniguette':maniguette_choice, \n",
    "             'paprika':paprika_choice, 'piment':piment_choice, 'poivre':poivre_choice, 'safran':safran_choice, \n",
    "             'sumac': sumac_choice, 'persil':persil_choice, 'herbe_de_provence':herbe_de_provence_choice, \n",
    "             'sesame':sesame_choice, 'feuilles_de_riz':feuilles_de_riz_choice, 'menthe':menthe_choice, \n",
    "             'coriandre':coriandre_choice, 'chou':chou_choice, 'ciboulette':ciboulette_choice, 'pomme':pomme_choice, \n",
    "             'celeri_rave':celeri_rave_choice, 'aneth':aneth_choice, 'baies_roses':baies_roses_choice, \n",
    "             'prune':prune_choice, 'betterave':betterave_choice, 'noix_de_coco':noix_de_coco_choice, \n",
    "             'citron_vert':citron_vert_choice, 'citron_jaune':citron_jaune_choice, 'dattes':dattes_choice, \n",
    "             'laitue':laitue_choice, 'roquette':roquette_choice, 'concombre':concombre_choice, \n",
    "             'poivrons':poivrons_choice, 'asperge':asperge_choice, 'oignons_crus':oignons_crus_choice, \n",
    "             'oignons_caramelises':oignons_caramelises_choice, 'oignons_frits':oignons_frits_choice,'stock':stock, 'nb_achat':nb_achat\n",
    "            }\n",
    "    \n",
    "    sushis.append(sushi)\n",
    "\n",
    "tps2 = time.perf_counter()\n",
    "print(tps2 - tps1)"
   ]
  },
  {
   "cell_type": "markdown",
   "metadata": {},
   "source": [
    "Le temps pour créer une liste de 100 000 sushis différents est d'environ 4.56 secondes."
   ]
  },
  {
   "cell_type": "markdown",
   "metadata": {},
   "source": [
    "## On ajoute ensuite nos données générées dans Redis \n",
    "\n",
    "Une des forces de redis est l'utilisation de pipeline pour réaliser les requêtes, nous y reviendrons en fin de rapport. Pour plus d'informations, rendez-vous [ici](https://redis.io/topics/pipelining)."
   ]
  },
  {
   "cell_type": "code",
   "execution_count": 6,
   "metadata": {},
   "outputs": [
    {
     "name": "stderr",
     "output_type": "stream",
     "text": [
      "<ipython-input-6-4b3353b65ed5>:4: DeprecationWarning: Redis.hmset() is deprecated. Use Redis.hset() instead.\n",
      "  r.hmset(name,sushis[i])\n"
     ]
    }
   ],
   "source": [
    "\n",
    "with r.pipeline() as pipe: \n",
    "    for i in range(len(sushis)):\n",
    "        name = str(\"sushi:\")+str(i)\n",
    "        r.hmset(name,sushis[i])\n",
    "        "
   ]
  },
  {
   "cell_type": "markdown",
   "metadata": {},
   "source": [
    "Le durée pour ajouter une liste de 100 000 sushis différents à Redis est d'environ 25 secondes."
   ]
  },
  {
   "cell_type": "markdown",
   "metadata": {},
   "source": [
    "## Nous sommes prêts pour faire quelques requêtes et explorer les possibilités de Redis !"
   ]
  },
  {
   "cell_type": "markdown",
   "metadata": {},
   "source": [
    "On peut ensuite effectuer quelques requêtes simples avec les objets **hashs** que nous utiliserons au cours de notre projet.\n",
    "Pour plus d'informations sur les requêtes sur les types d'objets **hashs**, rendez-vous [ici](https://redis.io/commands#hash).\n",
    "\n",
    "Ainsi, comme exemple, nous avons nos clés avec la dénomination *sushi:i* avec i le numéro du sushi allant de 1 à 100 000. Nous pouvons alors récupérer au sein de chaque clé différentes informations stockées sous une forme similaire à un dictionnaire."
   ]
  },
  {
   "cell_type": "code",
   "execution_count": 48,
   "metadata": {},
   "outputs": [
    {
     "name": "stdout",
     "output_type": "stream",
     "text": [
      "En écriture propre :  1894  /  En écriture Bytes :  b'1894'\n"
     ]
    }
   ],
   "source": [
    "stock_exemple_propre = int(r.hget('sushi:3564','stock').decode())\n",
    "stock_exemple_bytes = r.hget('sushi:3564','stock')\n",
    "print(\"En écriture propre : \",stock_exemple_propre,\" / \",\"En écriture Bytes : \",stock_exemple_bytes)"
   ]
  },
  {
   "cell_type": "markdown",
   "metadata": {},
   "source": [
    "Ainsi, on récupère le stock (désigné par `stock` du *sushi:3*.\n",
    "Notez l'utilisation de `int()` et `.decode()` pour récupérez sous un format plus \"agréable\" les requêtes de Redis qui sont retournées par défaut au format **bytes**."
   ]
  },
  {
   "cell_type": "markdown",
   "metadata": {},
   "source": [
    "## Création de fonctions utiles"
   ]
  },
  {
   "cell_type": "markdown",
   "metadata": {},
   "source": [
    "Nous allons ensuite définir quelques fonctions utiles pour réaliser quelques requêtes.\n",
    "Pour cela nous aurons besoin de définir certains messages d'erreurs."
   ]
  },
  {
   "cell_type": "code",
   "execution_count": 50,
   "metadata": {},
   "outputs": [],
   "source": [
    "# On définit nos messages d'erreur, que l'on utilisera pour prévenir l'utilisateur selon différents critères \n",
    "\n",
    "# Plus de stock pour le sushi désiré\n",
    "class OutOfStockError(Exception):\n",
    "    \"\"\"Notre magasin de sushis n'a plus du tout de stock pour le sushi désiré\"\"\"\n",
    "    \n",
    "# Stock rempli pour le sushi désiré : stock fixé à 10 000 maximum\n",
    "class TooMuchStockError(Exception):\n",
    "    \"\"\"Notre magasin de sushis n'a plus de place pour stocker le sushi d'intérêt, nous n'avons rien pu ajouter\n",
    "    au stock\"\"\"\n",
    "\n",
    "# Le client désirait acheter trop de sushis et a fini la fin du stock\n",
    "class TooMuchDemandError(Exception):\n",
    "    \"\"\"Le client souhaitait acheter plus de sushis qu'il n'y en avait de disponibles, il a fini le stock\n",
    "    et n'a pas eu autant de sushis qu'il l'esperait\"\"\"\n",
    "\n",
    "# Nous avons restocké au maximum les 10 000 sushis\n",
    "class NoPlaceAvailableError(Exception):\n",
    "    \"\"\"Notre magasin n'a pas assez de place pour stocker tous les sushis que l'on souhaitait,\n",
    "    seuls certains ont pu être ajoutés au stock\"\"\"\n"
   ]
  },
  {
   "cell_type": "markdown",
   "metadata": {},
   "source": [
    "En outre, Redis propose des fonctionnalités d’incrémentation et de décrémentation intéressantes : il est possible d’incrémenter et de décrémenter facilement et simultanément un grand nombre de valeurs. Ce qui fait que ce SGBD est bien adapté pour la gestion de stock et la vente en temps réel."
   ]
  },
  {
   "cell_type": "markdown",
   "metadata": {},
   "source": [
    "Nous allons maintenant créer la fonction `buyitem`. Celle-ci permet d'acheter un certain nombre de sushis (argument `count`) d'un certain type (argument `sushi_id`) : cela diminue-donc le stock de sushis, mais augmente le nombre de sushis achetés."
   ]
  },
  {
   "cell_type": "code",
   "execution_count": 42,
   "metadata": {},
   "outputs": [],
   "source": [
    "def buyitem(r, sushi_id,count):\n",
    "\n",
    "    with r.pipeline() as pipe:\n",
    "        \n",
    "        while True:\n",
    "\n",
    "            pipe.watch(sushi_id)\n",
    "            nleft = int(r.hget(sushi_id,'stock').decode())\n",
    "            # On utilise le int et decode pour convertir l'output bytes de Redis en nombre int\n",
    "            \n",
    "            # On réalise l'opération d'achat normalement s'il y a assez de sushis en stock\n",
    "            if nleft > count :\n",
    "                pipe.multi() # On débute l'enregistrement des étapes qu'on veux réaliser sur le serveur redis\n",
    "                pipe.hincrby(sushi_id, 'stock', -count) # Le stock diminue ...\n",
    "                pipe.hincrby(sushi_id, 'nb_achat', count) # ... Et le nombre de sushis achetés augmente\n",
    "                pipe.execute() # On transfert l'ensemble des étapes réalisée depuis multi sur notre serveur Redis\n",
    "                break\n",
    "            \n",
    "            # Si le nombre de sushis n'est pas suffisant pour satisfaire la demande, on achète tout ce qu'il reste\n",
    "            elif nleft < count and nleft > 0:\n",
    "                pipe.multi()\n",
    "                pipe.hset(sushi_id,'stock',0)\n",
    "                pipe.hincrby(sushi_id,'nb_achat',nleft)\n",
    "                pipe.execute()\n",
    "                \n",
    "                raise TooMuchDemandError(f'Désolé, vous avez acheté tout les {sushi_id} restants mais il n''y en avait pas autant que vous le vouliez')\n",
    "\n",
    "            # S'il n'y a plus du tout de ce type de sushis ...\n",
    "            else:\n",
    "                pipe.unwatch()\n",
    "                raise OutOfStockError(f\"Sorry, {sushi_id} is out of stock!\")\n",
    "\n",
    "    return None"
   ]
  },
  {
   "cell_type": "markdown",
   "metadata": {},
   "source": [
    "Testons maintenant cette fonction : et si on achetait 60 sushis de type 5 ?"
   ]
  },
  {
   "cell_type": "code",
   "execution_count": 43,
   "metadata": {},
   "outputs": [
    {
     "data": {
      "text/plain": [
       "[b'6045', b'180']"
      ]
     },
     "execution_count": 43,
     "metadata": {},
     "output_type": "execute_result"
    }
   ],
   "source": [
    "buyitem(r,\"sushi:5\",60)\n",
    "r.hmget(\"sushi:5\",\"stock\",\"nb_achat\")"
   ]
  },
  {
   "cell_type": "markdown",
   "metadata": {},
   "source": [
    "Re-exécutez la cellule précédente : on a modifié les valeurs de stock et de la quantité d'achat sur notre database."
   ]
  },
  {
   "cell_type": "markdown",
   "metadata": {},
   "source": [
    "Nous allons maintenant créer la fonction `restock`. Celle-ci permet au magasin de se ré-approvisionner d'un certain nombre (argument `stock_count`) de sushis d'un certain type (argument `sushi_id`) : le stock de ce type de sushis augmente ainsi.\n",
    "Arbitrairement, nous avons choisi qu'un magasin ne pouvait stocker que 10 000 sushis d'un même type (c'est déjà pas mal)."
   ]
  },
  {
   "cell_type": "code",
   "execution_count": 44,
   "metadata": {},
   "outputs": [],
   "source": [
    "def restock(r,sushi_id,stock_count):\n",
    "    \n",
    "    with r.pipeline() as pipe:\n",
    "        \n",
    "        while True:\n",
    "        \n",
    "            pipe.watch(sushi_id)\n",
    "            nleft_restock = int(r.hget(sushi_id,'stock').decode())\n",
    "\n",
    "            # S'il y a suffisamment de places pour stocker les sushis, on achète le nombre demandé\n",
    "            if nleft_restock + stock_count < 10000:\n",
    "                pipe.multi()\n",
    "                pipe.hincrby(sushi_id, 'stock', stock_count) # On modifie le stock sur notre database Redis\n",
    "                pipe.execute()\n",
    "                break\n",
    "            \n",
    "            # S'il n'y a pas suffisamment de place pour stocker tous les nouveaux sushis, on achète seulement ce que l'on peut\n",
    "            elif nleft_restock < 10000 and nleft_restock + stock_count > 10000:\n",
    "                pipe.multi()\n",
    "                pipe.hset(sushi_id,'stock',10000)\n",
    "                pipe.execute()                \n",
    "                raise NoPlaceAvailableError(f\"Désolé, nous avons déjà remis le stock de {sushi_id} au maximum\")\n",
    "\n",
    "            # Si le stock est déjà plein, cela ne sert à rien d'acheter davantage de sushis !\n",
    "            # (et de toute façon on ne peut pas les stocker)\n",
    "            else:\n",
    "                pipe.unwatch()\n",
    "                raise TooMuchStockError(f\"Sorry, {sushi_id} is already full of stock!\")\n",
    "            \n",
    "    return None"
   ]
  },
  {
   "cell_type": "markdown",
   "metadata": {},
   "source": [
    "Testons maintenant cette fonction : et si on augmentait le stock du sushi 9 de 400 ?"
   ]
  },
  {
   "cell_type": "code",
   "execution_count": 30,
   "metadata": {},
   "outputs": [
    {
     "data": {
      "text/plain": [
       "[b'9742', b'0']"
      ]
     },
     "execution_count": 30,
     "metadata": {},
     "output_type": "execute_result"
    }
   ],
   "source": [
    "restock(r,'sushi:9', 400)\n",
    "r.hmget(\"sushi:9\",'stock','nb_achat')"
   ]
  },
  {
   "cell_type": "markdown",
   "metadata": {},
   "source": [
    "En répétant la cellule précédente plusieurs fois, on augmente la quantité stockée du sushi 9 comme précédemment."
   ]
  },
  {
   "cell_type": "markdown",
   "metadata": {},
   "source": [
    "Nous allons maintenant créer la fonction `item_info`. Celle-ci permet de récupérer toutes les informations relatives à nos ventes de sushis : stock, vente. Ces informations seront ensuite stockées dans un dataframe [Pandas](https://pandas.pydata.org/pandas-docs/stable/reference/api/pandas.DataFrame.html)."
   ]
  },
  {
   "cell_type": "code",
   "execution_count": 45,
   "metadata": {},
   "outputs": [],
   "source": [
    "def item_info():\n",
    "    \n",
    "    info_get = [] # Tableau qui contiendra les données récupérées\n",
    "    \n",
    "    for i in range(len(sushis)):\n",
    "        name = str(\"sushi:\")+str(i)\n",
    "        stock = int(r.hget(name,'stock').decode())\n",
    "        nb_achat = int(r.hget(name,'nb_achat').decode())\n",
    "        info_add = [stock, nb_achat]               \n",
    "        info_get.append(info_add)\n",
    "        \n",
    "    # On convertit notre liste de liste en dataframe\n",
    "    item_df = pd.DataFrame(info_get,\n",
    "                        columns=['stock','nb_achat'],\n",
    "                        index = [str(\"sushi:\")+str(i) for i in range(len(sushis))])\n",
    "    \n",
    "    return(item_df)"
   ]
  },
  {
   "cell_type": "code",
   "execution_count": 32,
   "metadata": {
    "scrolled": true
   },
   "outputs": [
    {
     "data": {
      "text/html": [
       "<div>\n",
       "<style scoped>\n",
       "    .dataframe tbody tr th:only-of-type {\n",
       "        vertical-align: middle;\n",
       "    }\n",
       "\n",
       "    .dataframe tbody tr th {\n",
       "        vertical-align: top;\n",
       "    }\n",
       "\n",
       "    .dataframe thead th {\n",
       "        text-align: right;\n",
       "    }\n",
       "</style>\n",
       "<table border=\"1\" class=\"dataframe\">\n",
       "  <thead>\n",
       "    <tr style=\"text-align: right;\">\n",
       "      <th></th>\n",
       "      <th>stock</th>\n",
       "      <th>nb_achat</th>\n",
       "    </tr>\n",
       "  </thead>\n",
       "  <tbody>\n",
       "    <tr>\n",
       "      <th>sushi:0</th>\n",
       "      <td>4846</td>\n",
       "      <td>0</td>\n",
       "    </tr>\n",
       "    <tr>\n",
       "      <th>sushi:1</th>\n",
       "      <td>1596</td>\n",
       "      <td>0</td>\n",
       "    </tr>\n",
       "    <tr>\n",
       "      <th>sushi:2</th>\n",
       "      <td>6646</td>\n",
       "      <td>0</td>\n",
       "    </tr>\n",
       "    <tr>\n",
       "      <th>sushi:3</th>\n",
       "      <td>7786</td>\n",
       "      <td>0</td>\n",
       "    </tr>\n",
       "    <tr>\n",
       "      <th>sushi:4</th>\n",
       "      <td>9207</td>\n",
       "      <td>0</td>\n",
       "    </tr>\n",
       "    <tr>\n",
       "      <th>...</th>\n",
       "      <td>...</td>\n",
       "      <td>...</td>\n",
       "    </tr>\n",
       "    <tr>\n",
       "      <th>sushi:99995</th>\n",
       "      <td>9550</td>\n",
       "      <td>0</td>\n",
       "    </tr>\n",
       "    <tr>\n",
       "      <th>sushi:99996</th>\n",
       "      <td>5211</td>\n",
       "      <td>0</td>\n",
       "    </tr>\n",
       "    <tr>\n",
       "      <th>sushi:99997</th>\n",
       "      <td>8203</td>\n",
       "      <td>0</td>\n",
       "    </tr>\n",
       "    <tr>\n",
       "      <th>sushi:99998</th>\n",
       "      <td>1215</td>\n",
       "      <td>0</td>\n",
       "    </tr>\n",
       "    <tr>\n",
       "      <th>sushi:99999</th>\n",
       "      <td>5521</td>\n",
       "      <td>0</td>\n",
       "    </tr>\n",
       "  </tbody>\n",
       "</table>\n",
       "<p>100000 rows × 2 columns</p>\n",
       "</div>"
      ],
      "text/plain": [
       "             stock  nb_achat\n",
       "sushi:0       4846         0\n",
       "sushi:1       1596         0\n",
       "sushi:2       6646         0\n",
       "sushi:3       7786         0\n",
       "sushi:4       9207         0\n",
       "...            ...       ...\n",
       "sushi:99995   9550         0\n",
       "sushi:99996   5211         0\n",
       "sushi:99997   8203         0\n",
       "sushi:99998   1215         0\n",
       "sushi:99999   5521         0\n",
       "\n",
       "[100000 rows x 2 columns]"
      ]
     },
     "execution_count": 32,
     "metadata": {},
     "output_type": "execute_result"
    }
   ],
   "source": [
    "liste_sushi = item_info()\n",
    "liste_sushi"
   ]
  },
  {
   "cell_type": "markdown",
   "metadata": {},
   "source": [
    "La fonction `item_ingredients`, elle, permet de récupérer les ingrédients de nos différents types de sushis (73 variables donc, correspondant à l'absence ou à la présence de chacun des ingrédients). Ces informations seront ensuite stockées dans un dataframe Pandas."
   ]
  },
  {
   "cell_type": "code",
   "execution_count": 33,
   "metadata": {},
   "outputs": [],
   "source": [
    "def item_ingredient():\n",
    "    \n",
    "    ingredient_get = []\n",
    "    \n",
    "    for i in range(len(sushis)):\n",
    "        \n",
    "        name = str(\"sushi:\")+str(i)\n",
    "        ingredient_add = []\n",
    "        \n",
    "        name_ingredient = ['saumon', 'saumon_teriyaki', 'daurade', 'thon', 'crevette', \n",
    "                                            'poulet', 'thon_cuit', 'foie_gras', 'tofu', 'truite', 'hareng', \n",
    "                                            'poulpe', 'boeuf', 'chair_de_crabe', 'oeufs_de_saumon', 'avocat', \n",
    "                                            'fromage', 'oeuf', 'gingembre', 'wasabi', 'sauce_salee', \n",
    "                                            'sauce_sucree', 'sauce_sucreesalee', 'mayonnaise_classique', \n",
    "                                            'mayonnaise_teriyaki', 'mayonnaise_japonaise', 'mayonnaise_spicy', \n",
    "                                            'mayonnaise_ponzu', 'sauce_teriyaki', 'sauce_satay_aux_cacahuetes',\n",
    "                                            'sauce_epicee', 'mangue', 'carotte', 'anis', 'poivre_rose', \n",
    "                                            'cannelle', 'cardamome', 'curcuma', 'feve', 'edamame', 'macis', \n",
    "                                            'maniguette', 'paprika', 'piment', 'poivre', 'safran', 'sumac', \n",
    "                                            'persil', 'herbe_de_provence', 'sesame', 'feuilles_de_riz', \n",
    "                                            'menthe', 'coriandre', 'chou', 'ciboulette', 'pomme', \n",
    "                                            'celeri_rave', 'aneth', 'baies_roses', 'prune', 'betterave', \n",
    "                                            'noix_de_coco', 'citron_vert', 'citron_jaune', 'dattes', \n",
    "                                            'laitue', 'roquette', 'concombre', 'poivrons', 'asperge', \n",
    "                                            'oignons_crus', 'oignons_caramelises', 'oignons_frits']\n",
    "\n",
    "        # La boucle permet de rentrer l'ensemble des ingrédients dans le tableau\n",
    "        for i in range(len(name_ingredient)):\n",
    "            ingredient = r.hget(name, name_ingredient[i]).decode() # On récupère les infos depuis la database Redis\n",
    "            ingredient_add.append(ingredient)\n",
    "        \n",
    "        ingredient_get.append(ingredient_add)\n",
    "        \n",
    "    ingredient_df = pd.DataFrame(ingredient_get,\n",
    "                        columns=name_ingredient,\n",
    "                        index = [str(\"sushi:\")+str(i) for i in range(len(sushis))])\n",
    "    \n",
    "    return(ingredient_df)"
   ]
  },
  {
   "cell_type": "code",
   "execution_count": 34,
   "metadata": {},
   "outputs": [
    {
     "data": {
      "text/html": [
       "<div>\n",
       "<style scoped>\n",
       "    .dataframe tbody tr th:only-of-type {\n",
       "        vertical-align: middle;\n",
       "    }\n",
       "\n",
       "    .dataframe tbody tr th {\n",
       "        vertical-align: top;\n",
       "    }\n",
       "\n",
       "    .dataframe thead th {\n",
       "        text-align: right;\n",
       "    }\n",
       "</style>\n",
       "<table border=\"1\" class=\"dataframe\">\n",
       "  <thead>\n",
       "    <tr style=\"text-align: right;\">\n",
       "      <th></th>\n",
       "      <th>saumon</th>\n",
       "      <th>saumon_teriyaki</th>\n",
       "      <th>daurade</th>\n",
       "      <th>thon</th>\n",
       "      <th>crevette</th>\n",
       "      <th>poulet</th>\n",
       "      <th>thon_cuit</th>\n",
       "      <th>foie_gras</th>\n",
       "      <th>tofu</th>\n",
       "      <th>truite</th>\n",
       "      <th>...</th>\n",
       "      <th>citron_jaune</th>\n",
       "      <th>dattes</th>\n",
       "      <th>laitue</th>\n",
       "      <th>roquette</th>\n",
       "      <th>concombre</th>\n",
       "      <th>poivrons</th>\n",
       "      <th>asperge</th>\n",
       "      <th>oignons_crus</th>\n",
       "      <th>oignons_caramelises</th>\n",
       "      <th>oignons_frits</th>\n",
       "    </tr>\n",
       "  </thead>\n",
       "  <tbody>\n",
       "    <tr>\n",
       "      <th>sushi:0</th>\n",
       "      <td>Non</td>\n",
       "      <td>Non</td>\n",
       "      <td>Oui</td>\n",
       "      <td>Non</td>\n",
       "      <td>Non</td>\n",
       "      <td>Non</td>\n",
       "      <td>Non</td>\n",
       "      <td>Non</td>\n",
       "      <td>Non</td>\n",
       "      <td>Non</td>\n",
       "      <td>...</td>\n",
       "      <td>Oui</td>\n",
       "      <td>Non</td>\n",
       "      <td>Non</td>\n",
       "      <td>Oui</td>\n",
       "      <td>Non</td>\n",
       "      <td>Non</td>\n",
       "      <td>Oui</td>\n",
       "      <td>Oui</td>\n",
       "      <td>Oui</td>\n",
       "      <td>Oui</td>\n",
       "    </tr>\n",
       "    <tr>\n",
       "      <th>sushi:1</th>\n",
       "      <td>Oui</td>\n",
       "      <td>Oui</td>\n",
       "      <td>Non</td>\n",
       "      <td>Oui</td>\n",
       "      <td>Non</td>\n",
       "      <td>Oui</td>\n",
       "      <td>Non</td>\n",
       "      <td>Oui</td>\n",
       "      <td>Non</td>\n",
       "      <td>Non</td>\n",
       "      <td>...</td>\n",
       "      <td>Non</td>\n",
       "      <td>Non</td>\n",
       "      <td>Non</td>\n",
       "      <td>Non</td>\n",
       "      <td>Non</td>\n",
       "      <td>Oui</td>\n",
       "      <td>Oui</td>\n",
       "      <td>Non</td>\n",
       "      <td>Oui</td>\n",
       "      <td>Oui</td>\n",
       "    </tr>\n",
       "    <tr>\n",
       "      <th>sushi:2</th>\n",
       "      <td>Non</td>\n",
       "      <td>Oui</td>\n",
       "      <td>Oui</td>\n",
       "      <td>Oui</td>\n",
       "      <td>Non</td>\n",
       "      <td>Oui</td>\n",
       "      <td>Non</td>\n",
       "      <td>Non</td>\n",
       "      <td>Non</td>\n",
       "      <td>Non</td>\n",
       "      <td>...</td>\n",
       "      <td>Oui</td>\n",
       "      <td>Non</td>\n",
       "      <td>Oui</td>\n",
       "      <td>Non</td>\n",
       "      <td>Non</td>\n",
       "      <td>Non</td>\n",
       "      <td>Oui</td>\n",
       "      <td>Non</td>\n",
       "      <td>Non</td>\n",
       "      <td>Non</td>\n",
       "    </tr>\n",
       "    <tr>\n",
       "      <th>sushi:3</th>\n",
       "      <td>Oui</td>\n",
       "      <td>Non</td>\n",
       "      <td>Non</td>\n",
       "      <td>Non</td>\n",
       "      <td>Non</td>\n",
       "      <td>Oui</td>\n",
       "      <td>Non</td>\n",
       "      <td>Non</td>\n",
       "      <td>Non</td>\n",
       "      <td>Non</td>\n",
       "      <td>...</td>\n",
       "      <td>Oui</td>\n",
       "      <td>Oui</td>\n",
       "      <td>Oui</td>\n",
       "      <td>Non</td>\n",
       "      <td>Oui</td>\n",
       "      <td>Non</td>\n",
       "      <td>Oui</td>\n",
       "      <td>Oui</td>\n",
       "      <td>Oui</td>\n",
       "      <td>Non</td>\n",
       "    </tr>\n",
       "    <tr>\n",
       "      <th>sushi:4</th>\n",
       "      <td>Oui</td>\n",
       "      <td>Non</td>\n",
       "      <td>Non</td>\n",
       "      <td>Oui</td>\n",
       "      <td>Non</td>\n",
       "      <td>Non</td>\n",
       "      <td>Non</td>\n",
       "      <td>Non</td>\n",
       "      <td>Non</td>\n",
       "      <td>Non</td>\n",
       "      <td>...</td>\n",
       "      <td>Oui</td>\n",
       "      <td>Oui</td>\n",
       "      <td>Non</td>\n",
       "      <td>Oui</td>\n",
       "      <td>Oui</td>\n",
       "      <td>Oui</td>\n",
       "      <td>Non</td>\n",
       "      <td>Oui</td>\n",
       "      <td>Non</td>\n",
       "      <td>Non</td>\n",
       "    </tr>\n",
       "    <tr>\n",
       "      <th>...</th>\n",
       "      <td>...</td>\n",
       "      <td>...</td>\n",
       "      <td>...</td>\n",
       "      <td>...</td>\n",
       "      <td>...</td>\n",
       "      <td>...</td>\n",
       "      <td>...</td>\n",
       "      <td>...</td>\n",
       "      <td>...</td>\n",
       "      <td>...</td>\n",
       "      <td>...</td>\n",
       "      <td>...</td>\n",
       "      <td>...</td>\n",
       "      <td>...</td>\n",
       "      <td>...</td>\n",
       "      <td>...</td>\n",
       "      <td>...</td>\n",
       "      <td>...</td>\n",
       "      <td>...</td>\n",
       "      <td>...</td>\n",
       "      <td>...</td>\n",
       "    </tr>\n",
       "    <tr>\n",
       "      <th>sushi:99995</th>\n",
       "      <td>Non</td>\n",
       "      <td>Oui</td>\n",
       "      <td>Oui</td>\n",
       "      <td>Non</td>\n",
       "      <td>Non</td>\n",
       "      <td>Oui</td>\n",
       "      <td>Oui</td>\n",
       "      <td>Non</td>\n",
       "      <td>Non</td>\n",
       "      <td>Oui</td>\n",
       "      <td>...</td>\n",
       "      <td>Non</td>\n",
       "      <td>Non</td>\n",
       "      <td>Non</td>\n",
       "      <td>Oui</td>\n",
       "      <td>Non</td>\n",
       "      <td>Oui</td>\n",
       "      <td>Non</td>\n",
       "      <td>Oui</td>\n",
       "      <td>Non</td>\n",
       "      <td>Non</td>\n",
       "    </tr>\n",
       "    <tr>\n",
       "      <th>sushi:99996</th>\n",
       "      <td>Non</td>\n",
       "      <td>Oui</td>\n",
       "      <td>Non</td>\n",
       "      <td>Non</td>\n",
       "      <td>Non</td>\n",
       "      <td>Oui</td>\n",
       "      <td>Oui</td>\n",
       "      <td>Oui</td>\n",
       "      <td>Oui</td>\n",
       "      <td>Non</td>\n",
       "      <td>...</td>\n",
       "      <td>Non</td>\n",
       "      <td>Oui</td>\n",
       "      <td>Non</td>\n",
       "      <td>Non</td>\n",
       "      <td>Non</td>\n",
       "      <td>Oui</td>\n",
       "      <td>Oui</td>\n",
       "      <td>Oui</td>\n",
       "      <td>Oui</td>\n",
       "      <td>Oui</td>\n",
       "    </tr>\n",
       "    <tr>\n",
       "      <th>sushi:99997</th>\n",
       "      <td>Oui</td>\n",
       "      <td>Non</td>\n",
       "      <td>Non</td>\n",
       "      <td>Non</td>\n",
       "      <td>Oui</td>\n",
       "      <td>Non</td>\n",
       "      <td>Oui</td>\n",
       "      <td>Oui</td>\n",
       "      <td>Oui</td>\n",
       "      <td>Non</td>\n",
       "      <td>...</td>\n",
       "      <td>Non</td>\n",
       "      <td>Oui</td>\n",
       "      <td>Non</td>\n",
       "      <td>Oui</td>\n",
       "      <td>Non</td>\n",
       "      <td>Oui</td>\n",
       "      <td>Oui</td>\n",
       "      <td>Oui</td>\n",
       "      <td>Oui</td>\n",
       "      <td>Oui</td>\n",
       "    </tr>\n",
       "    <tr>\n",
       "      <th>sushi:99998</th>\n",
       "      <td>Oui</td>\n",
       "      <td>Non</td>\n",
       "      <td>Non</td>\n",
       "      <td>Non</td>\n",
       "      <td>Non</td>\n",
       "      <td>Oui</td>\n",
       "      <td>Non</td>\n",
       "      <td>Oui</td>\n",
       "      <td>Oui</td>\n",
       "      <td>Oui</td>\n",
       "      <td>...</td>\n",
       "      <td>Non</td>\n",
       "      <td>Oui</td>\n",
       "      <td>Non</td>\n",
       "      <td>Non</td>\n",
       "      <td>Non</td>\n",
       "      <td>Non</td>\n",
       "      <td>Non</td>\n",
       "      <td>Oui</td>\n",
       "      <td>Oui</td>\n",
       "      <td>Non</td>\n",
       "    </tr>\n",
       "    <tr>\n",
       "      <th>sushi:99999</th>\n",
       "      <td>Non</td>\n",
       "      <td>Non</td>\n",
       "      <td>Non</td>\n",
       "      <td>Oui</td>\n",
       "      <td>Oui</td>\n",
       "      <td>Oui</td>\n",
       "      <td>Oui</td>\n",
       "      <td>Oui</td>\n",
       "      <td>Non</td>\n",
       "      <td>Non</td>\n",
       "      <td>...</td>\n",
       "      <td>Oui</td>\n",
       "      <td>Non</td>\n",
       "      <td>Non</td>\n",
       "      <td>Oui</td>\n",
       "      <td>Oui</td>\n",
       "      <td>Oui</td>\n",
       "      <td>Non</td>\n",
       "      <td>Oui</td>\n",
       "      <td>Non</td>\n",
       "      <td>Non</td>\n",
       "    </tr>\n",
       "  </tbody>\n",
       "</table>\n",
       "<p>100000 rows × 73 columns</p>\n",
       "</div>"
      ],
      "text/plain": [
       "            saumon saumon_teriyaki daurade thon crevette poulet thon_cuit  \\\n",
       "sushi:0        Non             Non     Oui  Non      Non    Non       Non   \n",
       "sushi:1        Oui             Oui     Non  Oui      Non    Oui       Non   \n",
       "sushi:2        Non             Oui     Oui  Oui      Non    Oui       Non   \n",
       "sushi:3        Oui             Non     Non  Non      Non    Oui       Non   \n",
       "sushi:4        Oui             Non     Non  Oui      Non    Non       Non   \n",
       "...            ...             ...     ...  ...      ...    ...       ...   \n",
       "sushi:99995    Non             Oui     Oui  Non      Non    Oui       Oui   \n",
       "sushi:99996    Non             Oui     Non  Non      Non    Oui       Oui   \n",
       "sushi:99997    Oui             Non     Non  Non      Oui    Non       Oui   \n",
       "sushi:99998    Oui             Non     Non  Non      Non    Oui       Non   \n",
       "sushi:99999    Non             Non     Non  Oui      Oui    Oui       Oui   \n",
       "\n",
       "            foie_gras tofu truite  ... citron_jaune dattes laitue roquette  \\\n",
       "sushi:0           Non  Non    Non  ...          Oui    Non    Non      Oui   \n",
       "sushi:1           Oui  Non    Non  ...          Non    Non    Non      Non   \n",
       "sushi:2           Non  Non    Non  ...          Oui    Non    Oui      Non   \n",
       "sushi:3           Non  Non    Non  ...          Oui    Oui    Oui      Non   \n",
       "sushi:4           Non  Non    Non  ...          Oui    Oui    Non      Oui   \n",
       "...               ...  ...    ...  ...          ...    ...    ...      ...   \n",
       "sushi:99995       Non  Non    Oui  ...          Non    Non    Non      Oui   \n",
       "sushi:99996       Oui  Oui    Non  ...          Non    Oui    Non      Non   \n",
       "sushi:99997       Oui  Oui    Non  ...          Non    Oui    Non      Oui   \n",
       "sushi:99998       Oui  Oui    Oui  ...          Non    Oui    Non      Non   \n",
       "sushi:99999       Oui  Non    Non  ...          Oui    Non    Non      Oui   \n",
       "\n",
       "            concombre poivrons asperge oignons_crus oignons_caramelises  \\\n",
       "sushi:0           Non      Non     Oui          Oui                 Oui   \n",
       "sushi:1           Non      Oui     Oui          Non                 Oui   \n",
       "sushi:2           Non      Non     Oui          Non                 Non   \n",
       "sushi:3           Oui      Non     Oui          Oui                 Oui   \n",
       "sushi:4           Oui      Oui     Non          Oui                 Non   \n",
       "...               ...      ...     ...          ...                 ...   \n",
       "sushi:99995       Non      Oui     Non          Oui                 Non   \n",
       "sushi:99996       Non      Oui     Oui          Oui                 Oui   \n",
       "sushi:99997       Non      Oui     Oui          Oui                 Oui   \n",
       "sushi:99998       Non      Non     Non          Oui                 Oui   \n",
       "sushi:99999       Oui      Oui     Non          Oui                 Non   \n",
       "\n",
       "            oignons_frits  \n",
       "sushi:0               Oui  \n",
       "sushi:1               Oui  \n",
       "sushi:2               Non  \n",
       "sushi:3               Non  \n",
       "sushi:4               Non  \n",
       "...                   ...  \n",
       "sushi:99995           Non  \n",
       "sushi:99996           Oui  \n",
       "sushi:99997           Oui  \n",
       "sushi:99998           Non  \n",
       "sushi:99999           Non  \n",
       "\n",
       "[100000 rows x 73 columns]"
      ]
     },
     "execution_count": 34,
     "metadata": {},
     "output_type": "execute_result"
    }
   ],
   "source": [
    "ingredient_df = item_ingredient()\n",
    "ingredient_df"
   ]
  },
  {
   "cell_type": "markdown",
   "metadata": {},
   "source": [
    "La fonction `sushi_interet`, définie ci-dessous, est très pratique pour les clients. Ceux-ci peuvent entrer en arguments une liste des ingrédients qu'ils aiment dans les sushis, et la fonction leur retourne tous les sushis de la carte qui contiennent l'ensemble de ces ingrédients récupérés précédemment sur la database redis."
   ]
  },
  {
   "cell_type": "code",
   "execution_count": 51,
   "metadata": {},
   "outputs": [],
   "source": [
    "def sushi_interet(r,liste_ingredients,ingredient_df):\n",
    "        \n",
    "    sushi_interessant = [] # Liste qui stockera les numéros de tous les sushis contenant tous les ingrédients de liste_ingredients\n",
    "    for j in range(len(ingredient_df)): # On prend tous les sushis successivement ...\n",
    "        if all(ingredient_df.iloc[j][liste_ingredients]==\"Oui\"): # ... et on regarde s'ils contiennent tous les ingrédients demandés\n",
    "            sushi_interessant.append(j)\n",
    "            \n",
    "    phrase = \"Vous pourriez apprécier les sushis suivants : \"\n",
    "    for i in range(len(sushi_interessant)):\n",
    "        phrase += \"sushi:\"+str(sushi_interessant[i])+\" \"\n",
    "\n",
    "    print(phrase)\n",
    "    return(sushi_interessant)"
   ]
  },
  {
   "cell_type": "markdown",
   "metadata": {},
   "source": [
    "Faisons un essai : je suis un client qui aime le saumon, l'avocat, le thon, la roquette, la cannelle, la cardamone, le curcuma, les fèves, les edamame, le paprika, le piment, le poivre et le safran, et je souhaiterais un sushi qui mélange toutes ces saveurs (rien que ça)."
   ]
  },
  {
   "cell_type": "code",
   "execution_count": 47,
   "metadata": {},
   "outputs": [
    {
     "name": "stdout",
     "output_type": "stream",
     "text": [
      "Vous pourriez apprécier les sushis suivants : sushi:1083 sushi:1872 sushi:11616 sushi:12887 sushi:16489 sushi:20978 sushi:22943 sushi:24880 sushi:25332 sushi:37258 sushi:39997 sushi:59722 sushi:73204 sushi:75115 sushi:80214 sushi:84255 sushi:93868 sushi:94754 \n"
     ]
    },
    {
     "data": {
      "text/plain": [
       "[1083,\n",
       " 1872,\n",
       " 11616,\n",
       " 12887,\n",
       " 16489,\n",
       " 20978,\n",
       " 22943,\n",
       " 24880,\n",
       " 25332,\n",
       " 37258,\n",
       " 39997,\n",
       " 59722,\n",
       " 73204,\n",
       " 75115,\n",
       " 80214,\n",
       " 84255,\n",
       " 93868,\n",
       " 94754]"
      ]
     },
     "execution_count": 47,
     "metadata": {},
     "output_type": "execute_result"
    }
   ],
   "source": [
    "liste_ingredients = ['saumon', 'avocat', 'thon', 'roquette', 'cannelle', 'cardamome', 'curcuma',\n",
    "                     'feve', 'edamame', 'paprika', 'piment', 'poivre', 'safran']\n",
    "sushi_interet(r,liste_ingredients,ingredient_df)"
   ]
  },
  {
   "cell_type": "markdown",
   "metadata": {},
   "source": [
    "## Bilan de l'outil SGBD Redis"
   ]
  },
  {
   "cell_type": "markdown",
   "metadata": {},
   "source": [
    "Redis présente de nombreux **avantages** :\n",
    "- Une prise en main très facile et une super documentation : tout est renseigné, on comprend assez vite le fonctionnement de ce SGBD.\n",
    "- Il est Open Source et accessible facilement (ce n'est toutefois pas le cas de l'environnement autour, car le projet a été repris par une entreprise : [redislabs](https://redislabs.com/)).\n",
    "- Il est très flexible (Redis permet de manipuler facilement à peu près n’importe quel type de données).\n",
    "- Il permet également une très bonne portabilité (les données, et plus particulièrement les clefs/valeurs stockées peuvent être facilement déplacées d’un système à l’autre sans avoir à réécrire du code)."
   ]
  },
  {
   "cell_type": "markdown",
   "metadata": {},
   "source": [
    "**Toutefois :** <br>\n",
    "- Il est difficile de se projeter dans l'usage de ce SGBD : il est très différent des autres et assez spécifique. Même si on peux l'utiliser pour tout usage, il sera surtout performant dans des tâches spécifiques.\n",
    "- La persistance des données n’étant pas optimale sur Redis, ce SGBD est souvent utilisé comme base de données secondaire, en complément d’un autre type de base de données.\n",
    "- Il est recommandé de ne pas stocker sur Redis des informations sensibles ou des informations que l’on n’a pas conservé ailleurs. Toutefois, afin d’assurer la persistance des données (et d’éviter la perte de données en cas d’incident tel qu’un crash), Redis offre la possibilité de capturer l’état de la base de données à un temps donné dans un fichier .rdb.\n",
    "- L’accès aux données n’est pas sécurisé. Une personne connectée sur le serveur pourra exploiter toutes les données Redis, il n’est donc pas conseillé de stocker des données sensibles sur ce SGBD."
   ]
  }
 ],
 "metadata": {
  "celltoolbar": "Format de la Cellule Texte Brut",
  "kernelspec": {
   "display_name": "Python 3",
   "language": "python",
   "name": "python3"
  },
  "language_info": {
   "codemirror_mode": {
    "name": "ipython",
    "version": 3
   },
   "file_extension": ".py",
   "mimetype": "text/x-python",
   "name": "python",
   "nbconvert_exporter": "python",
   "pygments_lexer": "ipython3",
   "version": "3.8.3"
  }
 },
 "nbformat": 4,
 "nbformat_minor": 4
}
